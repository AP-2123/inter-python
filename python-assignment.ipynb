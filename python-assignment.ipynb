{
 "cells": [
  {
   "cell_type": "markdown",
   "id": "2e59259c",
   "metadata": {},
   "source": [
    "## Python"
   ]
  },
  {
   "cell_type": "markdown",
   "id": "1e670fc4",
   "metadata": {},
   "source": [
    "### Question 1: -\n",
    "**Write a program that takes a string as input, and counts the frequency of each word in the string, there might\n",
    "be repeated characters in the string. Your task is to find the highest frequency and returns the length of the\n",
    "highest-frequency word.**\n",
    "\n",
    "**Note** - You have to write at least 2 additional test cases in which your program will run successfully and provide\n",
    "an explanation for the same.\n",
    "\n",
    "**Example input** - string = “write write write all the number from from from 1 to 100”\n",
    "\n",
    "**Example output** - 5\n",
    "\n",
    "**Explanation** - From the given string we can note that the most frequent words are “write” and “from” and\n",
    "the maximum value of both the values is “write” and its corresponding length is 5"
   ]
  },
  {
   "cell_type": "code",
   "execution_count": 1,
   "id": "d42e1af5",
   "metadata": {},
   "outputs": [],
   "source": [
    "def highest_freq_word_len(string):\n",
    "    \"\"\"\n",
    "    This function returns max length of word that has max occurance.\n",
    "    ===========================================================================================================\n",
    "    Args:\n",
    "    string: Input string->str\n",
    "    \n",
    "    Returns:\n",
    "    max length of the word->int\n",
    "    \n",
    "    \"\"\"\n",
    "    try:\n",
    "        # Split input words\n",
    "        words = string.split()\n",
    "        #initiate empty dict\n",
    "        word_freq = {}\n",
    "        for word in words:\n",
    "            if word in word_freq:\n",
    "                word_freq[word] += 1\n",
    "            else:\n",
    "                word_freq[word] = 1\n",
    "        #find frequency of the word that that most occurance\n",
    "        highest_freq = max(word_freq.values())\n",
    "        #find max length of word that has most occurance\n",
    "        highest_freq_words = []\n",
    "\n",
    "        for word, freq in word_freq.items():\n",
    "            if freq == highest_freq:\n",
    "                highest_freq_words.append(word)\n",
    "\n",
    "        highest_freq_word_len = max(len(word) for word in highest_freq_words)\n",
    "\n",
    "        return highest_freq_word_len\n",
    "    \n",
    "    except:\n",
    "        return \"An error occured\"\n"
   ]
  },
  {
   "cell_type": "code",
   "execution_count": 2,
   "id": "7b586c3d",
   "metadata": {},
   "outputs": [
    {
     "data": {
      "text/plain": [
       "5"
      ]
     },
     "execution_count": 2,
     "metadata": {},
     "output_type": "execute_result"
    }
   ],
   "source": [
    "highest_freq_word_len('write write write all the number from from from 1 to 100')"
   ]
  },
  {
   "cell_type": "code",
   "execution_count": 3,
   "id": "5218f5ca",
   "metadata": {},
   "outputs": [
    {
     "data": {
      "text/plain": [
       "5"
      ]
     },
     "execution_count": 3,
     "metadata": {},
     "output_type": "execute_result"
    }
   ],
   "source": [
    "highest_freq_word_len('hello Hello hello how are are you')"
   ]
  },
  {
   "cell_type": "raw",
   "id": "2f6b20d9",
   "metadata": {},
   "source": [
    "From the given string we can note that the most frequent words are “hello” and “are” and the maximum value of both the values is “hello” and its corresponding length is 5"
   ]
  },
  {
   "cell_type": "code",
   "execution_count": 4,
   "id": "6dad017c",
   "metadata": {},
   "outputs": [
    {
     "data": {
      "text/plain": [
       "3"
      ]
     },
     "execution_count": 4,
     "metadata": {},
     "output_type": "execute_result"
    }
   ],
   "source": [
    "highest_freq_word_len('hello Hello hello how are are are you')"
   ]
  },
  {
   "cell_type": "markdown",
   "id": "c9e2d9a5",
   "metadata": {},
   "source": [
    " - From the given string we can note that the most frequent word is “are” and its corresponding length is 3"
   ]
  },
  {
   "cell_type": "markdown",
   "id": "9d37563f",
   "metadata": {},
   "source": [
    "### Question 2: -\n",
    "\n",
    "**Consider a string to be valid if all characters of the string appear the same number of times. It is also valid if\n",
    "he can remove just one character at the index in the string, and the remaining characters will occur the same\n",
    "number of times. Given a string, determine if it is valid. If so, return YES , otherwise return NO .**\n",
    "\n",
    "**Note** - You have to write at least 2 additional test cases in which your program will run successfully and provide\n",
    "an explanation for the same.\n",
    "\n",
    "Example input 1 - s = “abc”. This is a valid string because frequencies are { “a”: 1, “b”: 1, “c”: 1 }\n",
    "\n",
    "Example output 1- YES\n",
    "\n",
    "Example input 2 - s “abcc”. This string is not valid as we can remove only 1 occurrence of “c”. That leaves\n",
    "character frequencies of { “a”: 1, “b”: 1 , “c”: 2 }\n",
    "\n",
    "Example output 2 - NO"
   ]
  },
  {
   "cell_type": "code",
   "execution_count": 5,
   "id": "9e878e9f",
   "metadata": {},
   "outputs": [],
   "source": [
    "def str_valid(string):\n",
    "    \"\"\"\n",
    "    This function returns whether the given string is valid or not.\n",
    "    ===========================================================================================================\n",
    "    Args:\n",
    "    string: Input string->str\n",
    "    \n",
    "    Returns:\n",
    "    yes/no->str\n",
    "    \n",
    "    \"\"\"\n",
    "    try:\n",
    "        # Count the frequency of each character in the string\n",
    "        char_count = {}\n",
    "        for char in string:\n",
    "            if char in char_count:\n",
    "                char_count[char] += 1\n",
    "            else:\n",
    "                char_count[char] = 1\n",
    "        # Count the frequency\n",
    "        freq_count = {}\n",
    "        for freq in char_count.values():\n",
    "            if freq in freq_count:\n",
    "                freq_count[freq] += 1\n",
    "            else:\n",
    "                freq_count[freq] = 1\n",
    "\n",
    "        if len(freq_count) == 1:\n",
    "            return \"YES\"\n",
    "        elif len(freq_count) == 2:\n",
    "            min_freq, max_freq = sorted(freq_count.keys())\n",
    "            if freq_count[min_freq] == 1 and min_freq == 1:\n",
    "                return \"YES\"\n",
    "            if freq_count[max_freq] == 1 and max_freq - min_freq == 1:\n",
    "                return \"YES\"\n",
    "\n",
    "        return \"NO\"\n",
    "    \n",
    "    except:\n",
    "        return \"An error occured\"\n"
   ]
  },
  {
   "cell_type": "code",
   "execution_count": 6,
   "id": "6f5fff12",
   "metadata": {},
   "outputs": [
    {
     "data": {
      "text/plain": [
       "'YES'"
      ]
     },
     "execution_count": 6,
     "metadata": {},
     "output_type": "execute_result"
    }
   ],
   "source": [
    "str_valid('abc')"
   ]
  },
  {
   "cell_type": "code",
   "execution_count": 7,
   "id": "010bb3a9",
   "metadata": {},
   "outputs": [
    {
     "data": {
      "text/plain": [
       "'YES'"
      ]
     },
     "execution_count": 7,
     "metadata": {},
     "output_type": "execute_result"
    }
   ],
   "source": [
    "str_valid('abcc')"
   ]
  },
  {
   "cell_type": "markdown",
   "id": "03f421f2",
   "metadata": {},
   "source": [
    "- This string is valid as we can remove only 1 occurrence of “c”. That leaves character frequencies of { “a”: 1, “b”: 1 , “c”: 1 }"
   ]
  },
  {
   "cell_type": "code",
   "execution_count": 8,
   "id": "f71237ca",
   "metadata": {},
   "outputs": [
    {
     "data": {
      "text/plain": [
       "'NO'"
      ]
     },
     "execution_count": 8,
     "metadata": {},
     "output_type": "execute_result"
    }
   ],
   "source": [
    "str_valid('abccc')"
   ]
  },
  {
   "cell_type": "markdown",
   "id": "ce1f8966",
   "metadata": {},
   "source": [
    "- This string is not valid as we can remove only 1 occurrence of “c”. That leaves character frequencies of { “a”: 1, “b”: 1 , “c”: 2 }"
   ]
  },
  {
   "cell_type": "code",
   "execution_count": 9,
   "id": "ff39ece4",
   "metadata": {},
   "outputs": [
    {
     "data": {
      "text/plain": [
       "'NO'"
      ]
     },
     "execution_count": 9,
     "metadata": {},
     "output_type": "execute_result"
    }
   ],
   "source": [
    "str_valid('aabbbbcc')"
   ]
  },
  {
   "cell_type": "markdown",
   "id": "c6243b78",
   "metadata": {},
   "source": [
    "- This string is not valid as we can remove only 1 occurrence of “b”. That leaves character frequencies of { “a”: 2, “b”: 3 , “c”: 2 }"
   ]
  },
  {
   "cell_type": "code",
   "execution_count": 10,
   "id": "2843728b",
   "metadata": {},
   "outputs": [
    {
     "data": {
      "text/plain": [
       "'NO'"
      ]
     },
     "execution_count": 10,
     "metadata": {},
     "output_type": "execute_result"
    }
   ],
   "source": [
    "str_valid('aaabbbcc')"
   ]
  },
  {
   "cell_type": "markdown",
   "id": "f9ea316b",
   "metadata": {},
   "source": [
    "- This string is not valid as we can remove only 1 occurrence of “a” or “b”. That leaves character frequencies of { “a”: 2, “b”: 3 , “c”: 2 } or { “a”: 3, “b”: 2 , “c”: 2 }"
   ]
  },
  {
   "cell_type": "markdown",
   "id": "07d811f4",
   "metadata": {},
   "source": [
    "### Question 3:\n",
    "\n",
    "**Write a program, which would download the data from the provided link, and then read the data and convert\n",
    "that into properly structured data and return it in Excel format.**\n",
    "\n",
    "**Note** - Write comments wherever necessary explaining the code written.\n",
    "\n",
    "**Link** - https://raw.githubusercontent.com/Biuni/PokemonGO-Pokedex/master/pokedex.json\n",
    "    \n",
    "Data Attributes - \n",
    "- id: Identification Number - int \n",
    "- num: Number of the Pokémon in the official Pokédex - int \n",
    "- name: Pokémon name -string \n",
    "- img: URL to an image of this Pokémon - string \n",
    "- type:Pokémon type -string \n",
    "- height: Pokémon height - float\n",
    "- weight: Pokémon weight - float \n",
    "- candy: type of candy used to evolve Pokémon or given when transferred - string \n",
    "- candy_count: the amount of candies required to evolve-int\n",
    "- egg: Number of kilometers to travel to hatch the egg - float \n",
    "- spawn_chance: Percentage of spawn chance (NEW) - float \n",
    "- avg_spawns: Number of this pokemon on 10.000 spawns (NEW) - int\n",
    "- spawn_time: Spawns most active at the time on this field. Spawn times are the same for all\n",
    "time zones and are expressed in local time. (NEW) - “minutes: seconds” \n",
    "- multipliers: Multiplier of Combat Power (CP) for calculating the CP after evolution See below - list of int\n",
    "- weakness: Types of Pokémon this Pokémon is weak to - list of strings \n",
    "- next_evolution: Number and Name of successive evolutions of Pokémon - list of dict\n",
    "- prev_evolution: Number and Name of previous evolutions of Pokémon - list of dict"
   ]
  },
  {
   "cell_type": "code",
   "execution_count": 11,
   "id": "9f3e5dd1",
   "metadata": {},
   "outputs": [],
   "source": [
    "import requests\n",
    "import json\n",
    "import pandas as pd\n",
    "\n",
    "def download_and_convert_to_excel(link, output_file):\n",
    "    \"\"\"\n",
    "    This function download data from link and returns excel document.\n",
    "    ===========================================================================================================\n",
    "    Args:\n",
    "    string: Input string->link,output file name\n",
    "    \n",
    "    Returns:\n",
    "    excel file\n",
    "    \n",
    "    \"\"\"\n",
    "    try:\n",
    "        # Download the data from the provided link\n",
    "        response = requests.get(link)\n",
    "        data = response.json()\n",
    "\n",
    "        # Convert the data to a Pandas DataFrame\n",
    "        df = pd.DataFrame(data['pokemon'])\n",
    "        #extracting data from 'egg' column\n",
    "        df['egg'] = df['egg'].replace(['Not in Eggs','Omanyte Candy','2 km','5 km','10 km'],[0,0,2,5,10])\n",
    "        #changing datatype\n",
    "        df['height'] = df['height'].str.split(' ').str.get(0).astype('float')\n",
    "        df['weight'] = df['weight'].str.split(' ').str.get(0).astype('float')\n",
    "        #df['candy_count'] = df['candy_count'].astype('int')\n",
    "        #df['avg_spawns'] = df['avg_spawns'].astype('int')\n",
    "        df['egg'] = df['egg'].astype('float')\n",
    "        # Save the DataFrame to an Excel file\n",
    "        df.to_excel(output_file, index=False)\n",
    "        print(f\"Data downloaded and saved as '{output_file}'\")\n",
    "              \n",
    "    except:\n",
    "        print(\"An error occured\")"
   ]
  },
  {
   "cell_type": "code",
   "execution_count": 12,
   "id": "afdf8c56",
   "metadata": {},
   "outputs": [
    {
     "name": "stdout",
     "output_type": "stream",
     "text": [
      "Data downloaded and saved as 'pokemon_data.xlsx'\n"
     ]
    }
   ],
   "source": [
    "# Provide the link and output file path\n",
    "link = \"https://raw.githubusercontent.com/Biuni/PokemonGO-Pokedex/master/pokedex.json\"\n",
    "output_file = \"pokemon_data.xlsx\"\n",
    "\n",
    "# Call the function to download and convert the data\n",
    "download_and_convert_to_excel(link, output_file)"
   ]
  },
  {
   "cell_type": "markdown",
   "id": "7284d23f",
   "metadata": {},
   "source": [
    "### Question 4 \n",
    "\n",
    "**Write a program to download the data from the link given below and then read the data and convert the into\n",
    "the proper structure and return it as a CSV file.**\n",
    "\n",
    "**Link** - https://data.nasa.gov/resource/y77d-th95.json\n",
    "**Note** - Write code comments wherever needed for code understanding.\n",
    "\n",
    "Excepted Output Data Attributes\n",
    "- Name of Earth Meteorite - string \n",
    "- id - ID of Earth Meteorite - int \n",
    "- nametype - string \n",
    "- recclass - string\n",
    "- mass - Mass of Earth Meteorite - float \n",
    "- year - Year at which Earth Meteorite was hit - datetime format \n",
    "- reclat - float \n",
    "- recclong - float\n",
    "- point coordinates - list of int"
   ]
  },
  {
   "cell_type": "code",
   "execution_count": 13,
   "id": "563d155e",
   "metadata": {},
   "outputs": [],
   "source": [
    "import requests\n",
    "import json\n",
    "import pandas as pd"
   ]
  },
  {
   "cell_type": "code",
   "execution_count": 14,
   "id": "7a39ec24",
   "metadata": {},
   "outputs": [],
   "source": [
    "def download_and_convert_to_csv(link, output_file):\n",
    "    \"\"\"\n",
    "    This function download data from link and returns csv document.\n",
    "    ===========================================================================================================\n",
    "    Args:\n",
    "    string: Input string->link,output file name\n",
    "    \n",
    "    Returns:\n",
    "    csv file\n",
    "    \"\"\"\n",
    "    try:\n",
    "        # Download the data from the provided link\n",
    "        response = requests.get(link)\n",
    "        data = response.json()\n",
    "        # Convert to DataFrame\n",
    "        df = pd.DataFrame(data)\n",
    "        #creating new column 'point coordinates'\n",
    "        df['point coordinates'] =  df['geolocation'].apply(lambda x :list(df['geolocation'].iloc[0].values())[1])\n",
    "        # Remove geolocation column and other two columns\n",
    "        df.drop(columns = ['geolocation',':@computed_region_cbhk_fwbd',':@computed_region_nnqa_25f4'], axis=1, inplace=True)\n",
    "        # Save DataFrame to CSV file\n",
    "        print(f\"Data downloaded and saved as '{output_file}'\")\n",
    "              \n",
    "    except:\n",
    "        print(\"An error occured\")"
   ]
  },
  {
   "cell_type": "code",
   "execution_count": 15,
   "id": "7ff7ac10",
   "metadata": {},
   "outputs": [
    {
     "name": "stdout",
     "output_type": "stream",
     "text": [
      "Data downloaded and saved as 'nasa_data.csv'\n"
     ]
    }
   ],
   "source": [
    "# Provide the link and output file path\n",
    "link = \"https://data.nasa.gov/resource/y77d-th95.json\"\n",
    "output_file = \"nasa_data.csv\"\n",
    "\n",
    "# Call the function to download and convert the data\n",
    "download_and_convert_to_csv(link, output_file)"
   ]
  },
  {
   "cell_type": "markdown",
   "id": "aa870aa6",
   "metadata": {},
   "source": [
    "### Question 5\n",
    "\n",
    "**Write a program to download the data from the given API link and then extract the following data with\n",
    "proper formatting**\n",
    "\n",
    "**Link** - http://api.tvmaze.com/singlesearch/shows?q=westworld&embed=episodes\n",
    "**Note** - Write proper code comments wherever needed for the code understanding\n",
    "\n",
    "Excepted Output Data Attributes -\n",
    "- id - int \n",
    "- url - string\n",
    "- name - string \n",
    "- season- int \n",
    "- number - int\n",
    "- type - string \n",
    "- airdate -date format \n",
    "- airtime - 12-hour time format\n",
    "- runtime - float\n",
    "- average rating - float\n",
    "- summary - string\n",
    "- without html tags\n",
    "- medium image link - string\n",
    "- Original image link - string"
   ]
  },
  {
   "cell_type": "code",
   "execution_count": 16,
   "id": "e2f184ae",
   "metadata": {},
   "outputs": [],
   "source": [
    "import requests\n",
    "import json\n",
    "import pandas as pd"
   ]
  },
  {
   "cell_type": "code",
   "execution_count": 17,
   "id": "ffd41271",
   "metadata": {},
   "outputs": [],
   "source": [
    "def download_and_convert_to_csv(link, output_file):\n",
    "    \"\"\"\n",
    "    This function download data from link and returns csv document.\n",
    "    ===========================================================================================================\n",
    "    Args:\n",
    "    string: Input string->link,output file name\n",
    "    \n",
    "    Returns:\n",
    "    csv file\n",
    "    \"\"\"\n",
    "    try:\n",
    "        # Download the data from the provided link\n",
    "        response = requests.get(link)\n",
    "        data = response.json()\n",
    "        data = data['_embedded']\n",
    "        # Convert to DataFrame\n",
    "        df = pd.DataFrame(data['episodes'])\n",
    "        #changing datatype.\n",
    "        df['runtime'] = df['runtime'].astype('int')\n",
    "        #creating new column 'medium image link'\n",
    "        df['medium image link'] =  df['image'].apply(lambda x :list(df['image'].iloc[0].values())[0])\n",
    "        #creating new column 'Original image link'\n",
    "        df['Original image link'] =  df['image'].apply(lambda x :list(df['image'].iloc[0].values())[1])\n",
    "        df.drop(columns=['image','airstamp','_links'],axis=1,inplace=True)\n",
    "        # Save DataFrame to CSV file\n",
    "        df.to_csv(output_file, index=False)\n",
    "        print(f\"Data downloaded and saved as '{output_file}'\")\n",
    "              \n",
    "    except:\n",
    "        print(\"An error occured\")"
   ]
  },
  {
   "cell_type": "code",
   "execution_count": 18,
   "id": "58e488f4",
   "metadata": {},
   "outputs": [
    {
     "name": "stdout",
     "output_type": "stream",
     "text": [
      "Data downloaded and saved as 'westworld.csv'\n"
     ]
    }
   ],
   "source": [
    "# Provide the link and output file path\n",
    "link = \" http://api.tvmaze.com/singlesearch/shows?q=westworld&embed=episodes\"\n",
    "output_file = \"westworld.csv\"\n",
    "# Call the function to download and convert the data\n",
    "download_and_convert_to_csv(link, output_file)"
   ]
  },
  {
   "cell_type": "code",
   "execution_count": 19,
   "id": "2491ace4",
   "metadata": {},
   "outputs": [],
   "source": [
    "df = pd.read_csv('../python/westworld.csv')"
   ]
  },
  {
   "cell_type": "code",
   "execution_count": 20,
   "id": "cb1ee554",
   "metadata": {},
   "outputs": [],
   "source": [
    "#changing datatypes\n",
    "df['airdate'] = pd.to_datetime(df['airdate'])"
   ]
  },
  {
   "cell_type": "code",
   "execution_count": 21,
   "id": "b1f97199",
   "metadata": {},
   "outputs": [],
   "source": [
    "df['airtime'] = pd.to_datetime(df['airtime'])"
   ]
  },
  {
   "cell_type": "code",
   "execution_count": 22,
   "id": "7a3ac571",
   "metadata": {},
   "outputs": [],
   "source": [
    "df['airtime'] = pd.to_datetime(df['airtime']).dt.strftime('%I:%M %p')"
   ]
  },
  {
   "cell_type": "code",
   "execution_count": 23,
   "id": "49fd62f2",
   "metadata": {},
   "outputs": [],
   "source": [
    "df['airtime'] = pd.to_datetime(df['airtime'])"
   ]
  },
  {
   "cell_type": "code",
   "execution_count": 24,
   "id": "b940a43a",
   "metadata": {},
   "outputs": [
    {
     "name": "stdout",
     "output_type": "stream",
     "text": [
      "<class 'pandas.core.frame.DataFrame'>\n",
      "RangeIndex: 36 entries, 0 to 35\n",
      "Data columns (total 13 columns):\n",
      " #   Column               Non-Null Count  Dtype         \n",
      "---  ------               --------------  -----         \n",
      " 0   id                   36 non-null     int64         \n",
      " 1   url                  36 non-null     object        \n",
      " 2   name                 36 non-null     object        \n",
      " 3   season               36 non-null     int64         \n",
      " 4   number               36 non-null     int64         \n",
      " 5   type                 36 non-null     object        \n",
      " 6   airdate              36 non-null     datetime64[ns]\n",
      " 7   airtime              36 non-null     datetime64[ns]\n",
      " 8   runtime              36 non-null     int64         \n",
      " 9   rating               36 non-null     object        \n",
      " 10  summary              36 non-null     object        \n",
      " 11  medium image link    36 non-null     object        \n",
      " 12  Original image link  36 non-null     object        \n",
      "dtypes: datetime64[ns](2), int64(4), object(7)\n",
      "memory usage: 3.8+ KB\n"
     ]
    }
   ],
   "source": [
    "df.info()"
   ]
  },
  {
   "cell_type": "code",
   "execution_count": 25,
   "id": "5445dca6",
   "metadata": {},
   "outputs": [],
   "source": [
    "#saving updated file\n",
    "df.to_csv('westworld.csv')"
   ]
  },
  {
   "cell_type": "markdown",
   "id": "647e44e9",
   "metadata": {},
   "source": [
    "### Question 6 -\n",
    "**Using the data from Question 3, write code to analyze the data and answer the following questions**\n",
    "\n",
    "**Note** \n",
    "\n",
    "1. Draw plots to demonstrate the analysis for the following questions for better visualizations.\n",
    "2. Write code comments wherever required for code understanding\n",
    "\n",
    "Insights to be drawn -\n",
    "- Get all Pokemons whose spawn rate is less than 5%\n",
    "- Get all Pokemons that have less than 4 weaknesses\n",
    "- Get all Pokemons that have no multipliers at all\n",
    "- Get all Pokemons that do not have more than 2 evolutions\n",
    "- Get all Pokemons whose spawn time is less than 300 seconds.\n",
    "\n",
    "Note - spawn time format is \"05:32”, so assume “minute: second” format and perform the analysis.\n",
    "\n",
    "- Get all Pokemon who have more than two types of capabilities"
   ]
  },
  {
   "cell_type": "code",
   "execution_count": 26,
   "id": "677519b1",
   "metadata": {},
   "outputs": [],
   "source": [
    "import pandas as pd\n",
    "import numpy as np"
   ]
  },
  {
   "cell_type": "code",
   "execution_count": 27,
   "id": "b757d078",
   "metadata": {},
   "outputs": [],
   "source": [
    "df = pd.read_excel('../python/pokemon_data.xlsx')"
   ]
  },
  {
   "cell_type": "code",
   "execution_count": 28,
   "id": "4cefacd5",
   "metadata": {},
   "outputs": [
    {
     "data": {
      "text/html": [
       "<div>\n",
       "<style scoped>\n",
       "    .dataframe tbody tr th:only-of-type {\n",
       "        vertical-align: middle;\n",
       "    }\n",
       "\n",
       "    .dataframe tbody tr th {\n",
       "        vertical-align: top;\n",
       "    }\n",
       "\n",
       "    .dataframe thead th {\n",
       "        text-align: right;\n",
       "    }\n",
       "</style>\n",
       "<table border=\"1\" class=\"dataframe\">\n",
       "  <thead>\n",
       "    <tr style=\"text-align: right;\">\n",
       "      <th></th>\n",
       "      <th>id</th>\n",
       "      <th>num</th>\n",
       "      <th>name</th>\n",
       "      <th>img</th>\n",
       "      <th>type</th>\n",
       "      <th>height</th>\n",
       "      <th>weight</th>\n",
       "      <th>candy</th>\n",
       "      <th>candy_count</th>\n",
       "      <th>egg</th>\n",
       "      <th>spawn_chance</th>\n",
       "      <th>avg_spawns</th>\n",
       "      <th>spawn_time</th>\n",
       "      <th>multipliers</th>\n",
       "      <th>weaknesses</th>\n",
       "      <th>next_evolution</th>\n",
       "      <th>prev_evolution</th>\n",
       "    </tr>\n",
       "  </thead>\n",
       "  <tbody>\n",
       "    <tr>\n",
       "      <th>0</th>\n",
       "      <td>1</td>\n",
       "      <td>1</td>\n",
       "      <td>Bulbasaur</td>\n",
       "      <td>http://www.serebii.net/pokemongo/pokemon/001.png</td>\n",
       "      <td>['Grass', 'Poison']</td>\n",
       "      <td>0.71</td>\n",
       "      <td>6.9</td>\n",
       "      <td>Bulbasaur Candy</td>\n",
       "      <td>25.0</td>\n",
       "      <td>2</td>\n",
       "      <td>0.690</td>\n",
       "      <td>69.0</td>\n",
       "      <td>20:00</td>\n",
       "      <td>[1.58]</td>\n",
       "      <td>['Fire', 'Ice', 'Flying', 'Psychic']</td>\n",
       "      <td>[{'num': '002', 'name': 'Ivysaur'}, {'num': '0...</td>\n",
       "      <td>NaN</td>\n",
       "    </tr>\n",
       "    <tr>\n",
       "      <th>1</th>\n",
       "      <td>2</td>\n",
       "      <td>2</td>\n",
       "      <td>Ivysaur</td>\n",
       "      <td>http://www.serebii.net/pokemongo/pokemon/002.png</td>\n",
       "      <td>['Grass', 'Poison']</td>\n",
       "      <td>0.99</td>\n",
       "      <td>13.0</td>\n",
       "      <td>Bulbasaur Candy</td>\n",
       "      <td>100.0</td>\n",
       "      <td>0</td>\n",
       "      <td>0.042</td>\n",
       "      <td>4.2</td>\n",
       "      <td>07:00</td>\n",
       "      <td>[1.2, 1.6]</td>\n",
       "      <td>['Fire', 'Ice', 'Flying', 'Psychic']</td>\n",
       "      <td>[{'num': '003', 'name': 'Venusaur'}]</td>\n",
       "      <td>[{'num': '001', 'name': 'Bulbasaur'}]</td>\n",
       "    </tr>\n",
       "  </tbody>\n",
       "</table>\n",
       "</div>"
      ],
      "text/plain": [
       "   id  num       name                                               img  \\\n",
       "0   1    1  Bulbasaur  http://www.serebii.net/pokemongo/pokemon/001.png   \n",
       "1   2    2    Ivysaur  http://www.serebii.net/pokemongo/pokemon/002.png   \n",
       "\n",
       "                  type  height  weight            candy  candy_count  egg  \\\n",
       "0  ['Grass', 'Poison']    0.71     6.9  Bulbasaur Candy         25.0    2   \n",
       "1  ['Grass', 'Poison']    0.99    13.0  Bulbasaur Candy        100.0    0   \n",
       "\n",
       "   spawn_chance  avg_spawns spawn_time multipliers  \\\n",
       "0         0.690        69.0      20:00      [1.58]   \n",
       "1         0.042         4.2      07:00  [1.2, 1.6]   \n",
       "\n",
       "                             weaknesses  \\\n",
       "0  ['Fire', 'Ice', 'Flying', 'Psychic']   \n",
       "1  ['Fire', 'Ice', 'Flying', 'Psychic']   \n",
       "\n",
       "                                      next_evolution  \\\n",
       "0  [{'num': '002', 'name': 'Ivysaur'}, {'num': '0...   \n",
       "1               [{'num': '003', 'name': 'Venusaur'}]   \n",
       "\n",
       "                          prev_evolution  \n",
       "0                                    NaN  \n",
       "1  [{'num': '001', 'name': 'Bulbasaur'}]  "
      ]
     },
     "execution_count": 28,
     "metadata": {},
     "output_type": "execute_result"
    }
   ],
   "source": [
    "df.head(2)"
   ]
  },
  {
   "cell_type": "code",
   "execution_count": 29,
   "id": "a12993e1",
   "metadata": {},
   "outputs": [
    {
     "data": {
      "text/plain": [
       "(151, 17)"
      ]
     },
     "execution_count": 29,
     "metadata": {},
     "output_type": "execute_result"
    }
   ],
   "source": [
    "df.shape"
   ]
  },
  {
   "cell_type": "code",
   "execution_count": 30,
   "id": "04fb571b",
   "metadata": {},
   "outputs": [
    {
     "name": "stdout",
     "output_type": "stream",
     "text": [
      "<class 'pandas.core.frame.DataFrame'>\n",
      "RangeIndex: 151 entries, 0 to 150\n",
      "Data columns (total 17 columns):\n",
      " #   Column          Non-Null Count  Dtype  \n",
      "---  ------          --------------  -----  \n",
      " 0   id              151 non-null    int64  \n",
      " 1   num             151 non-null    int64  \n",
      " 2   name            151 non-null    object \n",
      " 3   img             151 non-null    object \n",
      " 4   type            151 non-null    object \n",
      " 5   height          151 non-null    float64\n",
      " 6   weight          151 non-null    float64\n",
      " 7   candy           151 non-null    object \n",
      " 8   candy_count     70 non-null     float64\n",
      " 9   egg             151 non-null    int64  \n",
      " 10  spawn_chance    151 non-null    float64\n",
      " 11  avg_spawns      151 non-null    float64\n",
      " 12  spawn_time      145 non-null    object \n",
      " 13  multipliers     70 non-null     object \n",
      " 14  weaknesses      151 non-null    object \n",
      " 15  next_evolution  70 non-null     object \n",
      " 16  prev_evolution  72 non-null     object \n",
      "dtypes: float64(5), int64(3), object(9)\n",
      "memory usage: 20.2+ KB\n"
     ]
    }
   ],
   "source": [
    "df.info()"
   ]
  },
  {
   "cell_type": "code",
   "execution_count": 31,
   "id": "b409ce54",
   "metadata": {},
   "outputs": [
    {
     "data": {
      "text/plain": [
       "151"
      ]
     },
     "execution_count": 31,
     "metadata": {},
     "output_type": "execute_result"
    }
   ],
   "source": [
    "df['name'].nunique()"
   ]
  },
  {
   "cell_type": "markdown",
   "id": "7df53200",
   "metadata": {},
   "source": [
    "#### Get all Pokemons whose spawn rate is less than 5%"
   ]
  },
  {
   "cell_type": "code",
   "execution_count": 32,
   "id": "7c5ece7f",
   "metadata": {},
   "outputs": [],
   "source": [
    "df1 = df[df['spawn_chance']<0.05]"
   ]
  },
  {
   "cell_type": "code",
   "execution_count": 33,
   "id": "1ddecffa",
   "metadata": {},
   "outputs": [],
   "source": [
    "#df1[['name']]"
   ]
  },
  {
   "cell_type": "code",
   "execution_count": 34,
   "id": "42a43ebc",
   "metadata": {},
   "outputs": [
    {
     "data": {
      "text/plain": [
       "65"
      ]
     },
     "execution_count": 34,
     "metadata": {},
     "output_type": "execute_result"
    }
   ],
   "source": [
    "df1['name'].nunique()"
   ]
  },
  {
   "cell_type": "markdown",
   "id": "c3204cf7",
   "metadata": {},
   "source": [
    "` 65 Pokemons whose spawn rate is less than 5% `"
   ]
  },
  {
   "cell_type": "code",
   "execution_count": 35,
   "id": "99851ad6",
   "metadata": {},
   "outputs": [
    {
     "name": "stdout",
     "output_type": "stream",
     "text": [
      "['Ivysaur' 'Venusaur' 'Charmeleon' 'Charizard' 'Wartortle' 'Blastoise'\n",
      " 'Butterfree' 'Raichu' 'Sandslash' 'Nidoqueen' 'Nidoking' 'Clefable'\n",
      " 'Ninetales' 'Wigglytuff' 'Vileplume' 'Dugtrio' 'Persian' 'Primeape'\n",
      " 'Arcanine' 'Poliwrath' 'Kadabra' 'Alakazam' 'Machoke' 'Machamp'\n",
      " 'Victreebel' 'Golem' 'Rapidash' 'Slowbro' 'Magneton' \"Farfetch'd\"\n",
      " 'Dewgong' 'Muk' 'Cloyster' 'Gengar' 'Electrode' 'Exeggutor' 'Marowak'\n",
      " 'Hitmonlee' 'Hitmonchan' 'Lickitung' 'Weezing' 'Rhydon' 'Chansey'\n",
      " 'Kangaskhan' 'Seadra' 'Starmie' 'Mr. Mime' 'Gyarados' 'Lapras' 'Ditto'\n",
      " 'Vaporeon' 'Jolteon' 'Flareon' 'Porygon' 'Omastar' 'Kabutops'\n",
      " 'Aerodactyl' 'Snorlax' 'Articuno' 'Zapdos' 'Moltres' 'Dragonair'\n",
      " 'Dragonite' 'Mewtwo' 'Mew']\n"
     ]
    }
   ],
   "source": [
    "print(df1['name'].unique())"
   ]
  },
  {
   "cell_type": "markdown",
   "id": "60bce99a",
   "metadata": {},
   "source": [
    "#### Get all Pokemons that have less than 4 weaknesses"
   ]
  },
  {
   "cell_type": "code",
   "execution_count": 36,
   "id": "6a0d7182",
   "metadata": {},
   "outputs": [
    {
     "data": {
      "text/html": [
       "<div>\n",
       "<style scoped>\n",
       "    .dataframe tbody tr th:only-of-type {\n",
       "        vertical-align: middle;\n",
       "    }\n",
       "\n",
       "    .dataframe tbody tr th {\n",
       "        vertical-align: top;\n",
       "    }\n",
       "\n",
       "    .dataframe thead th {\n",
       "        text-align: right;\n",
       "    }\n",
       "</style>\n",
       "<table border=\"1\" class=\"dataframe\">\n",
       "  <thead>\n",
       "    <tr style=\"text-align: right;\">\n",
       "      <th></th>\n",
       "      <th>id</th>\n",
       "      <th>num</th>\n",
       "      <th>name</th>\n",
       "      <th>img</th>\n",
       "      <th>type</th>\n",
       "      <th>height</th>\n",
       "      <th>weight</th>\n",
       "      <th>candy</th>\n",
       "      <th>candy_count</th>\n",
       "      <th>egg</th>\n",
       "      <th>spawn_chance</th>\n",
       "      <th>avg_spawns</th>\n",
       "      <th>spawn_time</th>\n",
       "      <th>multipliers</th>\n",
       "      <th>weaknesses</th>\n",
       "      <th>next_evolution</th>\n",
       "      <th>prev_evolution</th>\n",
       "    </tr>\n",
       "  </thead>\n",
       "  <tbody>\n",
       "    <tr>\n",
       "      <th>145</th>\n",
       "      <td>146</td>\n",
       "      <td>146</td>\n",
       "      <td>Moltres</td>\n",
       "      <td>http://www.serebii.net/pokemongo/pokemon/146.png</td>\n",
       "      <td>['Fire', 'Flying']</td>\n",
       "      <td>2.01</td>\n",
       "      <td>60.0</td>\n",
       "      <td>None</td>\n",
       "      <td>NaN</td>\n",
       "      <td>0</td>\n",
       "      <td>0.000</td>\n",
       "      <td>0.0</td>\n",
       "      <td>NaN</td>\n",
       "      <td>NaN</td>\n",
       "      <td>['Water', 'Electric', 'Rock']</td>\n",
       "      <td>NaN</td>\n",
       "      <td>NaN</td>\n",
       "    </tr>\n",
       "    <tr>\n",
       "      <th>10</th>\n",
       "      <td>11</td>\n",
       "      <td>11</td>\n",
       "      <td>Metapod</td>\n",
       "      <td>http://www.serebii.net/pokemongo/pokemon/011.png</td>\n",
       "      <td>['Bug']</td>\n",
       "      <td>0.71</td>\n",
       "      <td>9.9</td>\n",
       "      <td>Caterpie Candy</td>\n",
       "      <td>50.0</td>\n",
       "      <td>0</td>\n",
       "      <td>0.187</td>\n",
       "      <td>18.7</td>\n",
       "      <td>02:11</td>\n",
       "      <td>[3.55, 3.79]</td>\n",
       "      <td>['Fire', 'Flying', 'Rock']</td>\n",
       "      <td>[{'num': '012', 'name': 'Butterfree'}]</td>\n",
       "      <td>[{'num': '010', 'name': 'Caterpie'}]</td>\n",
       "    </tr>\n",
       "  </tbody>\n",
       "</table>\n",
       "</div>"
      ],
      "text/plain": [
       "      id  num     name                                               img  \\\n",
       "145  146  146  Moltres  http://www.serebii.net/pokemongo/pokemon/146.png   \n",
       "10    11   11  Metapod  http://www.serebii.net/pokemongo/pokemon/011.png   \n",
       "\n",
       "                   type  height  weight           candy  candy_count  egg  \\\n",
       "145  ['Fire', 'Flying']    2.01    60.0            None          NaN    0   \n",
       "10              ['Bug']    0.71     9.9  Caterpie Candy         50.0    0   \n",
       "\n",
       "     spawn_chance  avg_spawns spawn_time   multipliers  \\\n",
       "145         0.000         0.0        NaN           NaN   \n",
       "10          0.187        18.7      02:11  [3.55, 3.79]   \n",
       "\n",
       "                        weaknesses                          next_evolution  \\\n",
       "145  ['Water', 'Electric', 'Rock']                                     NaN   \n",
       "10      ['Fire', 'Flying', 'Rock']  [{'num': '012', 'name': 'Butterfree'}]   \n",
       "\n",
       "                           prev_evolution  \n",
       "145                                   NaN  \n",
       "10   [{'num': '010', 'name': 'Caterpie'}]  "
      ]
     },
     "execution_count": 36,
     "metadata": {},
     "output_type": "execute_result"
    }
   ],
   "source": [
    "df.sample(2)"
   ]
  },
  {
   "cell_type": "code",
   "execution_count": 37,
   "id": "23cfb27f",
   "metadata": {},
   "outputs": [],
   "source": [
    "df['weaknessess'] = df['weaknesses'].str.strip('[,]').str.split(',')"
   ]
  },
  {
   "cell_type": "code",
   "execution_count": 38,
   "id": "24d2070e",
   "metadata": {},
   "outputs": [],
   "source": [
    "df2 = df[df['weaknessess'].apply(lambda x: len(x) < 4)]"
   ]
  },
  {
   "cell_type": "code",
   "execution_count": 39,
   "id": "ec721610",
   "metadata": {},
   "outputs": [
    {
     "data": {
      "text/html": [
       "<div>\n",
       "<style scoped>\n",
       "    .dataframe tbody tr th:only-of-type {\n",
       "        vertical-align: middle;\n",
       "    }\n",
       "\n",
       "    .dataframe tbody tr th {\n",
       "        vertical-align: top;\n",
       "    }\n",
       "\n",
       "    .dataframe thead th {\n",
       "        text-align: right;\n",
       "    }\n",
       "</style>\n",
       "<table border=\"1\" class=\"dataframe\">\n",
       "  <thead>\n",
       "    <tr style=\"text-align: right;\">\n",
       "      <th></th>\n",
       "      <th>id</th>\n",
       "      <th>num</th>\n",
       "      <th>name</th>\n",
       "      <th>img</th>\n",
       "      <th>type</th>\n",
       "      <th>height</th>\n",
       "      <th>weight</th>\n",
       "      <th>candy</th>\n",
       "      <th>candy_count</th>\n",
       "      <th>egg</th>\n",
       "      <th>spawn_chance</th>\n",
       "      <th>avg_spawns</th>\n",
       "      <th>spawn_time</th>\n",
       "      <th>multipliers</th>\n",
       "      <th>weaknesses</th>\n",
       "      <th>next_evolution</th>\n",
       "      <th>prev_evolution</th>\n",
       "      <th>weaknessess</th>\n",
       "    </tr>\n",
       "  </thead>\n",
       "  <tbody>\n",
       "    <tr>\n",
       "      <th>132</th>\n",
       "      <td>133</td>\n",
       "      <td>133</td>\n",
       "      <td>Eevee</td>\n",
       "      <td>http://www.serebii.net/pokemongo/pokemon/133.png</td>\n",
       "      <td>['Normal']</td>\n",
       "      <td>0.30</td>\n",
       "      <td>6.5</td>\n",
       "      <td>Eevee Candy</td>\n",
       "      <td>25.0</td>\n",
       "      <td>10</td>\n",
       "      <td>2.750</td>\n",
       "      <td>275.0</td>\n",
       "      <td>05:32</td>\n",
       "      <td>[2.02, 2.64]</td>\n",
       "      <td>['Fighting']</td>\n",
       "      <td>[{'num': '134', 'name': 'Vaporeon'}, {'num': '...</td>\n",
       "      <td>NaN</td>\n",
       "      <td>['Fighting']</td>\n",
       "    </tr>\n",
       "    <tr>\n",
       "      <th>87</th>\n",
       "      <td>88</td>\n",
       "      <td>88</td>\n",
       "      <td>Grimer</td>\n",
       "      <td>http://www.serebii.net/pokemongo/pokemon/088.png</td>\n",
       "      <td>['Poison']</td>\n",
       "      <td>0.89</td>\n",
       "      <td>30.0</td>\n",
       "      <td>Grimer Candy</td>\n",
       "      <td>50.0</td>\n",
       "      <td>5</td>\n",
       "      <td>0.052</td>\n",
       "      <td>5.2</td>\n",
       "      <td>15:11</td>\n",
       "      <td>[2.44]</td>\n",
       "      <td>['Ground', 'Psychic']</td>\n",
       "      <td>[{'num': '089', 'name': 'Muk'}]</td>\n",
       "      <td>NaN</td>\n",
       "      <td>['Ground',  'Psychic']</td>\n",
       "    </tr>\n",
       "    <tr>\n",
       "      <th>6</th>\n",
       "      <td>7</td>\n",
       "      <td>7</td>\n",
       "      <td>Squirtle</td>\n",
       "      <td>http://www.serebii.net/pokemongo/pokemon/007.png</td>\n",
       "      <td>['Water']</td>\n",
       "      <td>0.51</td>\n",
       "      <td>9.0</td>\n",
       "      <td>Squirtle Candy</td>\n",
       "      <td>25.0</td>\n",
       "      <td>2</td>\n",
       "      <td>0.580</td>\n",
       "      <td>58.0</td>\n",
       "      <td>04:25</td>\n",
       "      <td>[2.1]</td>\n",
       "      <td>['Electric', 'Grass']</td>\n",
       "      <td>[{'num': '008', 'name': 'Wartortle'}, {'num': ...</td>\n",
       "      <td>NaN</td>\n",
       "      <td>['Electric',  'Grass']</td>\n",
       "    </tr>\n",
       "    <tr>\n",
       "      <th>54</th>\n",
       "      <td>55</td>\n",
       "      <td>55</td>\n",
       "      <td>Golduck</td>\n",
       "      <td>http://www.serebii.net/pokemongo/pokemon/055.png</td>\n",
       "      <td>['Water']</td>\n",
       "      <td>1.70</td>\n",
       "      <td>76.6</td>\n",
       "      <td>Psyduck Candy</td>\n",
       "      <td>NaN</td>\n",
       "      <td>0</td>\n",
       "      <td>0.087</td>\n",
       "      <td>8.7</td>\n",
       "      <td>23:06</td>\n",
       "      <td>NaN</td>\n",
       "      <td>['Electric', 'Grass']</td>\n",
       "      <td>NaN</td>\n",
       "      <td>[{'num': '054', 'name': 'Psyduck'}]</td>\n",
       "      <td>['Electric',  'Grass']</td>\n",
       "    </tr>\n",
       "    <tr>\n",
       "      <th>149</th>\n",
       "      <td>150</td>\n",
       "      <td>150</td>\n",
       "      <td>Mewtwo</td>\n",
       "      <td>http://www.serebii.net/pokemongo/pokemon/150.png</td>\n",
       "      <td>['Psychic']</td>\n",
       "      <td>2.01</td>\n",
       "      <td>122.0</td>\n",
       "      <td>None</td>\n",
       "      <td>NaN</td>\n",
       "      <td>0</td>\n",
       "      <td>0.000</td>\n",
       "      <td>0.0</td>\n",
       "      <td>NaN</td>\n",
       "      <td>NaN</td>\n",
       "      <td>['Bug', 'Ghost', 'Dark']</td>\n",
       "      <td>NaN</td>\n",
       "      <td>NaN</td>\n",
       "      <td>['Bug',  'Ghost',  'Dark']</td>\n",
       "    </tr>\n",
       "  </tbody>\n",
       "</table>\n",
       "</div>"
      ],
      "text/plain": [
       "      id  num      name                                               img  \\\n",
       "132  133  133     Eevee  http://www.serebii.net/pokemongo/pokemon/133.png   \n",
       "87    88   88    Grimer  http://www.serebii.net/pokemongo/pokemon/088.png   \n",
       "6      7    7  Squirtle  http://www.serebii.net/pokemongo/pokemon/007.png   \n",
       "54    55   55   Golduck  http://www.serebii.net/pokemongo/pokemon/055.png   \n",
       "149  150  150    Mewtwo  http://www.serebii.net/pokemongo/pokemon/150.png   \n",
       "\n",
       "            type  height  weight           candy  candy_count  egg  \\\n",
       "132   ['Normal']    0.30     6.5     Eevee Candy         25.0   10   \n",
       "87    ['Poison']    0.89    30.0    Grimer Candy         50.0    5   \n",
       "6      ['Water']    0.51     9.0  Squirtle Candy         25.0    2   \n",
       "54     ['Water']    1.70    76.6   Psyduck Candy          NaN    0   \n",
       "149  ['Psychic']    2.01   122.0            None          NaN    0   \n",
       "\n",
       "     spawn_chance  avg_spawns spawn_time   multipliers  \\\n",
       "132         2.750       275.0      05:32  [2.02, 2.64]   \n",
       "87          0.052         5.2      15:11        [2.44]   \n",
       "6           0.580        58.0      04:25         [2.1]   \n",
       "54          0.087         8.7      23:06           NaN   \n",
       "149         0.000         0.0        NaN           NaN   \n",
       "\n",
       "                   weaknesses  \\\n",
       "132              ['Fighting']   \n",
       "87      ['Ground', 'Psychic']   \n",
       "6       ['Electric', 'Grass']   \n",
       "54      ['Electric', 'Grass']   \n",
       "149  ['Bug', 'Ghost', 'Dark']   \n",
       "\n",
       "                                        next_evolution  \\\n",
       "132  [{'num': '134', 'name': 'Vaporeon'}, {'num': '...   \n",
       "87                     [{'num': '089', 'name': 'Muk'}]   \n",
       "6    [{'num': '008', 'name': 'Wartortle'}, {'num': ...   \n",
       "54                                                 NaN   \n",
       "149                                                NaN   \n",
       "\n",
       "                          prev_evolution                 weaknessess  \n",
       "132                                  NaN                ['Fighting']  \n",
       "87                                   NaN      ['Ground',  'Psychic']  \n",
       "6                                    NaN      ['Electric',  'Grass']  \n",
       "54   [{'num': '054', 'name': 'Psyduck'}]      ['Electric',  'Grass']  \n",
       "149                                  NaN  ['Bug',  'Ghost',  'Dark']  "
      ]
     },
     "execution_count": 39,
     "metadata": {},
     "output_type": "execute_result"
    }
   ],
   "source": [
    "df2.sample(5)"
   ]
  },
  {
   "cell_type": "code",
   "execution_count": 40,
   "id": "8ce98047",
   "metadata": {},
   "outputs": [],
   "source": [
    "#df2[['name']]"
   ]
  },
  {
   "cell_type": "code",
   "execution_count": 41,
   "id": "4d84fced",
   "metadata": {},
   "outputs": [
    {
     "name": "stdout",
     "output_type": "stream",
     "text": [
      "102\n"
     ]
    }
   ],
   "source": [
    "print(df2['name'].nunique())"
   ]
  },
  {
   "cell_type": "markdown",
   "id": "1751a5e4",
   "metadata": {},
   "source": [
    "`102 Pokemons that have less than 4 weaknesses`"
   ]
  },
  {
   "cell_type": "code",
   "execution_count": 42,
   "id": "c18fb5d1",
   "metadata": {},
   "outputs": [
    {
     "name": "stdout",
     "output_type": "stream",
     "text": [
      "['Charmander' 'Charmeleon' 'Charizard' 'Squirtle' 'Wartortle' 'Blastoise'\n",
      " 'Caterpie' 'Metapod' 'Pidgey' 'Pidgeotto' 'Pidgeot' 'Rattata' 'Raticate'\n",
      " 'Spearow' 'Fearow' 'Ekans' 'Arbok' 'Pikachu' 'Raichu' 'Sandshrew'\n",
      " 'Sandslash' 'Nidoran ♀ (Female)' 'Nidorina' 'Nidoran ♂ (Male)' 'Nidorino'\n",
      " 'Clefairy' 'Clefable' 'Vulpix' 'Ninetales' 'Jigglypuff' 'Wigglytuff'\n",
      " 'Diglett' 'Dugtrio' 'Meowth' 'Persian' 'Psyduck' 'Golduck' 'Mankey'\n",
      " 'Primeape' 'Growlithe' 'Arcanine' 'Poliwag' 'Poliwhirl' 'Abra' 'Kadabra'\n",
      " 'Alakazam' 'Machop' 'Machoke' 'Machamp' 'Tentacool' 'Tentacruel' 'Ponyta'\n",
      " 'Rapidash' 'Magnemite' 'Magneton' \"Farfetch'd\" 'Doduo' 'Dodrio' 'Seel'\n",
      " 'Grimer' 'Muk' 'Shellder' 'Drowzee' 'Hypno' 'Krabby' 'Kingler' 'Voltorb'\n",
      " 'Electrode' 'Cubone' 'Marowak' 'Hitmonlee' 'Hitmonchan' 'Lickitung'\n",
      " 'Koffing' 'Weezing' 'Chansey' 'Kangaskhan' 'Horsea' 'Seadra' 'Goldeen'\n",
      " 'Seaking' 'Staryu' 'Mr. Mime' 'Electabuzz' 'Magmar' 'Pinsir' 'Tauros'\n",
      " 'Magikarp' 'Gyarados' 'Ditto' 'Eevee' 'Vaporeon' 'Jolteon' 'Flareon'\n",
      " 'Porygon' 'Snorlax' 'Zapdos' 'Moltres' 'Dratini' 'Dragonair' 'Mewtwo'\n",
      " 'Mew']\n"
     ]
    }
   ],
   "source": [
    "print(df2['name'].unique())"
   ]
  },
  {
   "cell_type": "markdown",
   "id": "b4826b47",
   "metadata": {},
   "source": [
    "#### Get all Pokemons that have no multipliers at all"
   ]
  },
  {
   "cell_type": "code",
   "execution_count": 43,
   "id": "dacc38ec",
   "metadata": {},
   "outputs": [
    {
     "data": {
      "text/plain": [
       "id                 0\n",
       "num                0\n",
       "name               0\n",
       "img                0\n",
       "type               0\n",
       "height             0\n",
       "weight             0\n",
       "candy              0\n",
       "candy_count       81\n",
       "egg                0\n",
       "spawn_chance       0\n",
       "avg_spawns         0\n",
       "spawn_time         6\n",
       "multipliers       81\n",
       "weaknesses         0\n",
       "next_evolution    81\n",
       "prev_evolution    79\n",
       "weaknessess        0\n",
       "dtype: int64"
      ]
     },
     "execution_count": 43,
     "metadata": {},
     "output_type": "execute_result"
    }
   ],
   "source": [
    "df.isnull().sum()"
   ]
  },
  {
   "cell_type": "code",
   "execution_count": 44,
   "id": "8120bb1f",
   "metadata": {},
   "outputs": [],
   "source": [
    "df['multipliers_'] = df['multipliers'].str.strip('[,]').str.split(',')"
   ]
  },
  {
   "cell_type": "code",
   "execution_count": 45,
   "id": "87f23e3a",
   "metadata": {},
   "outputs": [],
   "source": [
    "df['multipliers_'] = df['multipliers_'].replace(np.nan,0)"
   ]
  },
  {
   "cell_type": "code",
   "execution_count": 46,
   "id": "380b75c6",
   "metadata": {},
   "outputs": [
    {
     "data": {
      "text/html": [
       "<div>\n",
       "<style scoped>\n",
       "    .dataframe tbody tr th:only-of-type {\n",
       "        vertical-align: middle;\n",
       "    }\n",
       "\n",
       "    .dataframe tbody tr th {\n",
       "        vertical-align: top;\n",
       "    }\n",
       "\n",
       "    .dataframe thead th {\n",
       "        text-align: right;\n",
       "    }\n",
       "</style>\n",
       "<table border=\"1\" class=\"dataframe\">\n",
       "  <thead>\n",
       "    <tr style=\"text-align: right;\">\n",
       "      <th></th>\n",
       "      <th>id</th>\n",
       "      <th>num</th>\n",
       "      <th>name</th>\n",
       "      <th>img</th>\n",
       "      <th>type</th>\n",
       "      <th>height</th>\n",
       "      <th>weight</th>\n",
       "      <th>candy</th>\n",
       "      <th>candy_count</th>\n",
       "      <th>egg</th>\n",
       "      <th>spawn_chance</th>\n",
       "      <th>avg_spawns</th>\n",
       "      <th>spawn_time</th>\n",
       "      <th>multipliers</th>\n",
       "      <th>weaknesses</th>\n",
       "      <th>next_evolution</th>\n",
       "      <th>prev_evolution</th>\n",
       "      <th>weaknessess</th>\n",
       "      <th>multipliers_</th>\n",
       "    </tr>\n",
       "  </thead>\n",
       "  <tbody>\n",
       "    <tr>\n",
       "      <th>0</th>\n",
       "      <td>1</td>\n",
       "      <td>1</td>\n",
       "      <td>Bulbasaur</td>\n",
       "      <td>http://www.serebii.net/pokemongo/pokemon/001.png</td>\n",
       "      <td>['Grass', 'Poison']</td>\n",
       "      <td>0.71</td>\n",
       "      <td>6.9</td>\n",
       "      <td>Bulbasaur Candy</td>\n",
       "      <td>25.0</td>\n",
       "      <td>2</td>\n",
       "      <td>0.690</td>\n",
       "      <td>69.0</td>\n",
       "      <td>20:00</td>\n",
       "      <td>[1.58]</td>\n",
       "      <td>['Fire', 'Ice', 'Flying', 'Psychic']</td>\n",
       "      <td>[{'num': '002', 'name': 'Ivysaur'}, {'num': '0...</td>\n",
       "      <td>NaN</td>\n",
       "      <td>['Fire',  'Ice',  'Flying',  'Psychic']</td>\n",
       "      <td>[1.58]</td>\n",
       "    </tr>\n",
       "    <tr>\n",
       "      <th>1</th>\n",
       "      <td>2</td>\n",
       "      <td>2</td>\n",
       "      <td>Ivysaur</td>\n",
       "      <td>http://www.serebii.net/pokemongo/pokemon/002.png</td>\n",
       "      <td>['Grass', 'Poison']</td>\n",
       "      <td>0.99</td>\n",
       "      <td>13.0</td>\n",
       "      <td>Bulbasaur Candy</td>\n",
       "      <td>100.0</td>\n",
       "      <td>0</td>\n",
       "      <td>0.042</td>\n",
       "      <td>4.2</td>\n",
       "      <td>07:00</td>\n",
       "      <td>[1.2, 1.6]</td>\n",
       "      <td>['Fire', 'Ice', 'Flying', 'Psychic']</td>\n",
       "      <td>[{'num': '003', 'name': 'Venusaur'}]</td>\n",
       "      <td>[{'num': '001', 'name': 'Bulbasaur'}]</td>\n",
       "      <td>['Fire',  'Ice',  'Flying',  'Psychic']</td>\n",
       "      <td>[1.2,  1.6]</td>\n",
       "    </tr>\n",
       "  </tbody>\n",
       "</table>\n",
       "</div>"
      ],
      "text/plain": [
       "   id  num       name                                               img  \\\n",
       "0   1    1  Bulbasaur  http://www.serebii.net/pokemongo/pokemon/001.png   \n",
       "1   2    2    Ivysaur  http://www.serebii.net/pokemongo/pokemon/002.png   \n",
       "\n",
       "                  type  height  weight            candy  candy_count  egg  \\\n",
       "0  ['Grass', 'Poison']    0.71     6.9  Bulbasaur Candy         25.0    2   \n",
       "1  ['Grass', 'Poison']    0.99    13.0  Bulbasaur Candy        100.0    0   \n",
       "\n",
       "   spawn_chance  avg_spawns spawn_time multipliers  \\\n",
       "0         0.690        69.0      20:00      [1.58]   \n",
       "1         0.042         4.2      07:00  [1.2, 1.6]   \n",
       "\n",
       "                             weaknesses  \\\n",
       "0  ['Fire', 'Ice', 'Flying', 'Psychic']   \n",
       "1  ['Fire', 'Ice', 'Flying', 'Psychic']   \n",
       "\n",
       "                                      next_evolution  \\\n",
       "0  [{'num': '002', 'name': 'Ivysaur'}, {'num': '0...   \n",
       "1               [{'num': '003', 'name': 'Venusaur'}]   \n",
       "\n",
       "                          prev_evolution  \\\n",
       "0                                    NaN   \n",
       "1  [{'num': '001', 'name': 'Bulbasaur'}]   \n",
       "\n",
       "                               weaknessess multipliers_  \n",
       "0  ['Fire',  'Ice',  'Flying',  'Psychic']       [1.58]  \n",
       "1  ['Fire',  'Ice',  'Flying',  'Psychic']  [1.2,  1.6]  "
      ]
     },
     "execution_count": 46,
     "metadata": {},
     "output_type": "execute_result"
    }
   ],
   "source": [
    "df.head(2)"
   ]
  },
  {
   "cell_type": "code",
   "execution_count": 47,
   "id": "6e113138",
   "metadata": {},
   "outputs": [],
   "source": [
    "df3 = df[df['multipliers_'].apply(lambda x:x==0)]"
   ]
  },
  {
   "cell_type": "code",
   "execution_count": 48,
   "id": "a3f7c963",
   "metadata": {},
   "outputs": [
    {
     "data": {
      "text/html": [
       "<div>\n",
       "<style scoped>\n",
       "    .dataframe tbody tr th:only-of-type {\n",
       "        vertical-align: middle;\n",
       "    }\n",
       "\n",
       "    .dataframe tbody tr th {\n",
       "        vertical-align: top;\n",
       "    }\n",
       "\n",
       "    .dataframe thead th {\n",
       "        text-align: right;\n",
       "    }\n",
       "</style>\n",
       "<table border=\"1\" class=\"dataframe\">\n",
       "  <thead>\n",
       "    <tr style=\"text-align: right;\">\n",
       "      <th></th>\n",
       "      <th>id</th>\n",
       "      <th>num</th>\n",
       "      <th>name</th>\n",
       "      <th>img</th>\n",
       "      <th>type</th>\n",
       "      <th>height</th>\n",
       "      <th>weight</th>\n",
       "      <th>candy</th>\n",
       "      <th>candy_count</th>\n",
       "      <th>egg</th>\n",
       "      <th>spawn_chance</th>\n",
       "      <th>avg_spawns</th>\n",
       "      <th>spawn_time</th>\n",
       "      <th>multipliers</th>\n",
       "      <th>weaknesses</th>\n",
       "      <th>next_evolution</th>\n",
       "      <th>prev_evolution</th>\n",
       "      <th>weaknessess</th>\n",
       "      <th>multipliers_</th>\n",
       "    </tr>\n",
       "  </thead>\n",
       "  <tbody>\n",
       "    <tr>\n",
       "      <th>125</th>\n",
       "      <td>126</td>\n",
       "      <td>126</td>\n",
       "      <td>Magmar</td>\n",
       "      <td>http://www.serebii.net/pokemongo/pokemon/126.png</td>\n",
       "      <td>['Fire']</td>\n",
       "      <td>1.30</td>\n",
       "      <td>44.5</td>\n",
       "      <td>None</td>\n",
       "      <td>NaN</td>\n",
       "      <td>10</td>\n",
       "      <td>0.1000</td>\n",
       "      <td>10.00</td>\n",
       "      <td>20:36</td>\n",
       "      <td>NaN</td>\n",
       "      <td>['Water', 'Ground', 'Rock']</td>\n",
       "      <td>NaN</td>\n",
       "      <td>NaN</td>\n",
       "      <td>['Water',  'Ground',  'Rock']</td>\n",
       "      <td>0</td>\n",
       "    </tr>\n",
       "    <tr>\n",
       "      <th>148</th>\n",
       "      <td>149</td>\n",
       "      <td>149</td>\n",
       "      <td>Dragonite</td>\n",
       "      <td>http://www.serebii.net/pokemongo/pokemon/149.png</td>\n",
       "      <td>['Dragon', 'Flying']</td>\n",
       "      <td>2.21</td>\n",
       "      <td>210.0</td>\n",
       "      <td>Dratini Candy</td>\n",
       "      <td>NaN</td>\n",
       "      <td>0</td>\n",
       "      <td>0.0011</td>\n",
       "      <td>0.11</td>\n",
       "      <td>23:38</td>\n",
       "      <td>NaN</td>\n",
       "      <td>['Ice', 'Rock', 'Dragon', 'Fairy']</td>\n",
       "      <td>NaN</td>\n",
       "      <td>[{'num': '147', 'name': 'Dratini'}, {'num': '1...</td>\n",
       "      <td>['Ice',  'Rock',  'Dragon',  'Fairy']</td>\n",
       "      <td>0</td>\n",
       "    </tr>\n",
       "    <tr>\n",
       "      <th>48</th>\n",
       "      <td>49</td>\n",
       "      <td>49</td>\n",
       "      <td>Venomoth</td>\n",
       "      <td>http://www.serebii.net/pokemongo/pokemon/049.png</td>\n",
       "      <td>['Bug', 'Poison']</td>\n",
       "      <td>1.50</td>\n",
       "      <td>12.5</td>\n",
       "      <td>Venonat Candy</td>\n",
       "      <td>NaN</td>\n",
       "      <td>0</td>\n",
       "      <td>0.0720</td>\n",
       "      <td>7.20</td>\n",
       "      <td>23:40</td>\n",
       "      <td>NaN</td>\n",
       "      <td>['Fire', 'Flying', 'Psychic', 'Rock']</td>\n",
       "      <td>NaN</td>\n",
       "      <td>[{'num': '048', 'name': 'Venonat'}]</td>\n",
       "      <td>['Fire',  'Flying',  'Psychic',  'Rock']</td>\n",
       "      <td>0</td>\n",
       "    </tr>\n",
       "    <tr>\n",
       "      <th>50</th>\n",
       "      <td>51</td>\n",
       "      <td>51</td>\n",
       "      <td>Dugtrio</td>\n",
       "      <td>http://www.serebii.net/pokemongo/pokemon/051.png</td>\n",
       "      <td>['Ground']</td>\n",
       "      <td>0.71</td>\n",
       "      <td>33.3</td>\n",
       "      <td>Dugtrio</td>\n",
       "      <td>NaN</td>\n",
       "      <td>0</td>\n",
       "      <td>0.0140</td>\n",
       "      <td>1.40</td>\n",
       "      <td>12:37</td>\n",
       "      <td>NaN</td>\n",
       "      <td>['Water', 'Grass', 'Ice']</td>\n",
       "      <td>NaN</td>\n",
       "      <td>[{'num': '050', 'name': 'Diglett'}]</td>\n",
       "      <td>['Water',  'Grass',  'Ice']</td>\n",
       "      <td>0</td>\n",
       "    </tr>\n",
       "    <tr>\n",
       "      <th>21</th>\n",
       "      <td>22</td>\n",
       "      <td>22</td>\n",
       "      <td>Fearow</td>\n",
       "      <td>http://www.serebii.net/pokemongo/pokemon/022.png</td>\n",
       "      <td>['Normal', 'Flying']</td>\n",
       "      <td>1.19</td>\n",
       "      <td>38.0</td>\n",
       "      <td>Spearow Candy</td>\n",
       "      <td>NaN</td>\n",
       "      <td>0</td>\n",
       "      <td>0.1500</td>\n",
       "      <td>15.00</td>\n",
       "      <td>01:11</td>\n",
       "      <td>NaN</td>\n",
       "      <td>['Electric', 'Rock']</td>\n",
       "      <td>NaN</td>\n",
       "      <td>[{'num': '021', 'name': 'Spearow'}]</td>\n",
       "      <td>['Electric',  'Rock']</td>\n",
       "      <td>0</td>\n",
       "    </tr>\n",
       "  </tbody>\n",
       "</table>\n",
       "</div>"
      ],
      "text/plain": [
       "      id  num       name                                               img  \\\n",
       "125  126  126     Magmar  http://www.serebii.net/pokemongo/pokemon/126.png   \n",
       "148  149  149  Dragonite  http://www.serebii.net/pokemongo/pokemon/149.png   \n",
       "48    49   49   Venomoth  http://www.serebii.net/pokemongo/pokemon/049.png   \n",
       "50    51   51    Dugtrio  http://www.serebii.net/pokemongo/pokemon/051.png   \n",
       "21    22   22     Fearow  http://www.serebii.net/pokemongo/pokemon/022.png   \n",
       "\n",
       "                     type  height  weight          candy  candy_count  egg  \\\n",
       "125              ['Fire']    1.30    44.5           None          NaN   10   \n",
       "148  ['Dragon', 'Flying']    2.21   210.0  Dratini Candy          NaN    0   \n",
       "48      ['Bug', 'Poison']    1.50    12.5  Venonat Candy          NaN    0   \n",
       "50             ['Ground']    0.71    33.3        Dugtrio          NaN    0   \n",
       "21   ['Normal', 'Flying']    1.19    38.0  Spearow Candy          NaN    0   \n",
       "\n",
       "     spawn_chance  avg_spawns spawn_time multipliers  \\\n",
       "125        0.1000       10.00      20:36         NaN   \n",
       "148        0.0011        0.11      23:38         NaN   \n",
       "48         0.0720        7.20      23:40         NaN   \n",
       "50         0.0140        1.40      12:37         NaN   \n",
       "21         0.1500       15.00      01:11         NaN   \n",
       "\n",
       "                                weaknesses next_evolution  \\\n",
       "125            ['Water', 'Ground', 'Rock']            NaN   \n",
       "148     ['Ice', 'Rock', 'Dragon', 'Fairy']            NaN   \n",
       "48   ['Fire', 'Flying', 'Psychic', 'Rock']            NaN   \n",
       "50               ['Water', 'Grass', 'Ice']            NaN   \n",
       "21                    ['Electric', 'Rock']            NaN   \n",
       "\n",
       "                                        prev_evolution  \\\n",
       "125                                                NaN   \n",
       "148  [{'num': '147', 'name': 'Dratini'}, {'num': '1...   \n",
       "48                 [{'num': '048', 'name': 'Venonat'}]   \n",
       "50                 [{'num': '050', 'name': 'Diglett'}]   \n",
       "21                 [{'num': '021', 'name': 'Spearow'}]   \n",
       "\n",
       "                                  weaknessess multipliers_  \n",
       "125             ['Water',  'Ground',  'Rock']            0  \n",
       "148     ['Ice',  'Rock',  'Dragon',  'Fairy']            0  \n",
       "48   ['Fire',  'Flying',  'Psychic',  'Rock']            0  \n",
       "50                ['Water',  'Grass',  'Ice']            0  \n",
       "21                      ['Electric',  'Rock']            0  "
      ]
     },
     "execution_count": 48,
     "metadata": {},
     "output_type": "execute_result"
    }
   ],
   "source": [
    "df3.sample(5)"
   ]
  },
  {
   "cell_type": "code",
   "execution_count": 49,
   "id": "396a2bea",
   "metadata": {},
   "outputs": [],
   "source": [
    "#df3[['name']]"
   ]
  },
  {
   "cell_type": "code",
   "execution_count": 50,
   "id": "fd0160c5",
   "metadata": {},
   "outputs": [
    {
     "data": {
      "text/plain": [
       "81"
      ]
     },
     "execution_count": 50,
     "metadata": {},
     "output_type": "execute_result"
    }
   ],
   "source": [
    "df3['name'].nunique()"
   ]
  },
  {
   "cell_type": "markdown",
   "id": "fc14f7ac",
   "metadata": {},
   "source": [
    "`81 PokemonsPokemons that have no multipliers at all`"
   ]
  },
  {
   "cell_type": "code",
   "execution_count": 51,
   "id": "a2932c37",
   "metadata": {},
   "outputs": [
    {
     "name": "stdout",
     "output_type": "stream",
     "text": [
      "['Venusaur' 'Charizard' 'Blastoise' 'Butterfree' 'Beedrill' 'Pidgeot'\n",
      " 'Raticate' 'Fearow' 'Arbok' 'Raichu' 'Sandslash' 'Nidoqueen' 'Nidoking'\n",
      " 'Clefable' 'Ninetales' 'Wigglytuff' 'Golbat' 'Vileplume' 'Parasect'\n",
      " 'Venomoth' 'Dugtrio' 'Persian' 'Golduck' 'Primeape' 'Arcanine'\n",
      " 'Poliwrath' 'Alakazam' 'Machamp' 'Victreebel' 'Tentacruel' 'Golem'\n",
      " 'Rapidash' 'Slowbro' 'Magneton' \"Farfetch'd\" 'Dodrio' 'Dewgong' 'Muk'\n",
      " 'Cloyster' 'Gengar' 'Onix' 'Hypno' 'Kingler' 'Electrode' 'Exeggutor'\n",
      " 'Marowak' 'Hitmonlee' 'Hitmonchan' 'Lickitung' 'Weezing' 'Rhydon'\n",
      " 'Chansey' 'Tangela' 'Kangaskhan' 'Seadra' 'Seaking' 'Starmie' 'Mr. Mime'\n",
      " 'Scyther' 'Jynx' 'Electabuzz' 'Magmar' 'Pinsir' 'Tauros' 'Gyarados'\n",
      " 'Lapras' 'Ditto' 'Vaporeon' 'Jolteon' 'Flareon' 'Porygon' 'Omastar'\n",
      " 'Kabutops' 'Aerodactyl' 'Snorlax' 'Articuno' 'Zapdos' 'Moltres'\n",
      " 'Dragonite' 'Mewtwo' 'Mew']\n"
     ]
    }
   ],
   "source": [
    "print(df3['name'].unique())"
   ]
  },
  {
   "cell_type": "markdown",
   "id": "3577132d",
   "metadata": {},
   "source": [
    "#### Get all Pokemons that do not have more than 2 evolutions"
   ]
  },
  {
   "cell_type": "code",
   "execution_count": 52,
   "id": "3b654bd9",
   "metadata": {},
   "outputs": [],
   "source": [
    "df['prev_evolution'] = df['prev_evolution'].str.strip('[,]').str.split(',')"
   ]
  },
  {
   "cell_type": "code",
   "execution_count": 53,
   "id": "f4b5e3a0",
   "metadata": {},
   "outputs": [],
   "source": [
    "df['prev_evolution'] = df['prev_evolution'].replace(np.NaN,\"not available\")"
   ]
  },
  {
   "cell_type": "code",
   "execution_count": 54,
   "id": "c59c6f07",
   "metadata": {},
   "outputs": [],
   "source": [
    "df4 = df[df['prev_evolution'].apply(lambda x: len(x) > 2)]"
   ]
  },
  {
   "cell_type": "code",
   "execution_count": 55,
   "id": "38c8d5b7",
   "metadata": {},
   "outputs": [],
   "source": [
    "#df4[['name']]"
   ]
  },
  {
   "cell_type": "code",
   "execution_count": 56,
   "id": "a491e5a6",
   "metadata": {},
   "outputs": [
    {
     "data": {
      "text/plain": [
       "95"
      ]
     },
     "execution_count": 56,
     "metadata": {},
     "output_type": "execute_result"
    }
   ],
   "source": [
    "df4['name'].nunique()"
   ]
  },
  {
   "cell_type": "markdown",
   "id": "4143afc1",
   "metadata": {},
   "source": [
    "`95 Pokemons that do not have more than 2 prev evolutions`"
   ]
  },
  {
   "cell_type": "code",
   "execution_count": 57,
   "id": "4eaed004",
   "metadata": {},
   "outputs": [
    {
     "data": {
      "text/plain": [
       "array(['Bulbasaur', 'Venusaur', 'Charmander', 'Charizard', 'Squirtle',\n",
       "       'Blastoise', 'Caterpie', 'Butterfree', 'Weedle', 'Beedrill',\n",
       "       'Pidgey', 'Pidgeot', 'Rattata', 'Spearow', 'Ekans', 'Pikachu',\n",
       "       'Sandshrew', 'Nidoran ♀ (Female)', 'Nidoqueen', 'Nidoran ♂ (Male)',\n",
       "       'Nidoking', 'Clefairy', 'Vulpix', 'Jigglypuff', 'Zubat', 'Oddish',\n",
       "       'Vileplume', 'Paras', 'Venonat', 'Diglett', 'Meowth', 'Psyduck',\n",
       "       'Mankey', 'Growlithe', 'Poliwag', 'Poliwrath', 'Abra', 'Alakazam',\n",
       "       'Machop', 'Machamp', 'Bellsprout', 'Victreebel', 'Tentacool',\n",
       "       'Geodude', 'Golem', 'Ponyta', 'Slowpoke', 'Magnemite',\n",
       "       \"Farfetch'd\", 'Doduo', 'Seel', 'Grimer', 'Shellder', 'Gastly',\n",
       "       'Gengar', 'Onix', 'Drowzee', 'Krabby', 'Voltorb', 'Exeggcute',\n",
       "       'Cubone', 'Hitmonlee', 'Hitmonchan', 'Lickitung', 'Koffing',\n",
       "       'Rhyhorn', 'Chansey', 'Tangela', 'Kangaskhan', 'Horsea', 'Goldeen',\n",
       "       'Staryu', 'Mr. Mime', 'Scyther', 'Jynx', 'Electabuzz', 'Magmar',\n",
       "       'Pinsir', 'Tauros', 'Magikarp', 'Lapras', 'Ditto', 'Eevee',\n",
       "       'Porygon', 'Omanyte', 'Kabuto', 'Aerodactyl', 'Snorlax',\n",
       "       'Articuno', 'Zapdos', 'Moltres', 'Dratini', 'Dragonite', 'Mewtwo',\n",
       "       'Mew'], dtype=object)"
      ]
     },
     "execution_count": 57,
     "metadata": {},
     "output_type": "execute_result"
    }
   ],
   "source": [
    "df4['name'].unique()"
   ]
  },
  {
   "cell_type": "code",
   "execution_count": 58,
   "id": "613ca7ae",
   "metadata": {},
   "outputs": [],
   "source": [
    "df['next_evolution'] = df['next_evolution'].str.strip('[,]').str.split(',')"
   ]
  },
  {
   "cell_type": "code",
   "execution_count": 59,
   "id": "67d85c00",
   "metadata": {},
   "outputs": [],
   "source": [
    "df['next_evolution'] = df['next_evolution'].replace(np.NaN,\"not available\")"
   ]
  },
  {
   "cell_type": "code",
   "execution_count": 60,
   "id": "49869e6d",
   "metadata": {},
   "outputs": [],
   "source": [
    "df5 = df[df['next_evolution'].apply(lambda x: len(x) > 2)]"
   ]
  },
  {
   "cell_type": "code",
   "execution_count": 61,
   "id": "160b2291",
   "metadata": {},
   "outputs": [],
   "source": [
    "#df5[['name']]"
   ]
  },
  {
   "cell_type": "code",
   "execution_count": 62,
   "id": "60c6be52",
   "metadata": {},
   "outputs": [
    {
     "data": {
      "text/plain": [
       "98"
      ]
     },
     "execution_count": 62,
     "metadata": {},
     "output_type": "execute_result"
    }
   ],
   "source": [
    "df5['name'].nunique()"
   ]
  },
  {
   "cell_type": "markdown",
   "id": "cea0a5dd",
   "metadata": {},
   "source": [
    "`98 Pokemons that do not have more than 2 prev evolutions`"
   ]
  },
  {
   "cell_type": "code",
   "execution_count": 63,
   "id": "99918267",
   "metadata": {},
   "outputs": [
    {
     "data": {
      "text/plain": [
       "array(['Bulbasaur', 'Venusaur', 'Charmander', 'Charizard', 'Squirtle',\n",
       "       'Blastoise', 'Caterpie', 'Butterfree', 'Weedle', 'Beedrill',\n",
       "       'Pidgey', 'Pidgeot', 'Raticate', 'Fearow', 'Arbok', 'Raichu',\n",
       "       'Sandslash', 'Nidoran ♀ (Female)', 'Nidoqueen', 'Nidoran ♂ (Male)',\n",
       "       'Nidoking', 'Clefable', 'Ninetales', 'Wigglytuff', 'Golbat',\n",
       "       'Oddish', 'Vileplume', 'Parasect', 'Venomoth', 'Dugtrio',\n",
       "       'Persian', 'Golduck', 'Primeape', 'Arcanine', 'Poliwag',\n",
       "       'Poliwrath', 'Abra', 'Alakazam', 'Machop', 'Machamp', 'Bellsprout',\n",
       "       'Victreebel', 'Tentacruel', 'Geodude', 'Golem', 'Rapidash',\n",
       "       'Slowbro', 'Magneton', \"Farfetch'd\", 'Dodrio', 'Dewgong', 'Muk',\n",
       "       'Cloyster', 'Gastly', 'Gengar', 'Onix', 'Hypno', 'Kingler',\n",
       "       'Electrode', 'Exeggutor', 'Marowak', 'Hitmonlee', 'Hitmonchan',\n",
       "       'Lickitung', 'Weezing', 'Rhydon', 'Chansey', 'Tangela',\n",
       "       'Kangaskhan', 'Seadra', 'Seaking', 'Starmie', 'Mr. Mime',\n",
       "       'Scyther', 'Jynx', 'Electabuzz', 'Magmar', 'Pinsir', 'Tauros',\n",
       "       'Gyarados', 'Lapras', 'Ditto', 'Eevee', 'Vaporeon', 'Jolteon',\n",
       "       'Flareon', 'Porygon', 'Omastar', 'Kabutops', 'Aerodactyl',\n",
       "       'Snorlax', 'Articuno', 'Zapdos', 'Moltres', 'Dratini', 'Dragonite',\n",
       "       'Mewtwo', 'Mew'], dtype=object)"
      ]
     },
     "execution_count": 63,
     "metadata": {},
     "output_type": "execute_result"
    }
   ],
   "source": [
    "df5['name'].unique()"
   ]
  },
  {
   "cell_type": "markdown",
   "id": "7a3aa9e0",
   "metadata": {},
   "source": [
    "#### Get all Pokemons whose spawn time is less than 300 seconds."
   ]
  },
  {
   "cell_type": "code",
   "execution_count": 64,
   "id": "1aa7d1b4",
   "metadata": {},
   "outputs": [],
   "source": [
    "df['spawn_time_'] = df['spawn_time'].str.strip().str.split(':')"
   ]
  },
  {
   "cell_type": "code",
   "execution_count": 65,
   "id": "1cbf90e3",
   "metadata": {},
   "outputs": [],
   "source": [
    "df['spawn_time_min'] = df['spawn_time_'].str.get(0)"
   ]
  },
  {
   "cell_type": "code",
   "execution_count": 66,
   "id": "936b16b9",
   "metadata": {},
   "outputs": [],
   "source": [
    "df['spawn_time_min'] = df['spawn_time_min'].replace(np.NaN,0)"
   ]
  },
  {
   "cell_type": "code",
   "execution_count": 67,
   "id": "5104f1f9",
   "metadata": {},
   "outputs": [],
   "source": [
    "df['spawn_time_min'] = df['spawn_time_min'].astype('int')"
   ]
  },
  {
   "cell_type": "code",
   "execution_count": 68,
   "id": "56d0c91d",
   "metadata": {},
   "outputs": [],
   "source": [
    "df['spawn_time_min'] = df['spawn_time_min']*60"
   ]
  },
  {
   "cell_type": "code",
   "execution_count": 69,
   "id": "73f5432e",
   "metadata": {},
   "outputs": [],
   "source": [
    "df['spawn_time_sec'] = df['spawn_time_'].str.get(1)"
   ]
  },
  {
   "cell_type": "code",
   "execution_count": 70,
   "id": "1bab855a",
   "metadata": {},
   "outputs": [],
   "source": [
    "df['spawn_time_sec'] = df['spawn_time_sec'].replace(np.NaN,0)"
   ]
  },
  {
   "cell_type": "code",
   "execution_count": 71,
   "id": "bc9c1080",
   "metadata": {},
   "outputs": [],
   "source": [
    "df['spawn_time_sec'] = df['spawn_time_sec'].astype('int')"
   ]
  },
  {
   "cell_type": "code",
   "execution_count": 72,
   "id": "a520fd35",
   "metadata": {},
   "outputs": [],
   "source": [
    "df['spawn_time_'] = df['spawn_time_min'] + df['spawn_time_sec']"
   ]
  },
  {
   "cell_type": "code",
   "execution_count": 73,
   "id": "690d47b6",
   "metadata": {},
   "outputs": [],
   "source": [
    "df6 = df[df['spawn_time_'] < 300]"
   ]
  },
  {
   "cell_type": "code",
   "execution_count": 74,
   "id": "5d3f94be",
   "metadata": {},
   "outputs": [],
   "source": [
    "#df6[['name']]"
   ]
  },
  {
   "cell_type": "code",
   "execution_count": 75,
   "id": "29c00f5e",
   "metadata": {},
   "outputs": [
    {
     "data": {
      "text/plain": [
       "81"
      ]
     },
     "execution_count": 75,
     "metadata": {},
     "output_type": "execute_result"
    }
   ],
   "source": [
    "df6['name'].nunique()"
   ]
  },
  {
   "cell_type": "markdown",
   "id": "8a9097e6",
   "metadata": {},
   "source": [
    "`81 Pokemons whose spawn time is less than 300 seconds are as below`"
   ]
  },
  {
   "cell_type": "code",
   "execution_count": 76,
   "id": "7f5f8af9",
   "metadata": {},
   "outputs": [
    {
     "data": {
      "text/plain": [
       "array(['Squirtle', 'Blastoise', 'Metapod', 'Weedle', 'Kakuna', 'Beedrill',\n",
       "       'Pidgey', 'Pidgeotto', 'Pidgeot', 'Rattata', 'Raticate', 'Fearow',\n",
       "       'Arbok', 'Pikachu', 'Sandshrew', 'Nidoran ♀ (Female)',\n",
       "       'Nidoran ♂ (Male)', 'Clefairy', 'Clefable', 'Ninetales', 'Golbat',\n",
       "       'Oddish', 'Paras', 'Parasect', 'Venonat', 'Diglett', 'Meowth',\n",
       "       'Persian', 'Psyduck', 'Growlithe', 'Arcanine', 'Poliwag',\n",
       "       'Poliwrath', 'Abra', 'Machop', 'Machamp', 'Bellsprout',\n",
       "       'Tentacool', 'Graveler', 'Ponyta', 'Rapidash', 'Slowbro',\n",
       "       'Magnemite', \"Farfetch'd\", 'Dodrio', 'Muk', 'Cloyster', 'Gastly',\n",
       "       'Haunter', 'Gengar', 'Onix', 'Drowzee', 'Hypno', 'Krabby',\n",
       "       'Kingler', 'Voltorb', 'Electrode', 'Cubone', 'Marowak',\n",
       "       'Hitmonlee', 'Lickitung', 'Rhyhorn', 'Chansey', 'Kangaskhan',\n",
       "       'Horsea', 'Seadra', 'Goldeen', 'Mr. Mime', 'Electabuzz', 'Pinsir',\n",
       "       'Tauros', 'Gyarados', 'Ditto', 'Jolteon', 'Porygon', 'Kabuto',\n",
       "       'Articuno', 'Zapdos', 'Moltres', 'Mewtwo', 'Mew'], dtype=object)"
      ]
     },
     "execution_count": 76,
     "metadata": {},
     "output_type": "execute_result"
    }
   ],
   "source": [
    "df6['name'].unique()"
   ]
  },
  {
   "cell_type": "markdown",
   "id": "3bde5fa2",
   "metadata": {},
   "source": [
    "#### Get all Pokemon who have more than two types of capabilities"
   ]
  },
  {
   "cell_type": "code",
   "execution_count": 77,
   "id": "61f4ca04",
   "metadata": {},
   "outputs": [],
   "source": [
    "df['type'] = df['type'].str.strip('[,]').str.split(',')"
   ]
  },
  {
   "cell_type": "code",
   "execution_count": 78,
   "id": "57a278ca",
   "metadata": {},
   "outputs": [],
   "source": [
    "#df[['type']]"
   ]
  },
  {
   "cell_type": "code",
   "execution_count": 79,
   "id": "77dcb647",
   "metadata": {},
   "outputs": [],
   "source": [
    "df7 = df[df['type'].apply(lambda x: len(x) > 2)]"
   ]
  },
  {
   "cell_type": "code",
   "execution_count": 80,
   "id": "30dcc29c",
   "metadata": {},
   "outputs": [
    {
     "data": {
      "text/html": [
       "<div>\n",
       "<style scoped>\n",
       "    .dataframe tbody tr th:only-of-type {\n",
       "        vertical-align: middle;\n",
       "    }\n",
       "\n",
       "    .dataframe tbody tr th {\n",
       "        vertical-align: top;\n",
       "    }\n",
       "\n",
       "    .dataframe thead th {\n",
       "        text-align: right;\n",
       "    }\n",
       "</style>\n",
       "<table border=\"1\" class=\"dataframe\">\n",
       "  <thead>\n",
       "    <tr style=\"text-align: right;\">\n",
       "      <th></th>\n",
       "      <th>id</th>\n",
       "      <th>num</th>\n",
       "      <th>name</th>\n",
       "      <th>img</th>\n",
       "      <th>type</th>\n",
       "      <th>height</th>\n",
       "      <th>weight</th>\n",
       "      <th>candy</th>\n",
       "      <th>candy_count</th>\n",
       "      <th>egg</th>\n",
       "      <th>...</th>\n",
       "      <th>spawn_time</th>\n",
       "      <th>multipliers</th>\n",
       "      <th>weaknesses</th>\n",
       "      <th>next_evolution</th>\n",
       "      <th>prev_evolution</th>\n",
       "      <th>weaknessess</th>\n",
       "      <th>multipliers_</th>\n",
       "      <th>spawn_time_</th>\n",
       "      <th>spawn_time_min</th>\n",
       "      <th>spawn_time_sec</th>\n",
       "    </tr>\n",
       "  </thead>\n",
       "  <tbody>\n",
       "  </tbody>\n",
       "</table>\n",
       "<p>0 rows × 22 columns</p>\n",
       "</div>"
      ],
      "text/plain": [
       "Empty DataFrame\n",
       "Columns: [id, num, name, img, type, height, weight, candy, candy_count, egg, spawn_chance, avg_spawns, spawn_time, multipliers, weaknesses, next_evolution, prev_evolution, weaknessess, multipliers_, spawn_time_, spawn_time_min, spawn_time_sec]\n",
       "Index: []\n",
       "\n",
       "[0 rows x 22 columns]"
      ]
     },
     "execution_count": 80,
     "metadata": {},
     "output_type": "execute_result"
    }
   ],
   "source": [
    "df7"
   ]
  },
  {
   "cell_type": "markdown",
   "id": "ca8f559a",
   "metadata": {},
   "source": [
    "`There are no Pokemon who have more than two types of capabilities`"
   ]
  },
  {
   "cell_type": "markdown",
   "id": "f4cd32c7",
   "metadata": {},
   "source": [
    "### Question 7 -\n",
    "\n",
    "**Using the data from Question 4, write code to analyze the data and answer the following questions**\n",
    "**Note** -\n",
    "\n",
    "1. Draw plots to demonstrate the analysis for the following questions for better visualizations\n",
    "2. Write code comments wherever required for code understanding\n",
    "\n",
    "Insights to be drawn -\n",
    "- Get all the Earth meteorites that fell before the year 2000\n",
    "- Get all the earth meteorites co-ordinates who fell before the year 1970\n",
    "- Assuming that the mass of the earth meteorites was in kg, get all those whose mass was more than 10000kg"
   ]
  },
  {
   "cell_type": "code",
   "execution_count": 81,
   "id": "0eaa6e9e",
   "metadata": {},
   "outputs": [],
   "source": [
    "import pandas as pd\n",
    "import numpy as np"
   ]
  },
  {
   "cell_type": "code",
   "execution_count": 82,
   "id": "d9d16d23",
   "metadata": {},
   "outputs": [],
   "source": [
    "df_nasa = pd.read_csv('../python/nasa_data.csv')"
   ]
  },
  {
   "cell_type": "code",
   "execution_count": 83,
   "id": "cebc2b50",
   "metadata": {},
   "outputs": [
    {
     "data": {
      "text/html": [
       "<div>\n",
       "<style scoped>\n",
       "    .dataframe tbody tr th:only-of-type {\n",
       "        vertical-align: middle;\n",
       "    }\n",
       "\n",
       "    .dataframe tbody tr th {\n",
       "        vertical-align: top;\n",
       "    }\n",
       "\n",
       "    .dataframe thead th {\n",
       "        text-align: right;\n",
       "    }\n",
       "</style>\n",
       "<table border=\"1\" class=\"dataframe\">\n",
       "  <thead>\n",
       "    <tr style=\"text-align: right;\">\n",
       "      <th></th>\n",
       "      <th>name</th>\n",
       "      <th>id</th>\n",
       "      <th>nametype</th>\n",
       "      <th>recclass</th>\n",
       "      <th>mass</th>\n",
       "      <th>fall</th>\n",
       "      <th>year</th>\n",
       "      <th>reclat</th>\n",
       "      <th>reclong</th>\n",
       "      <th>point coordinates</th>\n",
       "    </tr>\n",
       "  </thead>\n",
       "  <tbody>\n",
       "    <tr>\n",
       "      <th>0</th>\n",
       "      <td>Aachen</td>\n",
       "      <td>1</td>\n",
       "      <td>Valid</td>\n",
       "      <td>L5</td>\n",
       "      <td>21.0</td>\n",
       "      <td>Fell</td>\n",
       "      <td>1880-01-01T00:00:00.000</td>\n",
       "      <td>50.77500</td>\n",
       "      <td>6.08333</td>\n",
       "      <td>[6.08333, 50.775]</td>\n",
       "    </tr>\n",
       "    <tr>\n",
       "      <th>1</th>\n",
       "      <td>Aarhus</td>\n",
       "      <td>2</td>\n",
       "      <td>Valid</td>\n",
       "      <td>H6</td>\n",
       "      <td>720.0</td>\n",
       "      <td>Fell</td>\n",
       "      <td>1951-01-01T00:00:00.000</td>\n",
       "      <td>56.18333</td>\n",
       "      <td>10.23333</td>\n",
       "      <td>[6.08333, 50.775]</td>\n",
       "    </tr>\n",
       "    <tr>\n",
       "      <th>2</th>\n",
       "      <td>Abee</td>\n",
       "      <td>6</td>\n",
       "      <td>Valid</td>\n",
       "      <td>EH4</td>\n",
       "      <td>107000.0</td>\n",
       "      <td>Fell</td>\n",
       "      <td>1952-01-01T00:00:00.000</td>\n",
       "      <td>54.21667</td>\n",
       "      <td>-113.00000</td>\n",
       "      <td>[6.08333, 50.775]</td>\n",
       "    </tr>\n",
       "    <tr>\n",
       "      <th>3</th>\n",
       "      <td>Acapulco</td>\n",
       "      <td>10</td>\n",
       "      <td>Valid</td>\n",
       "      <td>Acapulcoite</td>\n",
       "      <td>1914.0</td>\n",
       "      <td>Fell</td>\n",
       "      <td>1976-01-01T00:00:00.000</td>\n",
       "      <td>16.88333</td>\n",
       "      <td>-99.90000</td>\n",
       "      <td>[6.08333, 50.775]</td>\n",
       "    </tr>\n",
       "    <tr>\n",
       "      <th>4</th>\n",
       "      <td>Achiras</td>\n",
       "      <td>370</td>\n",
       "      <td>Valid</td>\n",
       "      <td>L6</td>\n",
       "      <td>780.0</td>\n",
       "      <td>Fell</td>\n",
       "      <td>1902-01-01T00:00:00.000</td>\n",
       "      <td>-33.16667</td>\n",
       "      <td>-64.95000</td>\n",
       "      <td>[6.08333, 50.775]</td>\n",
       "    </tr>\n",
       "  </tbody>\n",
       "</table>\n",
       "</div>"
      ],
      "text/plain": [
       "       name   id nametype     recclass      mass  fall  \\\n",
       "0    Aachen    1    Valid           L5      21.0  Fell   \n",
       "1    Aarhus    2    Valid           H6     720.0  Fell   \n",
       "2      Abee    6    Valid          EH4  107000.0  Fell   \n",
       "3  Acapulco   10    Valid  Acapulcoite    1914.0  Fell   \n",
       "4   Achiras  370    Valid           L6     780.0  Fell   \n",
       "\n",
       "                      year    reclat    reclong  point coordinates  \n",
       "0  1880-01-01T00:00:00.000  50.77500    6.08333  [6.08333, 50.775]  \n",
       "1  1951-01-01T00:00:00.000  56.18333   10.23333  [6.08333, 50.775]  \n",
       "2  1952-01-01T00:00:00.000  54.21667 -113.00000  [6.08333, 50.775]  \n",
       "3  1976-01-01T00:00:00.000  16.88333  -99.90000  [6.08333, 50.775]  \n",
       "4  1902-01-01T00:00:00.000 -33.16667  -64.95000  [6.08333, 50.775]  "
      ]
     },
     "execution_count": 83,
     "metadata": {},
     "output_type": "execute_result"
    }
   ],
   "source": [
    "df_nasa.head()"
   ]
  },
  {
   "cell_type": "code",
   "execution_count": 84,
   "id": "bbd4ab44",
   "metadata": {},
   "outputs": [
    {
     "data": {
      "text/plain": [
       "(1000, 10)"
      ]
     },
     "execution_count": 84,
     "metadata": {},
     "output_type": "execute_result"
    }
   ],
   "source": [
    "df_nasa.shape"
   ]
  },
  {
   "cell_type": "code",
   "execution_count": 85,
   "id": "844a7834",
   "metadata": {},
   "outputs": [
    {
     "name": "stdout",
     "output_type": "stream",
     "text": [
      "<class 'pandas.core.frame.DataFrame'>\n",
      "RangeIndex: 1000 entries, 0 to 999\n",
      "Data columns (total 10 columns):\n",
      " #   Column             Non-Null Count  Dtype  \n",
      "---  ------             --------------  -----  \n",
      " 0   name               1000 non-null   object \n",
      " 1   id                 1000 non-null   int64  \n",
      " 2   nametype           1000 non-null   object \n",
      " 3   recclass           1000 non-null   object \n",
      " 4   mass               972 non-null    float64\n",
      " 5   fall               1000 non-null   object \n",
      " 6   year               999 non-null    object \n",
      " 7   reclat             988 non-null    float64\n",
      " 8   reclong            988 non-null    float64\n",
      " 9   point coordinates  1000 non-null   object \n",
      "dtypes: float64(3), int64(1), object(6)\n",
      "memory usage: 78.2+ KB\n"
     ]
    }
   ],
   "source": [
    "df_nasa.info()"
   ]
  },
  {
   "cell_type": "code",
   "execution_count": 86,
   "id": "a519221c",
   "metadata": {},
   "outputs": [],
   "source": [
    "df_nasa['year'] = df_nasa['year'].str.split('T').str.get(0)"
   ]
  },
  {
   "cell_type": "code",
   "execution_count": 87,
   "id": "0d23d9fa",
   "metadata": {},
   "outputs": [],
   "source": [
    "df_nasa['year']= df_nasa['year'].replace(np.nan,0)"
   ]
  },
  {
   "cell_type": "markdown",
   "id": "72943770",
   "metadata": {},
   "source": [
    "#### Get all the Earth meteorites that fell before the year 2000"
   ]
  },
  {
   "cell_type": "code",
   "execution_count": 88,
   "id": "d2445b43",
   "metadata": {},
   "outputs": [],
   "source": [
    "df_nasa['year_'] = df_nasa['year'].str.split('T').str.get(0)"
   ]
  },
  {
   "cell_type": "code",
   "execution_count": 89,
   "id": "9fb57fe0",
   "metadata": {},
   "outputs": [],
   "source": [
    "df_nasa['year_'] = df_nasa['year_'].str.split('-').str.get(0)"
   ]
  },
  {
   "cell_type": "code",
   "execution_count": 90,
   "id": "463ae199",
   "metadata": {},
   "outputs": [],
   "source": [
    "df_nasa['year_'] = df_nasa['year_'].astype(float)"
   ]
  },
  {
   "cell_type": "code",
   "execution_count": 91,
   "id": "07de58af",
   "metadata": {},
   "outputs": [
    {
     "data": {
      "text/html": [
       "<div>\n",
       "<style scoped>\n",
       "    .dataframe tbody tr th:only-of-type {\n",
       "        vertical-align: middle;\n",
       "    }\n",
       "\n",
       "    .dataframe tbody tr th {\n",
       "        vertical-align: top;\n",
       "    }\n",
       "\n",
       "    .dataframe thead th {\n",
       "        text-align: right;\n",
       "    }\n",
       "</style>\n",
       "<table border=\"1\" class=\"dataframe\">\n",
       "  <thead>\n",
       "    <tr style=\"text-align: right;\">\n",
       "      <th></th>\n",
       "      <th>name</th>\n",
       "      <th>id</th>\n",
       "      <th>nametype</th>\n",
       "      <th>recclass</th>\n",
       "      <th>mass</th>\n",
       "      <th>fall</th>\n",
       "      <th>year</th>\n",
       "      <th>reclat</th>\n",
       "      <th>reclong</th>\n",
       "      <th>point coordinates</th>\n",
       "      <th>year_</th>\n",
       "    </tr>\n",
       "  </thead>\n",
       "  <tbody>\n",
       "    <tr>\n",
       "      <th>0</th>\n",
       "      <td>Aachen</td>\n",
       "      <td>1</td>\n",
       "      <td>Valid</td>\n",
       "      <td>L5</td>\n",
       "      <td>21.0</td>\n",
       "      <td>Fell</td>\n",
       "      <td>1880-01-01</td>\n",
       "      <td>50.77500</td>\n",
       "      <td>6.08333</td>\n",
       "      <td>[6.08333, 50.775]</td>\n",
       "      <td>1880.0</td>\n",
       "    </tr>\n",
       "    <tr>\n",
       "      <th>1</th>\n",
       "      <td>Aarhus</td>\n",
       "      <td>2</td>\n",
       "      <td>Valid</td>\n",
       "      <td>H6</td>\n",
       "      <td>720.0</td>\n",
       "      <td>Fell</td>\n",
       "      <td>1951-01-01</td>\n",
       "      <td>56.18333</td>\n",
       "      <td>10.23333</td>\n",
       "      <td>[6.08333, 50.775]</td>\n",
       "      <td>1951.0</td>\n",
       "    </tr>\n",
       "  </tbody>\n",
       "</table>\n",
       "</div>"
      ],
      "text/plain": [
       "     name  id nametype recclass   mass  fall        year    reclat   reclong  \\\n",
       "0  Aachen   1    Valid       L5   21.0  Fell  1880-01-01  50.77500   6.08333   \n",
       "1  Aarhus   2    Valid       H6  720.0  Fell  1951-01-01  56.18333  10.23333   \n",
       "\n",
       "   point coordinates   year_  \n",
       "0  [6.08333, 50.775]  1880.0  \n",
       "1  [6.08333, 50.775]  1951.0  "
      ]
     },
     "execution_count": 91,
     "metadata": {},
     "output_type": "execute_result"
    }
   ],
   "source": [
    "df_nasa.head(2)"
   ]
  },
  {
   "cell_type": "code",
   "execution_count": 92,
   "id": "ad289cbb",
   "metadata": {},
   "outputs": [],
   "source": [
    "df_nasa_1 = df_nasa[df_nasa['year_'] < 2000]"
   ]
  },
  {
   "cell_type": "code",
   "execution_count": 93,
   "id": "150572b1",
   "metadata": {},
   "outputs": [],
   "source": [
    "#df_nasa_1[['name']]"
   ]
  },
  {
   "cell_type": "code",
   "execution_count": 94,
   "id": "ae1cce06",
   "metadata": {},
   "outputs": [
    {
     "data": {
      "text/plain": [
       "929"
      ]
     },
     "execution_count": 94,
     "metadata": {},
     "output_type": "execute_result"
    }
   ],
   "source": [
    "df_nasa_1['name'].nunique()"
   ]
  },
  {
   "cell_type": "markdown",
   "id": "21424c6b",
   "metadata": {},
   "source": [
    "`929 Earth meteorites that fell before the year 2000`"
   ]
  },
  {
   "cell_type": "code",
   "execution_count": 95,
   "id": "15b3ed65",
   "metadata": {},
   "outputs": [
    {
     "data": {
      "text/plain": [
       "array(['Aachen', 'Aarhus', 'Abee', 'Acapulco', 'Achiras', 'Adhi Kot',\n",
       "       'Adzhi-Bogdo (stone)', 'Agen', 'Aguada', 'Aguila Blanca',\n",
       "       'Aioun el Atrouss', 'Aïr', 'Aire-sur-la-Lys', 'Akaba', 'Akbarpur',\n",
       "       'Akwanga', 'Akyumak', 'Al Rais', 'Alais', 'Albareto', 'Alberta',\n",
       "       'Aldsworth', 'Aleppo', 'Alessandria', 'Alexandrovsky',\n",
       "       'Alfianello', 'Allegan', 'Allende', \"Alta'ameem\", 'Ambapur Nagla',\n",
       "       'Andhara', 'Andover', 'Andreevka', 'Andura', 'Angers',\n",
       "       'Angra dos Reis (stone)', 'Ankober', 'Anlong', 'Aomori',\n",
       "       'Appley Bridge', 'Apt', 'Arbol Solo', 'Archie', 'Arroyo Aguiar',\n",
       "       'Asco', 'Ashdon', 'Assisi', 'Atarra', 'Atemajac', 'Athens',\n",
       "       'Atoka', 'Aubres', 'Aumale', 'Aumieres', 'Ausson', 'Avanhandava',\n",
       "       'Avce', 'Avilez', 'Awere', 'Aztec', 'Bachmut', 'Bahjoi',\n",
       "       'Bald Mountain', 'Baldwyn', 'Bali', 'Ban Rong Du', 'Bandong',\n",
       "       'Bansur', 'Banswal', 'Banten', 'Barbotan', 'Barcelona (stone)',\n",
       "       'Barea', 'Barnaul', 'Barntrup', 'Baroti', 'Barwell', 'Baszkówka',\n",
       "       'Bath', 'Bath Furnace', 'Bawku', 'Baxter', 'Beardsley',\n",
       "       'Beaver Creek', 'Beddgelert', 'Bells', 'Belville', 'Benares (a)',\n",
       "       'Benld', 'Benoni', 'Benton', 'Béréba', 'Berlanguillas',\n",
       "       'Bethlehem', 'Beuste', 'Beyrout', 'Bhagur', 'Bherai', 'Bhola',\n",
       "       'Bholghati', 'Bialystok', 'Bielokrynitschie', 'Bilanga',\n",
       "       'Binningup', \"Birni N'konni\", 'Bishopville', 'Bishunpur',\n",
       "       'Bjelaja Zerkov', 'Bjurböle', 'Black Moshannan Park', 'Blackwell',\n",
       "       'Blanket', 'Blansko', 'Bloomington', 'Bo Xian', 'Bocas', 'Bogou',\n",
       "       'Boguslavka', 'Borgo San Donino', 'Bori', 'Boriskino', 'Borkut',\n",
       "       'Borodino', 'Botschetschki', 'Bovedy', 'Bradford Woods', 'Braunau',\n",
       "       'Breitscheid', 'Bremervörde', 'Brient', 'Bruderheim', 'Bulls Run',\n",
       "       'Bununu', 'Bur-Gheluai', 'Burnwell', 'Bursa', 'Buschhof', 'Bustee',\n",
       "       'Butsura', 'Cabezo de Mayo', 'Cabin Creek', 'Cacak', 'Calivo',\n",
       "       'Campos Sales', 'Çanakkale', 'Cañellas', 'Cangas de Onis',\n",
       "       'Canon City', 'Cape Girardeau', 'Capilla del Monte', 'Caratash',\n",
       "       'Castalia', 'Castel Berardenga', 'Castine', 'Castrovillari',\n",
       "       'Caswell County', 'Ceniceros', 'Centerville', 'Cereseto',\n",
       "       'Chadong', 'Chail', 'Chainpur', 'Chajari', 'Chandakapur',\n",
       "       'Chandpur', 'Changde', 'Chantonnay', 'Charlotte', 'Charsonville',\n",
       "       'Charwallas', 'Chassigny', 'Château-Renard', 'Chaves', 'Chela',\n",
       "       'Chernyi Bor', 'Cherokee Springs', 'Chervettaz', 'Chervony Kut',\n",
       "       'Chetrinahatti', 'Chiang Khan', 'Chicora', 'Chisenga', 'Chitado',\n",
       "       'Chitenay', 'Cilimus', 'Claxton', 'Clohars', 'Colby (Wisconsin)',\n",
       "       'Cold Bokkeveld', 'Coleman', 'Collescipoli', 'Conquista', 'Cosina',\n",
       "       'Cranganore', 'Crescent', 'Cronstad', 'Cross Roads', 'Crumlin',\n",
       "       'Cumberland Falls', 'Cynthiana', 'Dahmani', 'Dandapur',\n",
       "       \"Daniel's Kuil\", 'Danville', 'Darmstadt', 'Dashoguz',\n",
       "       'De Cewsville', 'Deal', 'Delhi', 'Demina', 'Denver', 'Desuri',\n",
       "       'Devri-Khera', 'Dhajala', 'Dharwar', 'Dhurmsala', 'Diep River',\n",
       "       'Distrito Quebracho', 'Djati-Pengilon', 'Djermaia', 'Djoumine',\n",
       "       'Dokachi', 'Dolgovoli', 'Domanitch', 'Dong Ujimqin Qi',\n",
       "       'Donga Kohrod', 'Dongtai', 'Doroninsk', 'Dosso', 'Douar Mghila',\n",
       "       'Dowa', 'Drake Creek', 'Dresden (Ontario)', 'Dubrovnik',\n",
       "       'Dunbogan', 'Dundrum', 'Dunhua', 'Durala', 'Duruma', 'Duwun',\n",
       "       'Dwaleni', 'Dyalpur', 'Dyarrl Island', 'Eagle', 'Ehole',\n",
       "       'Eichstädt', 'Ekeby', 'Ekh Khera', 'El Idrissia',\n",
       "       'El Paso de Aguila', 'El Tigre', 'Elbert', 'Elbogen', 'Elenovka',\n",
       "       'Ellemeet', 'Emmaville', 'Enshi', 'Ensisheim', 'Épinal', 'Erakot',\n",
       "       'Erevan', 'Ergheo', 'Erxleben', 'Esnandes', 'Essebi',\n",
       "       'Estherville', 'Farmington', 'Farmville', 'Favars', 'Fayetteville',\n",
       "       'Feid Chair', 'Felix', 'Fenghsien-Ku', 'Ferguson', 'Fermo',\n",
       "       'Fisher', 'Florence', 'Forest City', 'Forest Vale', 'Forksville',\n",
       "       'Forsbach', 'Forsyth', 'Fort Flatters', 'Frankfort (stone)',\n",
       "       'Fuhe', 'Fukutomi', 'Fünen', 'Futtehpur', 'Fuyang', 'Galapian',\n",
       "       'Galim (a)', 'Galim (b)', 'Galkiv', 'Gambat', 'Gao-Guenie',\n",
       "       'Garhi Yasin', 'Garland', 'Gashua', 'Geidam', 'Gifu', 'Girgenti',\n",
       "       'Git-Git', 'Glanerbrug', 'Glanggang', 'Glasatovo', 'Glatton',\n",
       "       'Gnadenfrei', 'Gopalpur', 'Gorlovka', 'Granes', 'Grefsheim',\n",
       "       'Grosnaja', 'Gross-Divina', 'Grossliebenthal', 'Grüneberg',\n",
       "       'Grzempach', 'Gualeguaychú', 'Guangmingshan', 'Guangnan',\n",
       "       'Guangrao', 'Guareña', 'Guêa', 'Guibga', 'Guidder', 'Gujargaon',\n",
       "       'Gujba', 'Gumoschnik', 'Gurram Konda', 'Gursum', 'Gütersloh',\n",
       "       'Gyokukei', 'Hachi-oji', 'Hainaut', 'Hallingeberg', 'Hamlet',\n",
       "       'Haraiya', 'Haripura', 'Harleton', 'Harrison County', 'Hashima',\n",
       "       'Hassi-Jekna', 'Hatford', 'Haverö', 'Hedeskoga', 'Hedjaz',\n",
       "       'Heredia', 'Hessle', 'Higashi-koen', 'High Possil', 'Hökmark',\n",
       "       'Holbrook', 'Holetta', 'Homestead', 'Honolulu', 'Hotse', 'Hoxie',\n",
       "       'Hraschina', 'Hungen', 'Hvittis', 'Ibbenbüren', 'Ibitira',\n",
       "       'Ibrisim', 'Ichkala', 'Idutywa', 'Iguaracu', 'Ijopega', 'Indarch',\n",
       "       'Independence', 'Inner Mongolia', 'Innisfree', 'Ipiranga',\n",
       "       'Ishinga', 'Isthilart', 'Itapicuru-Mirim', 'Itqiy', 'Ivuna',\n",
       "       'Jackalsfontein', 'Jajh deh Kot Lalu', 'Jalanash', 'Jalandhar',\n",
       "       'Jamkheir', 'Jartai', 'Jelica', 'Jemlapur', 'Jhung', 'Jiange',\n",
       "       'Jianshi', 'Jilin', 'Jodzie', 'Johnstown', 'Jolomba', 'Jonzac',\n",
       "       'Juancheng', 'Judesegeri', 'Jumapalo', 'Junan', 'Juromenha',\n",
       "       'Juvinas', 'Kaba', 'Kabo', 'Kadonah', 'Kaee', 'Kagarlyk', 'Kaidun',\n",
       "       'Kainsaz', 'Kakangari', 'Kakowa', 'Kalaba', 'Kalumbi', 'Kamalpur',\n",
       "       'Kamiomi', 'Kamsagar', 'Kandahar (Afghanistan)', 'Kangean',\n",
       "       'Kangra Valley', 'Kapoeta', 'Kaptal-Aryk', 'Karakol', 'Karatu',\n",
       "       'Karewar', 'Karkh', 'Karloowala', 'Karoonda', 'Kasamatsu',\n",
       "       'Katagum', 'Kayakent', 'Kediri', 'Kendleton', 'Kerilis',\n",
       "       'Kernouve', 'Kesen', 'Khairpur', 'Khanpur', 'Kharkov', 'Kheragur',\n",
       "       'Khetri', 'Khmelevka', 'Khohar', 'Khor Temiki', 'Kidairat', 'Kiel',\n",
       "       'Kiffa', 'Kijima (1906)', 'Kikino', 'Kilbourn', 'Killeter',\n",
       "       'Kingai', 'Kirbyville', 'Kisvarsány', 'Kitchener', 'Klein-Wenden',\n",
       "       'Knyahinya', 'Kobe', 'Kokubunji', 'Komagome', 'Konovo',\n",
       "       'Krähenberg', 'Krasnoi-Ugol', 'Krasnyi Klyuch', 'Krutikha',\n",
       "       'Krymka', 'Kukschin', 'Kulak', 'Kuleschovka', 'Kulp', 'Kunashak',\n",
       "       'Kunya-Urgench', 'Kushiike', 'Kusiali', 'Kutais', 'Kuttippuram',\n",
       "       'Kuznetzovo', 'Kyushu', 'La Bécasse', 'La Charca', 'La Colina',\n",
       "       'La Criolla', 'Laborel', 'Lahrauli', \"L'Aigle\", 'Lakangaon',\n",
       "       'Lalitpur', 'Lancé', 'Lancon', 'Långhalsen', 'Lanxi',\n",
       "       'Lanzenkirchen', 'Laochenzhen', 'Launton', 'Lavrentievka',\n",
       "       'Le Pressoir', 'Le Teilleul', 'Leedey', 'Leeuwfontein',\n",
       "       'Leighlinbridge', 'Leighton', 'Leonovka', 'Les Ormes', 'Lesves',\n",
       "       'Lichtenberg', 'Lillaverke', 'Limerick', 'Linum', 'Lishui',\n",
       "       'Lissa', 'Little Piney', 'Lixna', 'Lodran', 'Lohawat',\n",
       "       'Los Martinez', 'Lost City', 'Louisville', 'Łowicz', 'Lua', 'Lucé',\n",
       "       'Lumpkin', 'Lunan', 'Lundsgård', 'Luotolax', 'Luponnas', 'Lusaka',\n",
       "       'Mabwe-Khoywa', 'Macau', 'Machinga', 'Macibini', 'Madhipura',\n",
       "       'Madiun', 'Madrid', 'Mafra', 'Magnesia', 'Magombedze', 'Malaga',\n",
       "       'Malakal', 'Malampaka', 'Malotas', 'Malvern', 'Mamra Springs',\n",
       "       'Manbhoom', 'Manegaon', 'Mangwendi', 'Manych', 'Mardan',\n",
       "       'Maria Linden', 'Mariaville', 'Maridi', 'Marilia', 'Marion (Iowa)',\n",
       "       'Marjalahti', 'Marmande', 'Maryville', 'Mascombes', 'Mässing',\n",
       "       'Mauerkirchen', 'Mauritius', 'Mayo Belwa', 'Mazapil', 'Maziba',\n",
       "       'Mbale', 'Medanitos', 'Meerut', 'Meester-Cornelis', 'Menow',\n",
       "       'Menziswyl', 'Mern', 'Meru', 'Merua', 'Messina', 'Meuselbach',\n",
       "       'Mezel', 'Mezö-Madaras', 'Mhow', 'Mianchi', 'Middlesbrough',\n",
       "       'Mighei', 'Mihonoseki', 'Mike', 'Milena', 'Millbillillie',\n",
       "       'Miller (Arkansas)', 'Minamino', 'Mineo', 'Min-Fan-Zhun',\n",
       "       'Minnichhof', 'Mirzapur', 'Misshof', 'Mjelleim', 'Mocs',\n",
       "       'Modoc (1905)', 'Mokoia', 'Molina', 'Molteno', 'Monahans (1998)',\n",
       "       'Monroe', 'Monte das Fortes', 'Monte Milone', 'Montferré',\n",
       "       'Montlivault', 'Monze', 'Moore County', 'Mooresfort', 'Moorleah',\n",
       "       'Moradabad', 'Mornans', 'Moti-ka-nagla', 'Motta di Conti',\n",
       "       'Mount Browne', 'Mount Tazerzait', 'Mount Vaisi', 'Mtola',\n",
       "       'Muddoor', 'Mulletiwu', 'Muraid', 'Murchison', 'Murray',\n",
       "       'Muzaffarpur', 'Myhee Caunta', 'Nadiabondi', 'Nagai', 'Nagaria',\n",
       "       'Nagy-Borové', 'Nakhla', 'Nakhon Pathom', 'Nammianthal',\n",
       "       'Nan Yang Pao', 'Nanjemoy', 'Nantong', 'Naoki', 'Naragh',\n",
       "       'Narellan', 'Narni', 'Nassirah', 'Natal', 'Nawapali', 'Neagari',\n",
       "       'Nedagolla', 'Nejo', 'Nerft', 'New Concord', 'New Halfa', 'Ngawi',\n",
       "       \"N'Goureyma\", 'Nicorps', 'Niger (L6)', 'Niger (LL6)', 'Nikolaevka',\n",
       "       'Nikolskoe', 'Ningbo', 'Ningqiang', 'Nio', \"N'Kandhla\",\n",
       "       'Nobleborough', 'Noblesville', 'Nogata', 'Nogoya', 'Norfork',\n",
       "       'Norton County', 'Noventa Vicentina', 'Novo-Urei', 'Novy-Ergi',\n",
       "       'Novy-Projekt', 'Noyan-Bogdo', 'Nuevo Mercurio', 'Nulles',\n",
       "       'Numakai', 'Nyaung', 'Nyirábrany', 'Ochansk', 'Oesede', 'Oesel',\n",
       "       'Ofehértó', 'Ogi', 'Ohaba', 'Ohuma', 'Ojuelos Altos', 'Okabe',\n",
       "       'Okano', 'Okniny', 'Oldenburg (1930)', 'Oliva-Gandia', 'Olivenza',\n",
       "       'Olmedilla de Alarcón', 'Omolon', 'Orgueil', 'Ornans', 'Ortenau',\n",
       "       'Orvinio', 'Oterøy', 'Otomi', 'Ottawa', 'Oued el Hadjar',\n",
       "       'Ourique', 'Ovambo', 'Oviedo', 'Owrucz', 'Pacula', 'Padvarninkai',\n",
       "       'Paitan', 'Palahatchie', 'Palca de Aparzo', 'Palinshih', 'Palmyra',\n",
       "       'Palolo Valley', 'Pampanga', 'Pantar', 'Paragould', 'Parambu',\n",
       "       'Paranaiba', 'Parnallee', 'Parsa', 'Pasamonte', 'Patora',\n",
       "       'Patrimonio', 'Patti', 'Patwar', 'Pavel', 'Pavlodar (stone)',\n",
       "       'Pavlograd', 'Pavlovka', 'Pê', 'Peace River', 'Peckelsheim',\n",
       "       'Peekskill', 'Peña Blanca Spring', 'Peramiho', 'Perpeti', 'Perth',\n",
       "       'Pervomaisky', 'Pesyanoe', 'Pétèlkolé', 'Petersburg', 'Pettiswood',\n",
       "       'Phillips County (stone)', 'Phu Hong', 'Phum Sambo', 'Phuoc-Binh',\n",
       "       'Piancaldoli', 'Picote', 'Pillistfer', 'Piplia Kalan',\n",
       "       'Piquetberg', 'Pirgunje', 'Pirthalla', 'Pitts', 'Plantersville',\n",
       "       'Ploschkovitz', 'Pnompehn', 'Pohlitz', 'Pokhra', 'Pollen',\n",
       "       'Pontlyfni', 'Portales Valley', 'Portugal', 'Po-wang Chen',\n",
       "       'Prambachkirchen', 'Pribram', 'Pricetown', 'Pulsora', 'Pultusk',\n",
       "       'Punganaru', 'Putinga', 'Qidong', 'Qingzhen', \"Queen's Mercy\",\n",
       "       'Quenggouk', 'Quesa', 'Quija', 'Quincay', 'Raco', 'Raghunathpura',\n",
       "       'Rahimyar Khan', 'Rakovka', 'Ramnagar', 'Rampurhat', 'Ramsdorf',\n",
       "       'Ranchapur', 'Rancho de la Presa', 'Rangala', 'Raoyang',\n",
       "       'Ras Tanura', 'Rasgrad', 'Ratyn', 'Reliegos', 'Rembang', 'Renazzo',\n",
       "       'Renca', 'Renqiu', 'Repeev Khutor', 'Revelstoke', 'Rewari',\n",
       "       'Rich Mountain', 'Uzcudun', 'Richardton', 'Richland Springs',\n",
       "       'Richmond', 'Rio Negro', 'Rivolta de Bassi', 'Rochester',\n",
       "       'Rockhampton', 'Roda', 'Rodach', 'Rose City', 'Rowton', 'Ruhobobo',\n",
       "       'Rumuruti', 'Rupota', 'Ryechki', 'Sabetmahet', 'Sabrum', 'Sagan',\n",
       "       'Saint-Sauveur', 'Saint-Séverin', 'Sakauchi', 'Salem', 'Salles',\n",
       "       'Salzwedel', 'Samelia', 'San Juan Capistrano',\n",
       "       'San Pedro de Quiles', 'San Pedro Jacuaro', 'Santa Barbara',\n",
       "       'Santa Cruz', 'Santa Isabel', 'São Jose do Rio Preto', 'Saratov',\n",
       "       'Sasagase', 'Sauguis', 'Savtschenskoje', 'Sayama', 'Sazovice',\n",
       "       'Schellin', 'Schenectady', 'Schönenberg', 'Searsmont', 'Sediköy',\n",
       "       'Segowlie', 'Selakopi', 'Seldebourak', 'Semarkona', 'Sena',\n",
       "       'Senboku', 'Seoni', 'Seres', 'Serra de Magé', 'Sete Lagoas',\n",
       "       'Sevilla', 'Sevrukovo', 'Sfax', 'Shalka', 'Sharps', 'Shelburne',\n",
       "       'Shergotty', 'Sheyang', 'Shikarpur', 'Shuangyang', 'Shupiyan',\n",
       "       'Shytal', 'Siena', 'Sikhote-Alin', 'Silao', 'Silistra', 'Simmern',\n",
       "       'Sinai', 'Sindhri', 'Sinnai', 'Sioux County', 'Sitathali', 'Sivas',\n",
       "       'Sixiangkou', 'Ski', 'Slavetic', 'Slobodka', 'Soheria',\n",
       "       'Soko-Banja', 'Sologne', 'Sone', 'Songyuan', 'Sopot', 'Soroti',\n",
       "       'St. Caprais-de-Quinsac', 'St. Christophe-la-Chartreuse',\n",
       "       'St. Denis Westrem', 'St. Germain-du-Pinel', 'St. Louis',\n",
       "       \"St. Mark's\", \"St. Mary's County\", 'St. Mesmin', 'St. Michel',\n",
       "       'St.-Chinian', 'Ställdalen', 'Stannern', 'Stavropol',\n",
       "       'Ste. Marguerite', 'Sterlitamak', 'Stolzenau', 'Stratford',\n",
       "       'Strathmore', 'Stretchleigh', 'St-Robert', 'Success', 'Suchy Dul',\n",
       "       'Suizhou', 'Sultanpur', 'Sungach', 'Supuhee', 'Sylacauga', 'Tabor',\n",
       "       'Tadjera', 'Tahara', 'Takenouchi', 'Talampaya', 'Tambakwatu',\n",
       "       'Tané', 'Taonan', 'Tatahouine', 'Tathlith', 'Tauk', 'Tauti',\n",
       "       'Tenham', 'Tennasilm', 'Thal', 'Tianzhang', 'Tieschitz', 'Tilden',\n",
       "       'Tillaberi', 'Timochin', 'Tirupati', 'Tjabe', 'Tjerebon',\n",
       "       'Tomakovka'], dtype=object)"
      ]
     },
     "execution_count": 95,
     "metadata": {},
     "output_type": "execute_result"
    }
   ],
   "source": [
    "df_nasa_1['name'].unique()"
   ]
  },
  {
   "cell_type": "markdown",
   "id": "db1a44c3",
   "metadata": {},
   "source": [
    "#### Get all the earth meteorites co-ordinates who fell before the year 1970"
   ]
  },
  {
   "cell_type": "code",
   "execution_count": 96,
   "id": "718b8f9c",
   "metadata": {},
   "outputs": [],
   "source": [
    "df_nasa_2 = df_nasa[df_nasa['year_'] < 1970]"
   ]
  },
  {
   "cell_type": "code",
   "execution_count": 97,
   "id": "a5bacc37",
   "metadata": {},
   "outputs": [
    {
     "data": {
      "text/plain": [
       "780"
      ]
     },
     "execution_count": 97,
     "metadata": {},
     "output_type": "execute_result"
    }
   ],
   "source": [
    "df_nasa_2['name'].nunique()"
   ]
  },
  {
   "cell_type": "markdown",
   "id": "166f4cf9",
   "metadata": {},
   "source": [
    "`780 Earth meteorites that fell before the year 1970`"
   ]
  },
  {
   "cell_type": "code",
   "execution_count": 98,
   "id": "e47b5ffc",
   "metadata": {},
   "outputs": [
    {
     "data": {
      "text/plain": [
       "array(['Aachen', 'Aarhus', 'Abee', 'Achiras', 'Adhi Kot',\n",
       "       'Adzhi-Bogdo (stone)', 'Agen', 'Aguada', 'Aguila Blanca', 'Aïr',\n",
       "       'Aire-sur-la-Lys', 'Akaba', 'Akbarpur', 'Akwanga', 'Al Rais',\n",
       "       'Alais', 'Albareto', 'Alberta', 'Aldsworth', 'Aleppo',\n",
       "       'Alessandria', 'Alexandrovsky', 'Alfianello', 'Allegan', 'Allende',\n",
       "       'Ambapur Nagla', 'Andhara', 'Andover', 'Andreevka', 'Andura',\n",
       "       'Angers', 'Angra dos Reis (stone)', 'Ankober', 'Appley Bridge',\n",
       "       'Apt', 'Arbol Solo', 'Archie', 'Arroyo Aguiar', 'Asco', 'Ashdon',\n",
       "       'Assisi', 'Atarra', 'Atemajac', 'Athens', 'Atoka', 'Aubres',\n",
       "       'Aumale', 'Aumieres', 'Ausson', 'Avanhandava', 'Avce', 'Avilez',\n",
       "       'Awere', 'Aztec', 'Bachmut', 'Bahjoi', 'Bald Mountain', 'Baldwyn',\n",
       "       'Bali', 'Bandong', 'Bansur', 'Banswal', 'Banten', 'Barbotan',\n",
       "       'Barcelona (stone)', 'Barea', 'Barnaul', 'Barntrup', 'Baroti',\n",
       "       'Barwell', 'Bath', 'Bath Furnace', 'Baxter', 'Beardsley',\n",
       "       'Beaver Creek', 'Beddgelert', 'Bells', 'Belville', 'Benares (a)',\n",
       "       'Benld', 'Benoni', 'Benton', 'Béréba', 'Berlanguillas',\n",
       "       'Bethlehem', 'Beuste', 'Beyrout', 'Bhagur', 'Bherai', 'Bhola',\n",
       "       'Bholghati', 'Bialystok', 'Bielokrynitschie', \"Birni N'konni\",\n",
       "       'Bishopville', 'Bishunpur', 'Bjelaja Zerkov', 'Bjurböle',\n",
       "       'Black Moshannan Park', 'Blackwell', 'Blanket', 'Blansko',\n",
       "       'Bloomington', 'Bocas', 'Bogou', 'Boguslavka', 'Borgo San Donino',\n",
       "       'Bori', 'Boriskino', 'Borkut', 'Borodino', 'Botschetschki',\n",
       "       'Bovedy', 'Bradford Woods', 'Braunau', 'Breitscheid',\n",
       "       'Bremervörde', 'Brient', 'Bruderheim', 'Bulls Run', 'Bununu',\n",
       "       'Bur-Gheluai', 'Bursa', 'Buschhof', 'Bustee', 'Butsura',\n",
       "       'Cabezo de Mayo', 'Cabin Creek', 'Cacak', 'Calivo', 'Çanakkale',\n",
       "       'Cañellas', 'Cangas de Onis', 'Cape Girardeau',\n",
       "       'Capilla del Monte', 'Caratash', 'Castalia', 'Castel Berardenga',\n",
       "       'Castine', 'Castrovillari', 'Caswell County', 'Centerville',\n",
       "       'Cereseto', 'Chail', 'Chainpur', 'Chajari', 'Chandakapur',\n",
       "       'Chandpur', 'Chantonnay', 'Charlotte', 'Charsonville',\n",
       "       'Charwallas', 'Chassigny', 'Château-Renard', 'Chaves',\n",
       "       'Chernyi Bor', 'Cherokee Springs', 'Chervettaz', 'Chervony Kut',\n",
       "       'Chetrinahatti', 'Chicora', 'Chitado', 'Clohars',\n",
       "       'Colby (Wisconsin)', 'Cold Bokkeveld', 'Collescipoli', 'Conquista',\n",
       "       'Cosina', 'Cranganore', 'Crescent', 'Cronstad', 'Cross Roads',\n",
       "       'Crumlin', 'Cumberland Falls', 'Cynthiana', 'Dandapur',\n",
       "       \"Daniel's Kuil\", 'Danville', 'Darmstadt', 'De Cewsville', 'Deal',\n",
       "       'Delhi', 'Demina', 'Denver', 'Desuri', 'Dharwar', 'Dhurmsala',\n",
       "       'Diep River', 'Distrito Quebracho', 'Djati-Pengilon', 'Djermaia',\n",
       "       'Dokachi', 'Dolgovoli', 'Domanitch', 'Donga Kohrod', 'Doroninsk',\n",
       "       'Dosso', 'Douar Mghila', 'Drake Creek', 'Dresden (Ontario)',\n",
       "       'Dubrovnik', 'Dundrum', 'Durala', 'Duruma', 'Duwun', 'Dyalpur',\n",
       "       'Dyarrl Island', 'Eagle', 'Ehole', 'Eichstädt', 'Ekeby',\n",
       "       'Ekh Khera', 'Elbogen', 'Elenovka', 'Ellemeet', 'Emmaville',\n",
       "       'Ensisheim', 'Épinal', 'Erakot', 'Erevan', 'Ergheo', 'Erxleben',\n",
       "       'Esnandes', 'Essebi', 'Estherville', 'Farmington', 'Farmville',\n",
       "       'Favars', 'Fayetteville', 'Feid Chair', 'Felix', 'Fenghsien-Ku',\n",
       "       'Ferguson', 'Fisher', 'Florence', 'Forest City', 'Forest Vale',\n",
       "       'Forksville', 'Forsbach', 'Forsyth', 'Fort Flatters',\n",
       "       'Frankfort (stone)', 'Fuhe', 'Fukutomi', 'Fünen', 'Futtehpur',\n",
       "       'Galapian', 'Galim (a)', 'Galim (b)', 'Gambat', 'Gao-Guenie',\n",
       "       'Garhi Yasin', 'Garland', 'Geidam', 'Gifu', 'Girgenti', 'Git-Git',\n",
       "       'Glanggang', 'Glasatovo', 'Gnadenfrei', 'Gopalpur', 'Granes',\n",
       "       'Grosnaja', 'Gross-Divina', 'Grossliebenthal', 'Grüneberg',\n",
       "       'Grzempach', 'Gualeguaychú', 'Guareña', 'Guêa', 'Guidder',\n",
       "       'Gumoschnik', 'Gurram Konda', 'Gütersloh', 'Gyokukei', 'Hachi-oji',\n",
       "       'Hainaut', 'Hallingeberg', 'Hamlet', 'Haraiya', 'Haripura',\n",
       "       'Harleton', 'Harrison County', 'Hashima', 'Hassi-Jekna', 'Hatford',\n",
       "       'Hedeskoga', 'Hedjaz', 'Heredia', 'Hessle', 'Higashi-koen',\n",
       "       'High Possil', 'Hökmark', 'Holbrook', 'Holetta', 'Homestead',\n",
       "       'Honolulu', 'Hotse', 'Hoxie', 'Hraschina', 'Hungen', 'Hvittis',\n",
       "       'Ibbenbüren', 'Ibitira', 'Ibrisim', 'Ichkala', 'Idutywa',\n",
       "       'Indarch', 'Independence', 'Inner Mongolia', 'Ishinga',\n",
       "       'Isthilart', 'Itapicuru-Mirim', 'Ivuna', 'Jackalsfontein',\n",
       "       'Jajh deh Kot Lalu', 'Jalandhar', 'Jamkheir', 'Jelica', 'Jemlapur',\n",
       "       'Jhung', 'Jiange', 'Jianshi', 'Jodzie', 'Johnstown', 'Jonzac',\n",
       "       'Judesegeri', 'Juromenha', 'Juvinas', 'Kaba', 'Kadonah', 'Kaee',\n",
       "       'Kagarlyk', 'Kainsaz', 'Kakangari', 'Kakowa', 'Kalaba', 'Kalumbi',\n",
       "       'Kamalpur', 'Kamiomi', 'Kamsagar', 'Kandahar (Afghanistan)',\n",
       "       'Kangean', 'Kangra Valley', 'Kapoeta', 'Kaptal-Aryk', 'Karakol',\n",
       "       'Karatu', 'Karewar', 'Karkh', 'Karloowala', 'Karoonda',\n",
       "       'Kasamatsu', 'Kayakent', 'Kediri', 'Kendleton', 'Kerilis',\n",
       "       'Kernouve', 'Kesen', 'Khairpur', 'Khanpur', 'Kharkov', 'Kheragur',\n",
       "       'Khetri', 'Khmelevka', 'Khohar', 'Khor Temiki', 'Kiel',\n",
       "       'Kijima (1906)', 'Kikino', 'Kilbourn', 'Killeter', 'Kingai',\n",
       "       'Kirbyville', 'Kisvarsány', 'Klein-Wenden', 'Knyahinya',\n",
       "       'Komagome', 'Konovo', 'Krähenberg', 'Krasnoi-Ugol',\n",
       "       'Krasnyi Klyuch', 'Krutikha', 'Krymka', 'Kukschin', 'Kulak',\n",
       "       'Kuleschovka', 'Kulp', 'Kunashak', 'Kushiike', 'Kusiali',\n",
       "       'Kuttippuram', 'Kuznetzovo', 'Kyushu', 'La Bécasse', 'La Charca',\n",
       "       'La Colina', 'Laborel', 'Lahrauli', \"L'Aigle\", 'Lakangaon',\n",
       "       'Lalitpur', 'Lancé', 'Lancon', 'Långhalsen', 'Lanzenkirchen',\n",
       "       'Launton', 'Lavrentievka', 'Le Pressoir', 'Le Teilleul', 'Leedey',\n",
       "       'Leeuwfontein', 'Leighton', 'Leonovka', 'Les Ormes', 'Lesves',\n",
       "       'Lillaverke', 'Limerick', 'Linum', 'Lissa', 'Little Piney',\n",
       "       'Lixna', 'Lodran', 'Los Martinez', 'Łowicz', 'Lua', 'Lucé',\n",
       "       'Lumpkin', 'Lundsgård', 'Luotolax', 'Luponnas', 'Lusaka',\n",
       "       'Mabwe-Khoywa', 'Macau', 'Macibini', 'Madhipura', 'Madiun',\n",
       "       'Madrid', 'Mafra', 'Magnesia', 'Malaga', 'Malampaka', 'Malotas',\n",
       "       'Malvern', 'Mamra Springs', 'Manbhoom', 'Manegaon', 'Mangwendi',\n",
       "       'Manych', 'Mardan', 'Maria Linden', 'Mariaville', 'Maridi',\n",
       "       'Marion (Iowa)', 'Marjalahti', 'Marmande', 'Mascombes', 'Mässing',\n",
       "       'Mauerkirchen', 'Mauritius', 'Mazapil', 'Maziba', 'Medanitos',\n",
       "       'Meerut', 'Meester-Cornelis', 'Menow', 'Menziswyl', 'Mern', 'Meru',\n",
       "       'Merua', 'Messina', 'Meuselbach', 'Mezel', 'Mezö-Madaras', 'Mhow',\n",
       "       'Middlesbrough', 'Mighei', 'Mike', 'Milena', 'Millbillillie',\n",
       "       'Miller (Arkansas)', 'Minamino', 'Mineo', 'Min-Fan-Zhun',\n",
       "       'Minnichhof', 'Mirzapur', 'Misshof', 'Mjelleim', 'Mocs',\n",
       "       'Modoc (1905)', 'Mokoia', 'Molina', 'Molteno', 'Monroe',\n",
       "       'Monte das Fortes', 'Monte Milone', 'Montferré', 'Montlivault',\n",
       "       'Monze', 'Moore County', 'Mooresfort', 'Moorleah', 'Moradabad',\n",
       "       'Mornans', 'Moti-ka-nagla', 'Motta di Conti', 'Mount Browne',\n",
       "       'Mount Vaisi', 'Mtola', 'Muddoor', 'Mulletiwu', 'Muraid',\n",
       "       'Murchison', 'Murray', 'Muzaffarpur', 'Myhee Caunta', 'Nadiabondi',\n",
       "       'Nagai', 'Nagaria', 'Nagy-Borové', 'Nakhla', 'Nakhon Pathom',\n",
       "       'Nammianthal', 'Nan Yang Pao', 'Nanjemoy', 'Naoki', 'Narellan',\n",
       "       'Narni', 'Nassirah', 'Nawapali', 'Nedagolla', 'Nerft',\n",
       "       'New Concord', 'Ngawi', \"N'Goureyma\", 'Nicorps', 'Niger (L6)',\n",
       "       'Niger (LL6)', 'Nikolaevka', 'Nikolskoe', 'Nio', \"N'Kandhla\",\n",
       "       'Nobleborough', 'Nogata', 'Nogoya', 'Norfork', 'Norton County',\n",
       "       'Novo-Urei', 'Novy-Ergi', 'Novy-Projekt', 'Noyan-Bogdo', 'Nulles',\n",
       "       'Numakai', 'Nyaung', 'Nyirábrany', 'Ochansk', 'Oesede', 'Oesel',\n",
       "       'Ofehértó', 'Ogi', 'Ohaba', 'Ohuma', 'Ojuelos Altos', 'Okabe',\n",
       "       'Okano', 'Okniny', 'Oldenburg (1930)', 'Oliva-Gandia', 'Olivenza',\n",
       "       'Olmedilla de Alarcón', 'Orgueil', 'Ornans', 'Ortenau', 'Orvinio',\n",
       "       'Oterøy', 'Otomi', 'Ottawa', 'Ovambo', 'Oviedo', 'Owrucz',\n",
       "       'Pacula', 'Padvarninkai', 'Paitan', 'Palahatchie', 'Palinshih',\n",
       "       'Palmyra', 'Palolo Valley', 'Pampanga', 'Pantar', 'Paragould',\n",
       "       'Parambu', 'Paranaiba', 'Parnallee', 'Parsa', 'Pasamonte',\n",
       "       'Patora', 'Patrimonio', 'Patti', 'Patwar', 'Pavel',\n",
       "       'Pavlodar (stone)', 'Pavlograd', 'Pavlovka', 'Peace River',\n",
       "       'Peckelsheim', 'Peña Blanca Spring', 'Peramiho', 'Perpeti',\n",
       "       'Perth', 'Pervomaisky', 'Pesyanoe', 'Petersburg', 'Pettiswood',\n",
       "       'Phillips County (stone)', 'Phu Hong', 'Phum Sambo', 'Phuoc-Binh',\n",
       "       'Piancaldoli', 'Picote', 'Pillistfer', 'Piquetberg', 'Pirgunje',\n",
       "       'Pirthalla', 'Pitts', 'Plantersville', 'Ploschkovitz', 'Pnompehn',\n",
       "       'Pohlitz', 'Pokhra', 'Pollen', 'Pontlyfni', 'Portugal',\n",
       "       'Po-wang Chen', 'Prambachkirchen', 'Pribram', 'Pricetown',\n",
       "       'Pulsora', 'Pultusk', 'Punganaru', 'Putinga', \"Queen's Mercy\",\n",
       "       'Quenggouk', 'Quesa', 'Quincay', 'Raco', 'Rakovka', 'Ramnagar',\n",
       "       'Rampurhat', 'Ramsdorf', 'Ranchapur', 'Rancho de la Presa',\n",
       "       'Rangala', 'Raoyang', 'Ras Tanura', 'Rasgrad', 'Ratyn', 'Reliegos',\n",
       "       'Rembang', 'Renazzo', 'Renca', 'Renqiu', 'Repeev Khutor',\n",
       "       'Revelstoke', 'Rewari', 'Rich Mountain', 'Uzcudun', 'Richardton',\n",
       "       'Richmond', 'Rio Negro', 'Rivolta de Bassi', 'Rochester',\n",
       "       'Rockhampton', 'Roda', 'Rodach', 'Rose City', 'Rowton', 'Rumuruti',\n",
       "       'Rupota', 'Ryechki', 'Sabetmahet', 'Sagan', 'Saint-Sauveur',\n",
       "       'Saint-Séverin', 'Sakauchi', 'Salles', 'Samelia',\n",
       "       'San Pedro de Quiles', 'San Pedro Jacuaro', 'Santa Barbara',\n",
       "       'Santa Cruz', 'Santa Isabel', 'São Jose do Rio Preto', 'Saratov',\n",
       "       'Sasagase', 'Sauguis', 'Savtschenskoje', 'Sazovice', 'Schellin',\n",
       "       'Schenectady', 'Schönenberg', 'Searsmont', 'Sediköy', 'Segowlie',\n",
       "       'Selakopi', 'Seldebourak', 'Semarkona', 'Sena', 'Seoni', 'Seres',\n",
       "       'Serra de Magé', 'Sete Lagoas', 'Sevilla', 'Sevrukovo', 'Shalka',\n",
       "       'Sharps', 'Shelburne', 'Shergotty', 'Shikarpur', 'Shupiyan',\n",
       "       'Shytal', 'Siena', 'Sikhote-Alin', 'Silistra', 'Simmern', 'Sinai',\n",
       "       'Sindhri', 'Sinnai', 'Sioux County', 'Sitathali', 'Ski',\n",
       "       'Slavetic', 'Slobodka', 'Soheria', 'Soko-Banja', 'Sologne', 'Sone',\n",
       "       'Sopot', 'Soroti', 'St. Caprais-de-Quinsac',\n",
       "       'St. Christophe-la-Chartreuse', 'St. Denis Westrem',\n",
       "       'St. Germain-du-Pinel', 'St. Louis', \"St. Mark's\",\n",
       "       \"St. Mary's County\", 'St. Mesmin', 'St. Michel', 'St.-Chinian',\n",
       "       'Ställdalen', 'Stannern', 'Stavropol', 'Ste. Marguerite',\n",
       "       'Stolzenau', 'Strathmore', 'Stretchleigh', 'Success', 'Suchy Dul',\n",
       "       'Sultanpur', 'Sungach', 'Supuhee', 'Sylacauga', 'Tabor', 'Tadjera',\n",
       "       'Takenouchi', 'Tané', 'Taonan', 'Tatahouine', 'Tathlith', 'Tauk',\n",
       "       'Tauti', 'Tenham', 'Tennasilm', 'Thal', 'Tieschitz', 'Tilden',\n",
       "       'Timochin', 'Tirupati', 'Tjabe', 'Tjerebon', 'Tomakovka'],\n",
       "      dtype=object)"
      ]
     },
     "execution_count": 98,
     "metadata": {},
     "output_type": "execute_result"
    }
   ],
   "source": [
    "df_nasa_2['name'].unique()"
   ]
  },
  {
   "cell_type": "markdown",
   "id": "58e82d6e",
   "metadata": {},
   "source": [
    "#### Assuming that the mass of the earth meteorites was in kg, get all those whose mass was more than 10000kg"
   ]
  },
  {
   "cell_type": "code",
   "execution_count": 99,
   "id": "a9ecfda0",
   "metadata": {},
   "outputs": [
    {
     "data": {
      "text/plain": [
       "name                  0\n",
       "id                    0\n",
       "nametype              0\n",
       "recclass              0\n",
       "mass                 28\n",
       "fall                  0\n",
       "year                  0\n",
       "reclat               12\n",
       "reclong              12\n",
       "point coordinates     0\n",
       "year_                 1\n",
       "dtype: int64"
      ]
     },
     "execution_count": 99,
     "metadata": {},
     "output_type": "execute_result"
    }
   ],
   "source": [
    "df_nasa.isnull().sum()"
   ]
  },
  {
   "cell_type": "code",
   "execution_count": 100,
   "id": "fdb4e226",
   "metadata": {},
   "outputs": [],
   "source": [
    "df_nasa_3 = df_nasa[df_nasa['mass'] > 10000]"
   ]
  },
  {
   "cell_type": "code",
   "execution_count": 101,
   "id": "9315dc37",
   "metadata": {},
   "outputs": [
    {
     "data": {
      "text/plain": [
       "243"
      ]
     },
     "execution_count": 101,
     "metadata": {},
     "output_type": "execute_result"
    }
   ],
   "source": [
    "df_nasa_3['name'].nunique()"
   ]
  },
  {
   "cell_type": "markdown",
   "id": "349b6af7",
   "metadata": {},
   "source": [
    "`243 earth meteorites whose mass was more than 10000kg`"
   ]
  },
  {
   "cell_type": "code",
   "execution_count": 102,
   "id": "a31a0afb",
   "metadata": {},
   "outputs": [
    {
     "data": {
      "text/plain": [
       "array(['Abee', 'Agen', 'Aïr', 'Akyumak', 'Alfianello', 'Allegan',\n",
       "       'Allende', 'Andura', 'Appley Bridge', 'Aumale', 'Ausson',\n",
       "       'Bachmut', 'Bahjoi', 'Ban Rong Du', 'Bandong', 'Bansur', 'Barwell',\n",
       "       'Bassikounou', 'Baszkówka', 'Bath', 'Bath Furnace', 'Beardsley',\n",
       "       'Beaver Creek', 'Benguerir', \"Beni M'hira\", 'Bensour', 'Béréba',\n",
       "       'Bilanga', 'Bjurböle', 'Boguslavka', 'Braunau', 'Bruderheim',\n",
       "       'Bur-Gheluai', 'Bursa', 'Butsura', 'Buzzard Coulee',\n",
       "       'Cabezo de Mayo', 'Cabin Creek', 'Campos Sales', 'Cangas de Onis',\n",
       "       'Castrovillari', 'Chajari', 'Chantonnay', 'Charsonville',\n",
       "       'Charwallas', 'Château-Renard', 'Chelyabinsk', 'Chergach ',\n",
       "       'Colby (Wisconsin)', 'Conquista', 'Cumberland Falls', 'Dahmani',\n",
       "       'Demina', 'Dergaon', 'Desuri', 'Devgaon', 'Dhajala', 'Dhurmsala',\n",
       "       'Djati-Pengilon', 'Dong Ujimqin Qi', 'Dresden (Ontario)', 'Durala',\n",
       "       'El Paso de Aguila', 'Elbogen', 'Elenovka', 'Ensisheim', 'Ergheo',\n",
       "       'Estherville', 'Farmington', 'Farmville', 'Fermo', 'Fisher',\n",
       "       'Forest City', 'Forest Vale', 'Forsyth', 'Fuhe', 'Fukutomi',\n",
       "       'Gifu', 'Girgenti', 'Glasatovo', 'Gross-Divina', 'Gualeguaychú',\n",
       "       'Guareña', 'Gujba', 'Gursum', 'Hatford', 'Hessle', 'Holbrook',\n",
       "       'Homestead', 'Hraschina', 'Hvittis', 'Indarch', 'Jackalsfontein',\n",
       "       'Jartai', 'Jelica', 'Jianshi', 'Jilin', 'Johnstown', 'Juancheng',\n",
       "       'Jumapalo', 'Juromenha', 'Juvinas', 'Kabo', 'Kainsaz', 'Kapoeta',\n",
       "       'Karkh', 'Karoonda', 'Kasauli', 'Kayakent', 'Kernouve', 'Kesen',\n",
       "       'Khairpur', 'Kidairat', 'Kilabo', 'Knyahinya', 'Kokubunji',\n",
       "       'Krähenberg', 'Krymka', 'Kunashak', 'Kunya-Urgench', 'Kuttippuram',\n",
       "       'Kyushu', 'La Criolla', \"L'Aigle\", 'Lancé', 'Laochenzhen',\n",
       "       'Leedey', 'Limerick', 'Lissa', 'Lohawat', 'Lost City', 'Łowicz',\n",
       "       'Lundsgård', 'Luponnas', 'Machinga', 'Mahadevpur', 'Mangwendi',\n",
       "       'Marion (Iowa)', 'Marjalahti', 'Mauerkirchen', 'Mbale',\n",
       "       'Meester-Cornelis', 'Menow', 'Merua', 'Mezö-Madaras',\n",
       "       'Millbillillie', 'Miller (Arkansas)', 'Mocs', 'Modoc (1905)',\n",
       "       'Molina', 'Montferré', 'Mount Browne', 'Mount Tazerzait',\n",
       "       'Mount Vaisi', 'Murchison', 'Murray', 'Nakhon Pathom',\n",
       "       'Nan Yang Pao', 'Naoki', 'Nerft', 'New Concord', 'New Halfa',\n",
       "       'New Orleans', \"N'Goureyma\", 'Ningbo', \"N'Kandhla\",\n",
       "       'Norton County', 'Nuevo Mercurio', 'Ochansk', 'Ogi', 'Ohaba',\n",
       "       'Okniny', 'Oldenburg (1930)', 'Olivenza', 'Olmedilla de Alarcón',\n",
       "       'Omolon', 'Orgueil', 'Oum Dreyga', 'Ourique', 'Palinshih',\n",
       "       'Pampanga', 'Paragould', 'Paranaiba', 'Park Forest', 'Parnallee',\n",
       "       'Patwar', 'Pavlograd', 'Peace River', 'Peekskill',\n",
       "       'Peña Blanca Spring', 'Perpeti', 'Pervomaisky',\n",
       "       'Phillips County (stone)', 'Phuoc-Binh', 'Pillistfer',\n",
       "       'Piplia Kalan', 'Portales Valley', 'Pultusk', 'Putinga', 'Quesa',\n",
       "       'Quija', 'Raghunathpura', 'Rahimyar Khan', 'Rasgrad', 'Reliegos',\n",
       "       'Uzcudun', 'Richardton', 'Rose City', 'Ryechki', 'Saint-Sauveur',\n",
       "       'Saint-Séverin', 'Saratov', 'Seoni', 'Sevrukovo', 'Shelburne',\n",
       "       'Sikhote-Alin', 'Sivas', 'Soko-Banja', 'Sone', 'Songyuan',\n",
       "       \"St. Mark's\", 'St. Michel', 'Ställdalen', 'Stannern',\n",
       "       'Sterlitamak', 'Strathmore', 'Stretchleigh', 'St-Robert',\n",
       "       'Suizhou', 'Sulagiri', 'Tambakwatu', 'Tamdakht', 'Tatahouine',\n",
       "       'Tauti', 'Tenham', 'Tennasilm', 'Thika', 'Thuathe', 'Tieschitz',\n",
       "       'Tilden', 'Timochin', 'Tjabe', 'Tjerebon'], dtype=object)"
      ]
     },
     "execution_count": 102,
     "metadata": {},
     "output_type": "execute_result"
    }
   ],
   "source": [
    "df_nasa_3['name'].unique()"
   ]
  },
  {
   "cell_type": "markdown",
   "id": "58ff51df",
   "metadata": {},
   "source": [
    "### Question 8\n",
    "\n",
    "**Using the data from Question 5, write code the analyze the data and answer the following questions**\n",
    "\n",
    "**Note**\n",
    "\n",
    "1. Draw plots to demonstrate the analysis for the following questions and better visualizations\n",
    "2. Write code comments wherever required for code understanding\n",
    "\n",
    "Insights to be drawn -\n",
    "- Get all the overall ratings for each season and using plots compare the ratings for all the seasons, like season 1 ratings, season 2, and so on.\n",
    "- Get all the episode names, whose average rating is more than 8 for every season\n",
    "- Get all the episode names that aired before May 2019\n",
    "- Get the episode name from each season with the highest and lowest rating\n",
    "- Get the summary for the most popular ( ratings ) episode in every season"
   ]
  },
  {
   "cell_type": "code",
   "execution_count": 103,
   "id": "7243a1ce",
   "metadata": {},
   "outputs": [],
   "source": [
    "import pandas as pd\n",
    "df = pd.read_csv('../python/westworld.csv')"
   ]
  },
  {
   "cell_type": "code",
   "execution_count": 104,
   "id": "09d8a809",
   "metadata": {},
   "outputs": [
    {
     "data": {
      "text/html": [
       "<div>\n",
       "<style scoped>\n",
       "    .dataframe tbody tr th:only-of-type {\n",
       "        vertical-align: middle;\n",
       "    }\n",
       "\n",
       "    .dataframe tbody tr th {\n",
       "        vertical-align: top;\n",
       "    }\n",
       "\n",
       "    .dataframe thead th {\n",
       "        text-align: right;\n",
       "    }\n",
       "</style>\n",
       "<table border=\"1\" class=\"dataframe\">\n",
       "  <thead>\n",
       "    <tr style=\"text-align: right;\">\n",
       "      <th></th>\n",
       "      <th>Unnamed: 0</th>\n",
       "      <th>id</th>\n",
       "      <th>url</th>\n",
       "      <th>name</th>\n",
       "      <th>season</th>\n",
       "      <th>number</th>\n",
       "      <th>type</th>\n",
       "      <th>airdate</th>\n",
       "      <th>airtime</th>\n",
       "      <th>runtime</th>\n",
       "      <th>rating</th>\n",
       "      <th>summary</th>\n",
       "      <th>medium image link</th>\n",
       "      <th>Original image link</th>\n",
       "    </tr>\n",
       "  </thead>\n",
       "  <tbody>\n",
       "    <tr>\n",
       "      <th>0</th>\n",
       "      <td>0</td>\n",
       "      <td>869671</td>\n",
       "      <td>https://www.tvmaze.com/episodes/869671/westwor...</td>\n",
       "      <td>The Original</td>\n",
       "      <td>1</td>\n",
       "      <td>1</td>\n",
       "      <td>regular</td>\n",
       "      <td>2016-10-02</td>\n",
       "      <td>2023-05-26 21:00:00</td>\n",
       "      <td>68</td>\n",
       "      <td>{'average': 8}</td>\n",
       "      <td>&lt;p&gt;A woman named Dolores is a free spirit in t...</td>\n",
       "      <td>https://static.tvmaze.com/uploads/images/mediu...</td>\n",
       "      <td>https://static.tvmaze.com/uploads/images/origi...</td>\n",
       "    </tr>\n",
       "  </tbody>\n",
       "</table>\n",
       "</div>"
      ],
      "text/plain": [
       "   Unnamed: 0      id                                                url  \\\n",
       "0           0  869671  https://www.tvmaze.com/episodes/869671/westwor...   \n",
       "\n",
       "           name  season  number     type     airdate              airtime  \\\n",
       "0  The Original       1       1  regular  2016-10-02  2023-05-26 21:00:00   \n",
       "\n",
       "   runtime          rating                                            summary  \\\n",
       "0       68  {'average': 8}  <p>A woman named Dolores is a free spirit in t...   \n",
       "\n",
       "                                   medium image link  \\\n",
       "0  https://static.tvmaze.com/uploads/images/mediu...   \n",
       "\n",
       "                                 Original image link  \n",
       "0  https://static.tvmaze.com/uploads/images/origi...  "
      ]
     },
     "execution_count": 104,
     "metadata": {},
     "output_type": "execute_result"
    }
   ],
   "source": [
    "df.head(1)"
   ]
  },
  {
   "cell_type": "code",
   "execution_count": 105,
   "id": "f434fc53",
   "metadata": {},
   "outputs": [],
   "source": [
    "df.drop(['Unnamed: 0'],axis=1,inplace=True)"
   ]
  },
  {
   "cell_type": "markdown",
   "id": "6a91bbd0",
   "metadata": {},
   "source": [
    "#### Get all the overall ratings for each season and using plots compare the ratings for all the seasons, like season 1 ratings, season 2, and so on."
   ]
  },
  {
   "cell_type": "code",
   "execution_count": 106,
   "id": "31645e05",
   "metadata": {},
   "outputs": [],
   "source": [
    "import ast\n",
    "df['new_rating'] = df['rating'].apply(lambda x: ast.literal_eval(x)['average'])"
   ]
  },
  {
   "cell_type": "code",
   "execution_count": 107,
   "id": "e0dd9a99",
   "metadata": {},
   "outputs": [
    {
     "data": {
      "image/png": "[encoded data removed]",
      "text/plain": [
       "<Figure size 360x360 with 1 Axes>"
      ]
     },
     "metadata": {
      "needs_background": "light"
     },
     "output_type": "display_data"
    }
   ],
   "source": [
    "import matplotlib.pyplot as plt\n",
    "# Group the data by season and calculate the mean rating for each season\n",
    "season_ratings = df.groupby('season')['new_rating'].mean()\n",
    "\n",
    "# Plot the ratings for each season\n",
    "plt.figure(figsize=(5, 5))\n",
    "season_ratings.plot(kind='bar', color='blue')\n",
    "plt.title('Overall Ratings for Each Season')\n",
    "plt.xlabel('Season')\n",
    "plt.ylabel('Average Rating')\n",
    "plt.xticks(rotation=0)\n",
    "plt.show()"
   ]
  },
  {
   "cell_type": "markdown",
   "id": "2132d2c2",
   "metadata": {},
   "source": [
    "#### Get all the episode names, whose average rating is more than 8 for every season"
   ]
  },
  {
   "cell_type": "code",
   "execution_count": 108,
   "id": "8c5bd4ce",
   "metadata": {},
   "outputs": [],
   "source": [
    "# Calculate the average rating for each episode in each season\n",
    "average_ratings = df.groupby(['season', 'name'])['new_rating'].mean().reset_index()"
   ]
  },
  {
   "cell_type": "code",
   "execution_count": 109,
   "id": "f9f47205",
   "metadata": {},
   "outputs": [
    {
     "data": {
      "text/html": [
       "<div>\n",
       "<style scoped>\n",
       "    .dataframe tbody tr th:only-of-type {\n",
       "        vertical-align: middle;\n",
       "    }\n",
       "\n",
       "    .dataframe tbody tr th {\n",
       "        vertical-align: top;\n",
       "    }\n",
       "\n",
       "    .dataframe thead th {\n",
       "        text-align: right;\n",
       "    }\n",
       "</style>\n",
       "<table border=\"1\" class=\"dataframe\">\n",
       "  <thead>\n",
       "    <tr style=\"text-align: right;\">\n",
       "      <th></th>\n",
       "      <th>season</th>\n",
       "      <th>name</th>\n",
       "      <th>new_rating</th>\n",
       "    </tr>\n",
       "  </thead>\n",
       "  <tbody>\n",
       "    <tr>\n",
       "      <th>4</th>\n",
       "      <td>1</td>\n",
       "      <td>The Bicameral Mind</td>\n",
       "      <td>8.7</td>\n",
       "    </tr>\n",
       "    <tr>\n",
       "      <th>7</th>\n",
       "      <td>1</td>\n",
       "      <td>The Well-Tempered Clavier</td>\n",
       "      <td>8.5</td>\n",
       "    </tr>\n",
       "    <tr>\n",
       "      <th>9</th>\n",
       "      <td>1</td>\n",
       "      <td>Trompe L'Oeil</td>\n",
       "      <td>8.6</td>\n",
       "    </tr>\n",
       "    <tr>\n",
       "      <th>12</th>\n",
       "      <td>2</td>\n",
       "      <td>Kiksuya</td>\n",
       "      <td>8.7</td>\n",
       "    </tr>\n",
       "    <tr>\n",
       "      <th>16</th>\n",
       "      <td>2</td>\n",
       "      <td>The Passenger</td>\n",
       "      <td>8.5</td>\n",
       "    </tr>\n",
       "    <tr>\n",
       "      <th>18</th>\n",
       "      <td>2</td>\n",
       "      <td>Vanishing Point</td>\n",
       "      <td>8.4</td>\n",
       "    </tr>\n",
       "  </tbody>\n",
       "</table>\n",
       "</div>"
      ],
      "text/plain": [
       "    season                       name  new_rating\n",
       "4        1         The Bicameral Mind         8.7\n",
       "7        1  The Well-Tempered Clavier         8.5\n",
       "9        1              Trompe L'Oeil         8.6\n",
       "12       2                    Kiksuya         8.7\n",
       "16       2              The Passenger         8.5\n",
       "18       2            Vanishing Point         8.4"
      ]
     },
     "execution_count": 109,
     "metadata": {},
     "output_type": "execute_result"
    }
   ],
   "source": [
    "average_ratings[average_ratings['new_rating']>8]"
   ]
  },
  {
   "cell_type": "markdown",
   "id": "a2a6f9b3",
   "metadata": {},
   "source": [
    "#### Get all the episode names that aired before May 2019"
   ]
  },
  {
   "cell_type": "code",
   "execution_count": 110,
   "id": "722466b6",
   "metadata": {},
   "outputs": [],
   "source": [
    "df['airdate'] = pd.to_datetime(df['airdate'])"
   ]
  },
  {
   "cell_type": "code",
   "execution_count": 111,
   "id": "9b9f7ebf",
   "metadata": {},
   "outputs": [],
   "source": [
    "df['month'] = df['airdate'].dt.month\n",
    "df['year'] = df['airdate'].dt.year"
   ]
  },
  {
   "cell_type": "code",
   "execution_count": 112,
   "id": "3cbdbe72",
   "metadata": {},
   "outputs": [
    {
     "data": {
      "text/html": [
       "<div>\n",
       "<style scoped>\n",
       "    .dataframe tbody tr th:only-of-type {\n",
       "        vertical-align: middle;\n",
       "    }\n",
       "\n",
       "    .dataframe tbody tr th {\n",
       "        vertical-align: top;\n",
       "    }\n",
       "\n",
       "    .dataframe thead th {\n",
       "        text-align: right;\n",
       "    }\n",
       "</style>\n",
       "<table border=\"1\" class=\"dataframe\">\n",
       "  <thead>\n",
       "    <tr style=\"text-align: right;\">\n",
       "      <th></th>\n",
       "      <th>name</th>\n",
       "      <th>month</th>\n",
       "      <th>year</th>\n",
       "    </tr>\n",
       "  </thead>\n",
       "  <tbody>\n",
       "    <tr>\n",
       "      <th>0</th>\n",
       "      <td>The Original</td>\n",
       "      <td>10</td>\n",
       "      <td>2016</td>\n",
       "    </tr>\n",
       "    <tr>\n",
       "      <th>1</th>\n",
       "      <td>Chestnut</td>\n",
       "      <td>10</td>\n",
       "      <td>2016</td>\n",
       "    </tr>\n",
       "  </tbody>\n",
       "</table>\n",
       "</div>"
      ],
      "text/plain": [
       "           name  month  year\n",
       "0  The Original     10  2016\n",
       "1      Chestnut     10  2016"
      ]
     },
     "execution_count": 112,
     "metadata": {},
     "output_type": "execute_result"
    }
   ],
   "source": [
    "features=['name','month','year']\n",
    "df[features].head(2)"
   ]
  },
  {
   "cell_type": "code",
   "execution_count": 113,
   "id": "f05432ab",
   "metadata": {},
   "outputs": [
    {
     "data": {
      "text/html": [
       "<div>\n",
       "<style scoped>\n",
       "    .dataframe tbody tr th:only-of-type {\n",
       "        vertical-align: middle;\n",
       "    }\n",
       "\n",
       "    .dataframe tbody tr th {\n",
       "        vertical-align: top;\n",
       "    }\n",
       "\n",
       "    .dataframe thead th {\n",
       "        text-align: right;\n",
       "    }\n",
       "</style>\n",
       "<table border=\"1\" class=\"dataframe\">\n",
       "  <thead>\n",
       "    <tr style=\"text-align: right;\">\n",
       "      <th></th>\n",
       "      <th>name</th>\n",
       "    </tr>\n",
       "  </thead>\n",
       "  <tbody>\n",
       "    <tr>\n",
       "      <th>28</th>\n",
       "      <td>The Auguries</td>\n",
       "    </tr>\n",
       "    <tr>\n",
       "      <th>29</th>\n",
       "      <td>Well Enough Alone</td>\n",
       "    </tr>\n",
       "    <tr>\n",
       "      <th>30</th>\n",
       "      <td>Années Folles</td>\n",
       "    </tr>\n",
       "    <tr>\n",
       "      <th>31</th>\n",
       "      <td>Generation Loss</td>\n",
       "    </tr>\n",
       "    <tr>\n",
       "      <th>32</th>\n",
       "      <td>Zhuangzi</td>\n",
       "    </tr>\n",
       "    <tr>\n",
       "      <th>33</th>\n",
       "      <td>Fidelity</td>\n",
       "    </tr>\n",
       "    <tr>\n",
       "      <th>34</th>\n",
       "      <td>Metanoia</td>\n",
       "    </tr>\n",
       "    <tr>\n",
       "      <th>35</th>\n",
       "      <td>Que Será, Será</td>\n",
       "    </tr>\n",
       "  </tbody>\n",
       "</table>\n",
       "</div>"
      ],
      "text/plain": [
       "                 name\n",
       "28       The Auguries\n",
       "29  Well Enough Alone\n",
       "30      Années Folles\n",
       "31    Generation Loss\n",
       "32           Zhuangzi\n",
       "33           Fidelity\n",
       "34           Metanoia\n",
       "35     Que Será, Será"
      ]
     },
     "execution_count": 113,
     "metadata": {},
     "output_type": "execute_result"
    }
   ],
   "source": [
    "df[(df['month']>5) & (df['year']>2019)][['name']]"
   ]
  },
  {
   "cell_type": "markdown",
   "id": "86efb47b",
   "metadata": {},
   "source": [
    "#### Get the episode name from each season with the highest and lowest rating"
   ]
  },
  {
   "cell_type": "code",
   "execution_count": 114,
   "id": "b005b5da",
   "metadata": {},
   "outputs": [
    {
     "data": {
      "text/plain": [
       "season\n",
       "1     9\n",
       "2    17\n",
       "3    20\n",
       "4    32\n",
       "Name: new_rating, dtype: int64"
      ]
     },
     "execution_count": 114,
     "metadata": {},
     "output_type": "execute_result"
    }
   ],
   "source": [
    "# Group the data by season and find the episode with the highest rating\n",
    "max_rating_per_season = df.groupby('season')['new_rating'].idxmax()\n",
    "max_rating_per_season"
   ]
  },
  {
   "cell_type": "code",
   "execution_count": 115,
   "id": "62102703",
   "metadata": {},
   "outputs": [
    {
     "data": {
      "text/html": [
       "<div>\n",
       "<style scoped>\n",
       "    .dataframe tbody tr th:only-of-type {\n",
       "        vertical-align: middle;\n",
       "    }\n",
       "\n",
       "    .dataframe tbody tr th {\n",
       "        vertical-align: top;\n",
       "    }\n",
       "\n",
       "    .dataframe thead th {\n",
       "        text-align: right;\n",
       "    }\n",
       "</style>\n",
       "<table border=\"1\" class=\"dataframe\">\n",
       "  <thead>\n",
       "    <tr style=\"text-align: right;\">\n",
       "      <th></th>\n",
       "      <th>season</th>\n",
       "      <th>name</th>\n",
       "      <th>new_rating</th>\n",
       "    </tr>\n",
       "  </thead>\n",
       "  <tbody>\n",
       "    <tr>\n",
       "      <th>9</th>\n",
       "      <td>1</td>\n",
       "      <td>The Bicameral Mind</td>\n",
       "      <td>8.7</td>\n",
       "    </tr>\n",
       "    <tr>\n",
       "      <th>17</th>\n",
       "      <td>2</td>\n",
       "      <td>Kiksuya</td>\n",
       "      <td>8.7</td>\n",
       "    </tr>\n",
       "    <tr>\n",
       "      <th>20</th>\n",
       "      <td>3</td>\n",
       "      <td>Parce Domine</td>\n",
       "      <td>8.0</td>\n",
       "    </tr>\n",
       "    <tr>\n",
       "      <th>32</th>\n",
       "      <td>4</td>\n",
       "      <td>Zhuangzi</td>\n",
       "      <td>7.8</td>\n",
       "    </tr>\n",
       "  </tbody>\n",
       "</table>\n",
       "</div>"
      ],
      "text/plain": [
       "    season                name  new_rating\n",
       "9        1  The Bicameral Mind         8.7\n",
       "17       2             Kiksuya         8.7\n",
       "20       3        Parce Domine         8.0\n",
       "32       4            Zhuangzi         7.8"
      ]
     },
     "execution_count": 115,
     "metadata": {},
     "output_type": "execute_result"
    }
   ],
   "source": [
    "max_rating_episodes = df.loc[max_rating_per_season, ['season','name', 'new_rating']]\n",
    "max_rating_episodes "
   ]
  },
  {
   "cell_type": "code",
   "execution_count": 116,
   "id": "1fab7bf8",
   "metadata": {},
   "outputs": [
    {
     "data": {
      "text/plain": [
       "season\n",
       "1     2\n",
       "2    14\n",
       "3    25\n",
       "4    28\n",
       "Name: new_rating, dtype: int64"
      ]
     },
     "execution_count": 116,
     "metadata": {},
     "output_type": "execute_result"
    }
   ],
   "source": [
    "# Group the data by season and find the episode with the lowest rating\n",
    "min_rating_per_season = df.groupby('season')['new_rating'].idxmin()\n",
    "min_rating_per_season"
   ]
  },
  {
   "cell_type": "code",
   "execution_count": 117,
   "id": "15918ef2",
   "metadata": {},
   "outputs": [
    {
     "data": {
      "text/html": [
       "<div>\n",
       "<style scoped>\n",
       "    .dataframe tbody tr th:only-of-type {\n",
       "        vertical-align: middle;\n",
       "    }\n",
       "\n",
       "    .dataframe tbody tr th {\n",
       "        vertical-align: top;\n",
       "    }\n",
       "\n",
       "    .dataframe thead th {\n",
       "        text-align: right;\n",
       "    }\n",
       "</style>\n",
       "<table border=\"1\" class=\"dataframe\">\n",
       "  <thead>\n",
       "    <tr style=\"text-align: right;\">\n",
       "      <th></th>\n",
       "      <th>season</th>\n",
       "      <th>name</th>\n",
       "      <th>new_rating</th>\n",
       "    </tr>\n",
       "  </thead>\n",
       "  <tbody>\n",
       "    <tr>\n",
       "      <th>2</th>\n",
       "      <td>1</td>\n",
       "      <td>The Stray</td>\n",
       "      <td>7.6</td>\n",
       "    </tr>\n",
       "    <tr>\n",
       "      <th>14</th>\n",
       "      <td>2</td>\n",
       "      <td>Akane No Mai</td>\n",
       "      <td>7.6</td>\n",
       "    </tr>\n",
       "    <tr>\n",
       "      <th>25</th>\n",
       "      <td>3</td>\n",
       "      <td>Decoherence</td>\n",
       "      <td>7.5</td>\n",
       "    </tr>\n",
       "    <tr>\n",
       "      <th>28</th>\n",
       "      <td>4</td>\n",
       "      <td>The Auguries</td>\n",
       "      <td>7.1</td>\n",
       "    </tr>\n",
       "  </tbody>\n",
       "</table>\n",
       "</div>"
      ],
      "text/plain": [
       "    season          name  new_rating\n",
       "2        1     The Stray         7.6\n",
       "14       2  Akane No Mai         7.6\n",
       "25       3   Decoherence         7.5\n",
       "28       4  The Auguries         7.1"
      ]
     },
     "execution_count": 117,
     "metadata": {},
     "output_type": "execute_result"
    }
   ],
   "source": [
    "min_rating_episodes = df.loc[min_rating_per_season, ['season', 'name', 'new_rating']]\n",
    "min_rating_episodes"
   ]
  },
  {
   "cell_type": "markdown",
   "id": "2a1b7f1b",
   "metadata": {},
   "source": [
    "#### Get the summary for the most popular ( ratings ) episode in every season"
   ]
  },
  {
   "cell_type": "code",
   "execution_count": 118,
   "id": "5ad7c8bf",
   "metadata": {},
   "outputs": [],
   "source": [
    "# Sort the data by season and rating in descending order\n",
    "sorted_df = df.sort_values(['season', 'new_rating'], ascending=[True, False])"
   ]
  },
  {
   "cell_type": "code",
   "execution_count": 119,
   "id": "726f8457",
   "metadata": {},
   "outputs": [
    {
     "data": {
      "text/html": [
       "<div>\n",
       "<style scoped>\n",
       "    .dataframe tbody tr th:only-of-type {\n",
       "        vertical-align: middle;\n",
       "    }\n",
       "\n",
       "    .dataframe tbody tr th {\n",
       "        vertical-align: top;\n",
       "    }\n",
       "\n",
       "    .dataframe thead th {\n",
       "        text-align: right;\n",
       "    }\n",
       "</style>\n",
       "<table border=\"1\" class=\"dataframe\">\n",
       "  <thead>\n",
       "    <tr style=\"text-align: right;\">\n",
       "      <th></th>\n",
       "      <th>id</th>\n",
       "      <th>url</th>\n",
       "      <th>name</th>\n",
       "      <th>season</th>\n",
       "      <th>number</th>\n",
       "      <th>type</th>\n",
       "      <th>airdate</th>\n",
       "      <th>airtime</th>\n",
       "      <th>runtime</th>\n",
       "      <th>rating</th>\n",
       "      <th>summary</th>\n",
       "      <th>medium image link</th>\n",
       "      <th>Original image link</th>\n",
       "      <th>new_rating</th>\n",
       "      <th>month</th>\n",
       "      <th>year</th>\n",
       "    </tr>\n",
       "  </thead>\n",
       "  <tbody>\n",
       "    <tr>\n",
       "      <th>9</th>\n",
       "      <td>943067</td>\n",
       "      <td>https://www.tvmaze.com/episodes/943067/westwor...</td>\n",
       "      <td>The Bicameral Mind</td>\n",
       "      <td>1</td>\n",
       "      <td>10</td>\n",
       "      <td>regular</td>\n",
       "      <td>2016-12-04</td>\n",
       "      <td>2023-05-26 21:00:00</td>\n",
       "      <td>90</td>\n",
       "      <td>{'average': 8.7}</td>\n",
       "      <td>&lt;p&gt;Delores finds out the truth about William's...</td>\n",
       "      <td>https://static.tvmaze.com/uploads/images/mediu...</td>\n",
       "      <td>https://static.tvmaze.com/uploads/images/origi...</td>\n",
       "      <td>8.7</td>\n",
       "      <td>12</td>\n",
       "      <td>2016</td>\n",
       "    </tr>\n",
       "    <tr>\n",
       "      <th>17</th>\n",
       "      <td>1459788</td>\n",
       "      <td>https://www.tvmaze.com/episodes/1459788/westwo...</td>\n",
       "      <td>Kiksuya</td>\n",
       "      <td>2</td>\n",
       "      <td>8</td>\n",
       "      <td>regular</td>\n",
       "      <td>2018-06-10</td>\n",
       "      <td>2023-05-26 21:00:00</td>\n",
       "      <td>60</td>\n",
       "      <td>{'average': 8.7}</td>\n",
       "      <td>&lt;p&gt;Another of Westworld's Host revolutionaries...</td>\n",
       "      <td>https://static.tvmaze.com/uploads/images/mediu...</td>\n",
       "      <td>https://static.tvmaze.com/uploads/images/origi...</td>\n",
       "      <td>8.7</td>\n",
       "      <td>6</td>\n",
       "      <td>2018</td>\n",
       "    </tr>\n",
       "    <tr>\n",
       "      <th>20</th>\n",
       "      <td>1789333</td>\n",
       "      <td>https://www.tvmaze.com/episodes/1789333/westwo...</td>\n",
       "      <td>Parce Domine</td>\n",
       "      <td>3</td>\n",
       "      <td>1</td>\n",
       "      <td>regular</td>\n",
       "      <td>2020-03-15</td>\n",
       "      <td>2023-05-26 21:00:00</td>\n",
       "      <td>70</td>\n",
       "      <td>{'average': 8}</td>\n",
       "      <td>&lt;p&gt;If you're stuck in a loop, try walking in a...</td>\n",
       "      <td>https://static.tvmaze.com/uploads/images/mediu...</td>\n",
       "      <td>https://static.tvmaze.com/uploads/images/origi...</td>\n",
       "      <td>8.0</td>\n",
       "      <td>3</td>\n",
       "      <td>2020</td>\n",
       "    </tr>\n",
       "    <tr>\n",
       "      <th>32</th>\n",
       "      <td>2326658</td>\n",
       "      <td>https://www.tvmaze.com/episodes/2326658/westwo...</td>\n",
       "      <td>Zhuangzi</td>\n",
       "      <td>4</td>\n",
       "      <td>5</td>\n",
       "      <td>regular</td>\n",
       "      <td>2022-07-24</td>\n",
       "      <td>2023-05-26 21:00:00</td>\n",
       "      <td>60</td>\n",
       "      <td>{'average': 7.8}</td>\n",
       "      <td>&lt;p&gt;God is bored.&lt;/p&gt;</td>\n",
       "      <td>https://static.tvmaze.com/uploads/images/mediu...</td>\n",
       "      <td>https://static.tvmaze.com/uploads/images/origi...</td>\n",
       "      <td>7.8</td>\n",
       "      <td>7</td>\n",
       "      <td>2022</td>\n",
       "    </tr>\n",
       "  </tbody>\n",
       "</table>\n",
       "</div>"
      ],
      "text/plain": [
       "         id                                                url  \\\n",
       "9    943067  https://www.tvmaze.com/episodes/943067/westwor...   \n",
       "17  1459788  https://www.tvmaze.com/episodes/1459788/westwo...   \n",
       "20  1789333  https://www.tvmaze.com/episodes/1789333/westwo...   \n",
       "32  2326658  https://www.tvmaze.com/episodes/2326658/westwo...   \n",
       "\n",
       "                  name  season  number     type    airdate  \\\n",
       "9   The Bicameral Mind       1      10  regular 2016-12-04   \n",
       "17             Kiksuya       2       8  regular 2018-06-10   \n",
       "20        Parce Domine       3       1  regular 2020-03-15   \n",
       "32            Zhuangzi       4       5  regular 2022-07-24   \n",
       "\n",
       "                airtime  runtime            rating  \\\n",
       "9   2023-05-26 21:00:00       90  {'average': 8.7}   \n",
       "17  2023-05-26 21:00:00       60  {'average': 8.7}   \n",
       "20  2023-05-26 21:00:00       70    {'average': 8}   \n",
       "32  2023-05-26 21:00:00       60  {'average': 7.8}   \n",
       "\n",
       "                                              summary  \\\n",
       "9   <p>Delores finds out the truth about William's...   \n",
       "17  <p>Another of Westworld's Host revolutionaries...   \n",
       "20  <p>If you're stuck in a loop, try walking in a...   \n",
       "32                               <p>God is bored.</p>   \n",
       "\n",
       "                                    medium image link  \\\n",
       "9   https://static.tvmaze.com/uploads/images/mediu...   \n",
       "17  https://static.tvmaze.com/uploads/images/mediu...   \n",
       "20  https://static.tvmaze.com/uploads/images/mediu...   \n",
       "32  https://static.tvmaze.com/uploads/images/mediu...   \n",
       "\n",
       "                                  Original image link  new_rating  month  year  \n",
       "9   https://static.tvmaze.com/uploads/images/origi...         8.7     12  2016  \n",
       "17  https://static.tvmaze.com/uploads/images/origi...         8.7      6  2018  \n",
       "20  https://static.tvmaze.com/uploads/images/origi...         8.0      3  2020  \n",
       "32  https://static.tvmaze.com/uploads/images/origi...         7.8      7  2022  "
      ]
     },
     "execution_count": 119,
     "metadata": {},
     "output_type": "execute_result"
    }
   ],
   "source": [
    "# Group the data by season and retrieve the top row (episode with highest rating) in each group\n",
    "most_popular_episodes = sorted_df.groupby('season').head(1)\n",
    "most_popular_episodes"
   ]
  },
  {
   "cell_type": "code",
   "execution_count": 120,
   "id": "ad7a5efe",
   "metadata": {},
   "outputs": [
    {
     "data": {
      "text/html": [
       "<div>\n",
       "<style scoped>\n",
       "    .dataframe tbody tr th:only-of-type {\n",
       "        vertical-align: middle;\n",
       "    }\n",
       "\n",
       "    .dataframe tbody tr th {\n",
       "        vertical-align: top;\n",
       "    }\n",
       "\n",
       "    .dataframe thead th {\n",
       "        text-align: right;\n",
       "    }\n",
       "</style>\n",
       "<table border=\"1\" class=\"dataframe\">\n",
       "  <thead>\n",
       "    <tr style=\"text-align: right;\">\n",
       "      <th></th>\n",
       "      <th>name</th>\n",
       "      <th>season</th>\n",
       "      <th>new_rating</th>\n",
       "    </tr>\n",
       "  </thead>\n",
       "  <tbody>\n",
       "    <tr>\n",
       "      <th>9</th>\n",
       "      <td>The Bicameral Mind</td>\n",
       "      <td>1</td>\n",
       "      <td>8.7</td>\n",
       "    </tr>\n",
       "    <tr>\n",
       "      <th>17</th>\n",
       "      <td>Kiksuya</td>\n",
       "      <td>2</td>\n",
       "      <td>8.7</td>\n",
       "    </tr>\n",
       "    <tr>\n",
       "      <th>20</th>\n",
       "      <td>Parce Domine</td>\n",
       "      <td>3</td>\n",
       "      <td>8.0</td>\n",
       "    </tr>\n",
       "    <tr>\n",
       "      <th>32</th>\n",
       "      <td>Zhuangzi</td>\n",
       "      <td>4</td>\n",
       "      <td>7.8</td>\n",
       "    </tr>\n",
       "  </tbody>\n",
       "</table>\n",
       "</div>"
      ],
      "text/plain": [
       "                  name  season  new_rating\n",
       "9   The Bicameral Mind       1         8.7\n",
       "17             Kiksuya       2         8.7\n",
       "20        Parce Domine       3         8.0\n",
       "32            Zhuangzi       4         7.8"
      ]
     },
     "execution_count": 120,
     "metadata": {},
     "output_type": "execute_result"
    }
   ],
   "source": [
    "features = ['name','season','new_rating']\n",
    "most_popular_episodes[features]"
   ]
  },
  {
   "cell_type": "markdown",
   "id": "62e28967",
   "metadata": {},
   "source": [
    "### Question 9 -\n",
    "\n",
    "**Write a program to read the data from the following link, perform data analysis and answer the following questions**\n",
    "\n",
    "**Note**\n",
    "\n",
    "1. Write code comments wherever required for code understanding\n",
    "\n",
    "**Link** - https://data.wa.gov/api/views/f6w7-q2d2/rows.csv?accessType=DOWNLOAD\n",
    "    \n",
    "Insights to be drawn -\n",
    "- Get all the cars and their types that do not qualify for clean alternative fuel vehicle\n",
    "- Get all TESLA cars with the model year, and model type made in Bothell City.\n",
    "- Get all the cars that have an electric range of more than 100, and were made after 2015\n",
    "- Draw plots to show the distribution between city and electric vehicle type"
   ]
  },
  {
   "cell_type": "code",
   "execution_count": 121,
   "id": "e45fdf79",
   "metadata": {},
   "outputs": [],
   "source": [
    "link = 'https://data.wa.gov/api/views/f6w7-q2d2/rows.csv?accessType=DOWNLOAD'"
   ]
  },
  {
   "cell_type": "code",
   "execution_count": 122,
   "id": "ead8d5a3",
   "metadata": {},
   "outputs": [],
   "source": [
    "import requests\n",
    "\n",
    "def download_data(link, output_file):\n",
    "    \"\"\"\n",
    "    This function downloads data from a URL and saves it as a CSV file.\n",
    "    ==================================================================\n",
    "    Args:\n",
    "    Args:\n",
    "    string: Input string->link,output file name\n",
    "    \n",
    "    Returns:\n",
    "    csv file\n",
    "    \"\"\"\n",
    "    try:\n",
    "        # Download the data from the provided URL\n",
    "        response = requests.get(link)\n",
    "        response.raise_for_status()  # Check if the request was successful\n",
    "        \n",
    "        # Save the response content as a CSV file\n",
    "        with open(output_file, 'wb') as file:\n",
    "            file.write(response.content)\n",
    "        \n",
    "        print(f\"Data downloaded and saved as '{output_file}'\")\n",
    "              \n",
    "    except:\n",
    "        print(\"An error occured\")\n"
   ]
  },
  {
   "cell_type": "code",
   "execution_count": 123,
   "id": "85c71e74",
   "metadata": {},
   "outputs": [
    {
     "name": "stdout",
     "output_type": "stream",
     "text": [
      "Data downloaded and saved as 'Electric_Vehicle_Population_Data.csv'\n"
     ]
    }
   ],
   "source": [
    "link = 'https://data.wa.gov/api/views/f6w7-q2d2/rows.csv?accessType=DOWNLOAD'\n",
    "output_file = 'Electric_Vehicle_Population_Data.csv'\n",
    "\n",
    "download_data(link, output_file)"
   ]
  },
  {
   "cell_type": "code",
   "execution_count": 124,
   "id": "ef895b33",
   "metadata": {},
   "outputs": [],
   "source": [
    "data = pd.read_csv('../python/Electric_Vehicle_Population_Data.csv')"
   ]
  },
  {
   "cell_type": "code",
   "execution_count": 125,
   "id": "e1037f98",
   "metadata": {},
   "outputs": [
    {
     "data": {
      "text/html": [
       "<div>\n",
       "<style scoped>\n",
       "    .dataframe tbody tr th:only-of-type {\n",
       "        vertical-align: middle;\n",
       "    }\n",
       "\n",
       "    .dataframe tbody tr th {\n",
       "        vertical-align: top;\n",
       "    }\n",
       "\n",
       "    .dataframe thead th {\n",
       "        text-align: right;\n",
       "    }\n",
       "</style>\n",
       "<table border=\"1\" class=\"dataframe\">\n",
       "  <thead>\n",
       "    <tr style=\"text-align: right;\">\n",
       "      <th></th>\n",
       "      <th>VIN (1-10)</th>\n",
       "      <th>County</th>\n",
       "      <th>City</th>\n",
       "      <th>State</th>\n",
       "      <th>Postal Code</th>\n",
       "      <th>Model Year</th>\n",
       "      <th>Make</th>\n",
       "      <th>Model</th>\n",
       "      <th>Electric Vehicle Type</th>\n",
       "      <th>Clean Alternative Fuel Vehicle (CAFV) Eligibility</th>\n",
       "      <th>Electric Range</th>\n",
       "      <th>Base MSRP</th>\n",
       "      <th>Legislative District</th>\n",
       "      <th>DOL Vehicle ID</th>\n",
       "      <th>Vehicle Location</th>\n",
       "      <th>Electric Utility</th>\n",
       "      <th>2020 Census Tract</th>\n",
       "    </tr>\n",
       "  </thead>\n",
       "  <tbody>\n",
       "    <tr>\n",
       "      <th>0</th>\n",
       "      <td>5YJXCAE26J</td>\n",
       "      <td>Yakima</td>\n",
       "      <td>Yakima</td>\n",
       "      <td>WA</td>\n",
       "      <td>98908.0</td>\n",
       "      <td>2018</td>\n",
       "      <td>TESLA</td>\n",
       "      <td>MODEL X</td>\n",
       "      <td>Battery Electric Vehicle (BEV)</td>\n",
       "      <td>Clean Alternative Fuel Vehicle Eligible</td>\n",
       "      <td>238</td>\n",
       "      <td>0</td>\n",
       "      <td>14.0</td>\n",
       "      <td>141151601</td>\n",
       "      <td>POINT (-120.56916 46.58514)</td>\n",
       "      <td>PACIFICORP</td>\n",
       "      <td>5.307700e+10</td>\n",
       "    </tr>\n",
       "    <tr>\n",
       "      <th>1</th>\n",
       "      <td>JHMZC5F37M</td>\n",
       "      <td>Kitsap</td>\n",
       "      <td>Poulsbo</td>\n",
       "      <td>WA</td>\n",
       "      <td>98370.0</td>\n",
       "      <td>2021</td>\n",
       "      <td>HONDA</td>\n",
       "      <td>CLARITY</td>\n",
       "      <td>Plug-in Hybrid Electric Vehicle (PHEV)</td>\n",
       "      <td>Clean Alternative Fuel Vehicle Eligible</td>\n",
       "      <td>47</td>\n",
       "      <td>0</td>\n",
       "      <td>23.0</td>\n",
       "      <td>171566447</td>\n",
       "      <td>POINT (-122.64681 47.73689)</td>\n",
       "      <td>PUGET SOUND ENERGY INC</td>\n",
       "      <td>5.303509e+10</td>\n",
       "    </tr>\n",
       "  </tbody>\n",
       "</table>\n",
       "</div>"
      ],
      "text/plain": [
       "   VIN (1-10)  County     City State  Postal Code  Model Year   Make    Model  \\\n",
       "0  5YJXCAE26J  Yakima   Yakima    WA      98908.0        2018  TESLA  MODEL X   \n",
       "1  JHMZC5F37M  Kitsap  Poulsbo    WA      98370.0        2021  HONDA  CLARITY   \n",
       "\n",
       "                    Electric Vehicle Type  \\\n",
       "0          Battery Electric Vehicle (BEV)   \n",
       "1  Plug-in Hybrid Electric Vehicle (PHEV)   \n",
       "\n",
       "  Clean Alternative Fuel Vehicle (CAFV) Eligibility  Electric Range  \\\n",
       "0           Clean Alternative Fuel Vehicle Eligible             238   \n",
       "1           Clean Alternative Fuel Vehicle Eligible              47   \n",
       "\n",
       "   Base MSRP  Legislative District  DOL Vehicle ID  \\\n",
       "0          0                  14.0       141151601   \n",
       "1          0                  23.0       171566447   \n",
       "\n",
       "              Vehicle Location        Electric Utility  2020 Census Tract  \n",
       "0  POINT (-120.56916 46.58514)              PACIFICORP       5.307700e+10  \n",
       "1  POINT (-122.64681 47.73689)  PUGET SOUND ENERGY INC       5.303509e+10  "
      ]
     },
     "execution_count": 125,
     "metadata": {},
     "output_type": "execute_result"
    }
   ],
   "source": [
    "data.head(2)"
   ]
  },
  {
   "cell_type": "markdown",
   "id": "67435a22",
   "metadata": {},
   "source": [
    "#### Get all the cars and their types that do not qualify for clean alternative fuel vehicle"
   ]
  },
  {
   "cell_type": "code",
   "execution_count": 126,
   "id": "0077e710",
   "metadata": {},
   "outputs": [],
   "source": [
    "cars_not_qaulify = data[data['Clean Alternative Fuel Vehicle (CAFV) Eligibility'] != 'Clean Alternative Fuel Vehicle Eligible']"
   ]
  },
  {
   "cell_type": "code",
   "execution_count": 127,
   "id": "2896362a",
   "metadata": {},
   "outputs": [],
   "source": [
    "#cars_not_qaulify[['Make','Model']]"
   ]
  },
  {
   "cell_type": "code",
   "execution_count": 128,
   "id": "774b184c",
   "metadata": {},
   "outputs": [
    {
     "data": {
      "text/plain": [
       "array(['Clean Alternative Fuel Vehicle Eligible',\n",
       "       'Not eligible due to low battery range',\n",
       "       'Eligibility unknown as battery range has not been researched'],\n",
       "      dtype=object)"
      ]
     },
     "execution_count": 128,
     "metadata": {},
     "output_type": "execute_result"
    }
   ],
   "source": [
    "data['Clean Alternative Fuel Vehicle (CAFV) Eligibility'].unique()"
   ]
  },
  {
   "cell_type": "code",
   "execution_count": 129,
   "id": "85b0024a",
   "metadata": {},
   "outputs": [
    {
     "data": {
      "text/plain": [
       "array(['FORD', 'AUDI', 'TESLA', 'KIA', 'BMW', 'TOYOTA', 'JEEP', 'VOLVO',\n",
       "       'CHEVROLET', 'PORSCHE', 'HYUNDAI', 'MERCEDES-BENZ', 'RIVIAN',\n",
       "       'VOLKSWAGEN', 'NISSAN', 'JAGUAR', 'LINCOLN', 'MITSUBISHI', 'MINI',\n",
       "       'POLESTAR', 'GENESIS', 'SUBARU', 'LUCID', 'LEXUS', 'CADILLAC',\n",
       "       'LAND ROVER', 'HONDA', 'BENTLEY'], dtype=object)"
      ]
     },
     "execution_count": 129,
     "metadata": {},
     "output_type": "execute_result"
    }
   ],
   "source": [
    "cars_not_qaulify['Make'].unique()"
   ]
  },
  {
   "cell_type": "code",
   "execution_count": 130,
   "id": "a96599e0",
   "metadata": {},
   "outputs": [
    {
     "data": {
      "text/plain": [
       "array(['FUSION', 'Q5 E', 'C-MAX', 'MODEL Y', 'NIRO', 'X5', 'PRIUS PRIME',\n",
       "       'WRANGLER', 'XC60', 'XC90', 'MODEL 3', 'A3', 'OPTIMA', 'BOLT EV',\n",
       "       'PRIUS PLUG-IN', 'MUSTANG MACH-E', 'BOLT EUV', 'CAYENNE', 'X3',\n",
       "       'KONA ELECTRIC', '530E', 'EQB-CLASS', 'MODEL X', 'R1T', 'TRANSIT',\n",
       "       'ID.4', 'LEAF', 'I-PACE', 'AVIATOR', 'C-CLASS', 'OUTLANDER',\n",
       "       'SONATA', 'GRAND CHEROKEE', 'IONIQ 5', 'E-TRON', 'EV6',\n",
       "       'EQS-CLASS SEDAN', 'MODEL S', 'R1S', 'IX', 'I8', '330E',\n",
       "       'COUNTRYMAN', nan, 'S60', 'F-150', 'XC40', 'IONIQ', 'TAYCAN', 'Q5',\n",
       "       'GLE-CLASS', 'HARDTOP', 'I4', 'IONIQ 6', 'PS2', 'PANAMERA',\n",
       "       'GLC-CLASS', 'Q4', 'C40', 'CORSAIR', 'I3', 'S90', 'GV60',\n",
       "       'E-TRON GT', 'CROSSTREK', 'SOLTERRA', 'AIR', 'ARIYA',\n",
       "       'EQS-CLASS SUV', 'RZ 450E', 'LYRIQ', 'RS E-TRON GT', 'V60', 'G80',\n",
       "       'RANGE ROVER SPORT', 'BZ4X', 'EQE-CLASS SEDAN', 'E-TRON SPORTBACK',\n",
       "       'ACCORD', '740E', 'RANGE ROVER', 'S-CLASS', 'EDV', '918',\n",
       "       'SOUL EV', 'A7', '745E', 'A8 E', 'FLYING SPUR', '745LE',\n",
       "       'BENTAYGA'], dtype=object)"
      ]
     },
     "execution_count": 130,
     "metadata": {},
     "output_type": "execute_result"
    }
   ],
   "source": [
    "cars_not_qaulify['Model'].unique()"
   ]
  },
  {
   "cell_type": "markdown",
   "id": "3c8958e7",
   "metadata": {},
   "source": [
    "#### Get all TESLA cars with the model year, and model type made in Bothell City"
   ]
  },
  {
   "cell_type": "code",
   "execution_count": 131,
   "id": "39d9a568",
   "metadata": {},
   "outputs": [],
   "source": [
    "bothell_cars = data[(data['City'] == 'Bothell') & (data['Make'] == 'TESLA')]"
   ]
  },
  {
   "cell_type": "code",
   "execution_count": 132,
   "id": "cb08d469",
   "metadata": {},
   "outputs": [],
   "source": [
    "#bothell_cars[['Model Year']]"
   ]
  },
  {
   "cell_type": "code",
   "execution_count": 133,
   "id": "0ae7da31",
   "metadata": {},
   "outputs": [
    {
     "data": {
      "text/plain": [
       "array([2020, 2022, 2018, 2017, 2021, 2023, 2015, 2019, 2016, 2014, 2013,\n",
       "       2012], dtype=int64)"
      ]
     },
     "execution_count": 133,
     "metadata": {},
     "output_type": "execute_result"
    }
   ],
   "source": [
    "bothell_cars['Model Year'].unique()"
   ]
  },
  {
   "cell_type": "code",
   "execution_count": 134,
   "id": "33247b1d",
   "metadata": {},
   "outputs": [],
   "source": [
    "#bothell_cars[['Model']]"
   ]
  },
  {
   "cell_type": "code",
   "execution_count": 135,
   "id": "d5e76e19",
   "metadata": {},
   "outputs": [
    {
     "data": {
      "text/plain": [
       "array(['MODEL 3', 'MODEL Y', 'MODEL X', 'MODEL S'], dtype=object)"
      ]
     },
     "execution_count": 135,
     "metadata": {},
     "output_type": "execute_result"
    }
   ],
   "source": [
    "bothell_cars['Model'].unique()"
   ]
  },
  {
   "cell_type": "markdown",
   "id": "9842f69c",
   "metadata": {},
   "source": [
    "#### Get all the cars that have an electric range of more than 100, and were made after 2015"
   ]
  },
  {
   "cell_type": "code",
   "execution_count": 136,
   "id": "6d1c6d0d",
   "metadata": {},
   "outputs": [
    {
     "data": {
      "text/html": [
       "<div>\n",
       "<style scoped>\n",
       "    .dataframe tbody tr th:only-of-type {\n",
       "        vertical-align: middle;\n",
       "    }\n",
       "\n",
       "    .dataframe tbody tr th {\n",
       "        vertical-align: top;\n",
       "    }\n",
       "\n",
       "    .dataframe thead th {\n",
       "        text-align: right;\n",
       "    }\n",
       "</style>\n",
       "<table border=\"1\" class=\"dataframe\">\n",
       "  <thead>\n",
       "    <tr style=\"text-align: right;\">\n",
       "      <th></th>\n",
       "      <th>VIN (1-10)</th>\n",
       "      <th>County</th>\n",
       "      <th>City</th>\n",
       "      <th>State</th>\n",
       "      <th>Postal Code</th>\n",
       "      <th>Model Year</th>\n",
       "      <th>Make</th>\n",
       "      <th>Model</th>\n",
       "      <th>Electric Vehicle Type</th>\n",
       "      <th>Clean Alternative Fuel Vehicle (CAFV) Eligibility</th>\n",
       "      <th>Electric Range</th>\n",
       "      <th>Base MSRP</th>\n",
       "      <th>Legislative District</th>\n",
       "      <th>DOL Vehicle ID</th>\n",
       "      <th>Vehicle Location</th>\n",
       "      <th>Electric Utility</th>\n",
       "      <th>2020 Census Tract</th>\n",
       "    </tr>\n",
       "  </thead>\n",
       "  <tbody>\n",
       "    <tr>\n",
       "      <th>0</th>\n",
       "      <td>5YJXCAE26J</td>\n",
       "      <td>Yakima</td>\n",
       "      <td>Yakima</td>\n",
       "      <td>WA</td>\n",
       "      <td>98908.0</td>\n",
       "      <td>2018</td>\n",
       "      <td>TESLA</td>\n",
       "      <td>MODEL X</td>\n",
       "      <td>Battery Electric Vehicle (BEV)</td>\n",
       "      <td>Clean Alternative Fuel Vehicle Eligible</td>\n",
       "      <td>238</td>\n",
       "      <td>0</td>\n",
       "      <td>14.0</td>\n",
       "      <td>141151601</td>\n",
       "      <td>POINT (-120.56916 46.58514)</td>\n",
       "      <td>PACIFICORP</td>\n",
       "      <td>5.307700e+10</td>\n",
       "    </tr>\n",
       "  </tbody>\n",
       "</table>\n",
       "</div>"
      ],
      "text/plain": [
       "   VIN (1-10)  County    City State  Postal Code  Model Year   Make    Model  \\\n",
       "0  5YJXCAE26J  Yakima  Yakima    WA      98908.0        2018  TESLA  MODEL X   \n",
       "\n",
       "            Electric Vehicle Type  \\\n",
       "0  Battery Electric Vehicle (BEV)   \n",
       "\n",
       "  Clean Alternative Fuel Vehicle (CAFV) Eligibility  Electric Range  \\\n",
       "0           Clean Alternative Fuel Vehicle Eligible             238   \n",
       "\n",
       "   Base MSRP  Legislative District  DOL Vehicle ID  \\\n",
       "0          0                  14.0       141151601   \n",
       "\n",
       "              Vehicle Location Electric Utility  2020 Census Tract  \n",
       "0  POINT (-120.56916 46.58514)       PACIFICORP       5.307700e+10  "
      ]
     },
     "execution_count": 136,
     "metadata": {},
     "output_type": "execute_result"
    }
   ],
   "source": [
    "data.head(1)"
   ]
  },
  {
   "cell_type": "code",
   "execution_count": 137,
   "id": "453f72f5",
   "metadata": {},
   "outputs": [],
   "source": [
    "cars = data[(data['Electric Range'] > 100) & (data['Model Year'] > 2015)]"
   ]
  },
  {
   "cell_type": "code",
   "execution_count": 138,
   "id": "ce377ce3",
   "metadata": {},
   "outputs": [],
   "source": [
    "#cars[['Make','Model']]"
   ]
  },
  {
   "cell_type": "markdown",
   "id": "e9de021d",
   "metadata": {},
   "source": [
    "#### Draw plots to show the distribution between city and electric vehicle type"
   ]
  },
  {
   "cell_type": "code",
   "execution_count": 139,
   "id": "143c9bf7",
   "metadata": {},
   "outputs": [],
   "source": [
    "import matplotlib.pyplot as plt\n",
    "import seaborn as sns"
   ]
  },
  {
   "cell_type": "code",
   "execution_count": 140,
   "id": "ba12426f",
   "metadata": {},
   "outputs": [
    {
     "data": {
      "text/plain": [
       "656"
      ]
     },
     "execution_count": 140,
     "metadata": {},
     "output_type": "execute_result"
    }
   ],
   "source": [
    "data['City'].nunique()"
   ]
  },
  {
   "cell_type": "code",
   "execution_count": 141,
   "id": "fd84d211",
   "metadata": {},
   "outputs": [
    {
     "data": {
      "image/png": "[encoded data removed]",
      "text/plain": [
       "<Figure size 1440x720 with 1 Axes>"
      ]
     },
     "metadata": {
      "needs_background": "light"
     },
     "output_type": "display_data"
    }
   ],
   "source": [
    "plt.figure(figsize=(20,10))\n",
    "sns.countplot(data=data[0:500], x='City', hue='Electric Vehicle Type')\n",
    "plt.title('Distribution of Electric Vehicle Types by City')\n",
    "plt.xlabel('City')\n",
    "plt.ylabel('Count')\n",
    "plt.xticks(rotation=90)\n",
    "plt.legend(title='Electric Vehicle Type')\n",
    "plt.show()"
   ]
  },
  {
   "cell_type": "markdown",
   "id": "26759ab9",
   "metadata": {},
   "source": [
    "### Question 10\n",
    "\n",
    "**Write a program to count the number of verbs, nouns, pronouns, and adjectives in a given particular phrase or paragraph, and return their respective count as a dictionary.**\n",
    "\n",
    "**Note**\n",
    "\n",
    "1. Write code comments wherever required for code\n",
    "2. You have to write at least 2 additional test cases in which your program will run successfully and provide an explanation for the same."
   ]
  },
  {
   "cell_type": "code",
   "execution_count": 142,
   "id": "66b8f6b9",
   "metadata": {},
   "outputs": [
    {
     "name": "stderr",
     "output_type": "stream",
     "text": [
      "[nltk_data] Downloading package averaged_perceptron_tagger to\n",
      "[nltk_data]     C:\\Users\\anike\\AppData\\Roaming\\nltk_data...\n",
      "[nltk_data]   Package averaged_perceptron_tagger is already up-to-\n",
      "[nltk_data]       date!\n"
     ]
    },
    {
     "name": "stdout",
     "output_type": "stream",
     "text": [
      "{'verbs': 1, 'nouns': 3, 'pronouns': 0, 'adjectives': 2}\n"
     ]
    }
   ],
   "source": [
    "import nltk\n",
    "nltk.download('averaged_perceptron_tagger')\n",
    "from nltk.tokenize import word_tokenize\n",
    "from nltk.tag import pos_tag\n",
    "\n",
    "def count_pos_tags(text):\n",
    "    # Tokenize the text into words\n",
    "    words = word_tokenize(text)\n",
    "    \n",
    "    # Perform Part-of-Speech tagging\n",
    "    tagged_words = pos_tag(words)\n",
    "    \n",
    "    # Initialize counters\n",
    "    verb_count = 0\n",
    "    noun_count = 0\n",
    "    pronoun_count = 0\n",
    "    adjective_count = 0\n",
    "    \n",
    "    # Count the number of verbs, nouns, pronouns, and adjectives\n",
    "    for word, tag in tagged_words:\n",
    "        if tag.startswith('VB'):\n",
    "            verb_count += 1\n",
    "        elif tag.startswith('NN'):\n",
    "            noun_count += 1\n",
    "        elif tag.startswith('PRP'):\n",
    "            pronoun_count += 1\n",
    "        elif tag.startswith('JJ'):\n",
    "            adjective_count += 1\n",
    "    \n",
    "    # Create a dictionary with the counts\n",
    "    counts = {\n",
    "        'verbs': verb_count,\n",
    "        'nouns': noun_count,\n",
    "        'pronouns': pronoun_count,\n",
    "        'adjectives': adjective_count\n",
    "    }\n",
    "    \n",
    "    return counts\n",
    "\n",
    "# Example usage\n",
    "text = \"The quick brown fox jumps over the lazy dog.\"\n",
    "result = count_pos_tags(text)\n",
    "print(result)\n"
   ]
  },
  {
   "cell_type": "code",
   "execution_count": null,
   "id": "9ae472c7",
   "metadata": {},
   "outputs": [],
   "source": []
  }
 ],
 "metadata": {
  "kernelspec": {
   "display_name": "Python 3 (ipykernel)",
   "language": "python",
   "name": "python3"
  },
  "language_info": {
   "codemirror_mode": {
    "name": "ipython",
    "version": 3
   },
   "file_extension": ".py",
   "mimetype": "text/x-python",
   "name": "python",
   "nbconvert_exporter": "python",
   "pygments_lexer": "ipython3",
   "version": "3.9.12"
  }
 },
 "nbformat": 4,
 "nbformat_minor": 5
}
